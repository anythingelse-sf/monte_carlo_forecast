{
 "cells": [
  {
   "cell_type": "code",
   "execution_count": 1,
   "metadata": {},
   "outputs": [],
   "source": [
    "# Import the required libraries and dependencies\n",
    "import os\n",
    "import requests\n",
    "import json\n",
    "import numpy as ny\n",
    "import pandas as pd\n",
    "from dotenv import load_dotenv\n",
    "import alpaca_trade_api as tradeapi\n",
    "from MCForecastTools import MCSimulation\n",
    "import matplotlib.pyplot as plt"
   ]
  },
  {
   "cell_type": "code",
   "execution_count": 16,
   "metadata": {},
   "outputs": [
    {
     "name": "stderr",
     "output_type": "stream",
     "text": [
      "Python-dotenv could not parse statement starting at line 1\n"
     ]
    },
    {
     "data": {
      "text/plain": [
       "True"
      ]
     },
     "execution_count": 16,
     "metadata": {},
     "output_type": "execute_result"
    }
   ],
   "source": [
    "#Pull the .env file into the current directory\n",
    "load_dotenv()"
   ]
  },
  {
   "cell_type": "markdown",
   "metadata": {},
   "source": [
    "## Set up the example"
   ]
  },
  {
   "cell_type": "code",
   "execution_count": 5,
   "metadata": {},
   "outputs": [],
   "source": [
    "# The monthly amount for the member's household income\n",
    "monthly_income = 12000"
   ]
  },
  {
   "cell_type": "code",
   "execution_count": 6,
   "metadata": {},
   "outputs": [],
   "source": [
    "# Set the current number of coins for each cryptocurrency asset held in the portfolio.\n",
    "btc_coins = 1.2\n",
    "eth_coins = 5.3"
   ]
  },
  {
   "cell_type": "markdown",
   "metadata": {},
   "source": [
    "## Part 1: Evaluate the Cryptocurrency Wallet by Using the Requests Library"
   ]
  },
  {
   "cell_type": "markdown",
   "metadata": {},
   "source": [
    "#### Review the endpoint URLs for the API calls to Free Crypto API in order to get the current pricing information for both BTC and ETH."
   ]
  },
  {
   "cell_type": "code",
   "execution_count": 7,
   "metadata": {},
   "outputs": [],
   "source": [
    "# The Free Crypto API Call endpoint URLs for the held cryptocurrency assets\n",
    "btc_url = \"https://api.alternative.me/v2/ticker/Bitcoin/?convert=USD\"\n",
    "eth_url = \"https://api.alternative.me/v2/ticker/Ethereum/?convert=USD\""
   ]
  },
  {
   "cell_type": "markdown",
   "metadata": {},
   "source": [
    "#### Use the Requests library to get the current price (in US dollars) of Bitcoin (BTC)by using the API endpoints that the starter code supplied."
   ]
  },
  {
   "cell_type": "code",
   "execution_count": 8,
   "metadata": {},
   "outputs": [
    {
     "name": "stdout",
     "output_type": "stream",
     "text": [
      "{\n",
      "   \"data\": {\n",
      "      \"1\": {\n",
      "         \"circulating_supply\": 18873175,\n",
      "         \"id\": 1,\n",
      "         \"last_updated\": 1636913055,\n",
      "         \"max_supply\": 21000000,\n",
      "         \"name\": \"Bitcoin\",\n",
      "         \"quotes\": {\n",
      "            \"USD\": {\n",
      "               \"market_cap\": 1216135049273,\n",
      "               \"percent_change_1h\": 0.97711939939849,\n",
      "               \"percent_change_24h\": -0.413355544809254,\n",
      "               \"percent_change_7d\": 4.67378253856206,\n",
      "               \"percentage_change_1h\": 0.97711939939849,\n",
      "               \"percentage_change_24h\": -0.413355544809254,\n",
      "               \"percentage_change_7d\": 4.67378253856206,\n",
      "               \"price\": 64543.0,\n",
      "               \"volume_24h\": 25741249452\n",
      "            }\n",
      "         },\n",
      "         \"rank\": 1,\n",
      "         \"symbol\": \"BTC\",\n",
      "         \"total_supply\": 18873175,\n",
      "         \"website_slug\": \"bitcoin\"\n",
      "      }\n",
      "   },\n",
      "   \"metadata\": {\n",
      "      \"error\": null,\n",
      "      \"num_cryptocurrencies\": 3105,\n",
      "      \"timestamp\": 1636913055\n",
      "   }\n",
      "}\n"
     ]
    }
   ],
   "source": [
    "# Using the Python requests library, make an API call to access the current price of BTC\n",
    "btc_response = requests.get(btc_url).json()\n",
    "\n",
    "# Use the json.dumps function to review response data \n",
    "# Set the indent and sort_keys parameters to make the response object readable\n",
    "print(json.dumps(btc_response, indent=3, sort_keys=True))"
   ]
  },
  {
   "cell_type": "markdown",
   "metadata": {},
   "source": [
    "#### Navigate the JSON response object to access the current price of each coin, and store each in a variable."
   ]
  },
  {
   "cell_type": "code",
   "execution_count": 9,
   "metadata": {},
   "outputs": [
    {
     "data": {
      "text/plain": [
       "64543.0"
      ]
     },
     "execution_count": 9,
     "metadata": {},
     "output_type": "execute_result"
    }
   ],
   "source": [
    "# Navigate the BTC response object to access the current price of BTC\n",
    "btc_price = btc_response[\"data\"]['1']['quotes']['USD'][\"price\"]\n",
    "\n",
    "# Print the current price of BTC\n",
    "btc_price"
   ]
  },
  {
   "cell_type": "markdown",
   "metadata": {},
   "source": [
    "#### Repeat for ETH"
   ]
  },
  {
   "cell_type": "code",
   "execution_count": 10,
   "metadata": {},
   "outputs": [
    {
     "name": "stdout",
     "output_type": "stream",
     "text": [
      "{\n",
      "   \"data\": {\n",
      "      \"1027\": {\n",
      "         \"circulating_supply\": 118341071,\n",
      "         \"id\": 1027,\n",
      "         \"last_updated\": 1636913062,\n",
      "         \"max_supply\": 0,\n",
      "         \"name\": \"Ethereum\",\n",
      "         \"quotes\": {\n",
      "            \"USD\": {\n",
      "               \"market_cap\": 542815608801,\n",
      "               \"percent_change_1h\": 0.71521086914067,\n",
      "               \"percent_change_24h\": -2.33474292702838,\n",
      "               \"percent_change_7d\": 1.28054044435339,\n",
      "               \"percentage_change_1h\": 0.71521086914067,\n",
      "               \"percentage_change_24h\": -2.33474292702838,\n",
      "               \"percentage_change_7d\": 1.28054044435339,\n",
      "               \"price\": 4585.08,\n",
      "               \"volume_24h\": 12965574447\n",
      "            }\n",
      "         },\n",
      "         \"rank\": 2,\n",
      "         \"symbol\": \"ETH\",\n",
      "         \"total_supply\": 118341071,\n",
      "         \"website_slug\": \"ethereum\"\n",
      "      }\n",
      "   },\n",
      "   \"metadata\": {\n",
      "      \"error\": null,\n",
      "      \"num_cryptocurrencies\": 3105,\n",
      "      \"timestamp\": 1636913062\n",
      "   }\n",
      "}\n"
     ]
    }
   ],
   "source": [
    "# Using the Python requests library, make an API call to access the current price ETH\n",
    "eth_response = requests.get(eth_url).json()\n",
    "\n",
    "# Use the json.dumps function to review the response data from the API call\n",
    "# Use the indent and sort_keys parameters to make the response object readable\n",
    "print(json.dumps(eth_response, indent=3, sort_keys=True))"
   ]
  },
  {
   "cell_type": "code",
   "execution_count": 11,
   "metadata": {},
   "outputs": [
    {
     "data": {
      "text/plain": [
       "4585.08"
      ]
     },
     "execution_count": 11,
     "metadata": {},
     "output_type": "execute_result"
    }
   ],
   "source": [
    "# Navigate the ETH response object to access the current price of ETH\n",
    "eth_price = eth_response['data']['1027']['quotes']['USD']['price']\n",
    "\n",
    "# Print the current price of ETH\n",
    "eth_price"
   ]
  },
  {
   "cell_type": "markdown",
   "metadata": {},
   "source": [
    "### Calculate the value, in US dollars, of the current amount of each cryptocurrency and of the entire cryptocurrency wallet."
   ]
  },
  {
   "cell_type": "code",
   "execution_count": 12,
   "metadata": {},
   "outputs": [
    {
     "data": {
      "text/plain": [
       "pandas.core.series.Series"
      ]
     },
     "execution_count": 12,
     "metadata": {},
     "output_type": "execute_result"
    }
   ],
   "source": [
    "# Build a Series to hold our BTC and ETH values\n",
    "btc_value=pd.Series(data=[btc_coins, btc_price, (btc_coins*btc_price)], index= ['coins', 'curr_mkt_price', 'total value'])\n",
    "type(btc_value)"
   ]
  },
  {
   "cell_type": "code",
   "execution_count": 13,
   "metadata": {},
   "outputs": [
    {
     "data": {
      "text/plain": [
       "coins                 5.300\n",
       "curr_mkt_price     4585.080\n",
       "total value       24300.924\n",
       "dtype: float64"
      ]
     },
     "execution_count": 13,
     "metadata": {},
     "output_type": "execute_result"
    }
   ],
   "source": [
    "# Compute the current value of the BTC holding \n",
    "eth_value=pd.Series(data=[eth_coins, eth_price, (eth_coins*eth_price)], index= ['coins', 'curr_mkt_price', 'total value'])\n",
    "eth_value"
   ]
  },
  {
   "cell_type": "code",
   "execution_count": 14,
   "metadata": {},
   "outputs": [
    {
     "data": {
      "text/html": [
       "<div>\n",
       "<style scoped>\n",
       "    .dataframe tbody tr th:only-of-type {\n",
       "        vertical-align: middle;\n",
       "    }\n",
       "\n",
       "    .dataframe tbody tr th {\n",
       "        vertical-align: top;\n",
       "    }\n",
       "\n",
       "    .dataframe thead th {\n",
       "        text-align: right;\n",
       "    }\n",
       "</style>\n",
       "<table border=\"1\" class=\"dataframe\">\n",
       "  <thead>\n",
       "    <tr style=\"text-align: right;\">\n",
       "      <th></th>\n",
       "      <th>coins</th>\n",
       "      <th>curr_mkt_price</th>\n",
       "      <th>total value</th>\n",
       "    </tr>\n",
       "  </thead>\n",
       "  <tbody>\n",
       "    <tr>\n",
       "      <th>btc</th>\n",
       "      <td>1.2</td>\n",
       "      <td>64543.00</td>\n",
       "      <td>77451.600</td>\n",
       "    </tr>\n",
       "    <tr>\n",
       "      <th>eth</th>\n",
       "      <td>5.3</td>\n",
       "      <td>4585.08</td>\n",
       "      <td>24300.924</td>\n",
       "    </tr>\n",
       "  </tbody>\n",
       "</table>\n",
       "</div>"
      ],
      "text/plain": [
       "     coins  curr_mkt_price  total value\n",
       "btc    1.2        64543.00    77451.600\n",
       "eth    5.3         4585.08    24300.924"
      ]
     },
     "execution_count": 14,
     "metadata": {},
     "output_type": "execute_result"
    }
   ],
   "source": [
    "# Compute the total value of the cryptocurrency wallet\n",
    "# Add the value of the BTC holding to the value of the ETH holding\n",
    "crypto_value= pd.concat([btc_value , eth_value],axis=1)\n",
    "\n",
    "# Print current cryptocurrency wallet balance\n",
    "crypto_value= crypto_value.rename(columns={0:'btc',1:'eth'})\n",
    "crypto_value=crypto_value.transpose()\n",
    "crypto_value"
   ]
  },
  {
   "cell_type": "code",
   "execution_count": 15,
   "metadata": {},
   "outputs": [
    {
     "data": {
      "text/plain": [
       "101752.52399999999"
      ]
     },
     "execution_count": 15,
     "metadata": {},
     "output_type": "execute_result"
    }
   ],
   "source": [
    "total_crypto_wallet=crypto_value['total value'].sum()\n",
    "total_crypto_wallet"
   ]
  },
  {
   "cell_type": "markdown",
   "metadata": {},
   "source": [
    "### Part 2: Evaluate the Stock and Bond Holdings by Using the Alpaca SDK\n",
    "\n",
    "#### Navigating the Alpaca response DataFrame, select the `SPY` and `AGG` closing prices, and store them as variables.\n",
    "\n",
    "#### Calculate the value, in US dollars, of the current amount of shares in each of the stock and bond portions of the portfolio, and print the results.\n"
   ]
  },
  {
   "cell_type": "markdown",
   "metadata": {},
   "source": [
    "#### Review the total number of shares held in both (SPY) and (AGG)."
   ]
  },
  {
   "cell_type": "code",
   "execution_count": 17,
   "metadata": {},
   "outputs": [],
   "source": [
    "# Current amount of shares held in both the stock (SPY) and bond (AGG) portion of the portfolio.\n",
    "spy_shares = 110\n",
    "agg_shares = 200"
   ]
  },
  {
   "cell_type": "markdown",
   "metadata": {},
   "source": [
    "#### Set the variables for the Alpaca API and secret keys. Using the Alpaca SDK, create the Alpaca `tradeapi.REST` object. In this object, include the parameters for the Alpaca API key, the secret key, and the version number."
   ]
  },
  {
   "cell_type": "code",
   "execution_count": 18,
   "metadata": {},
   "outputs": [],
   "source": [
    "# Set the variables for the Alpaca API and secret keys\n",
    "alpaca_key=os.getenv('alpaca_key')\n",
    "alpaca_secret_key=os.getenv('alpaca_secret_key')\n",
    "\n",
    "# Create the Alpaca tradeapi.REST object. Pass in as parameters the API key, secret key, and version number.\n",
    "alpaca = tradeapi.REST(\n",
    "alpaca_key,\n",
    "alpaca_secret_key,\n",
    "api_version='v2')"
   ]
  },
  {
   "cell_type": "markdown",
   "metadata": {},
   "source": [
    "#### Set the following parameters for the Alpaca API call:\n",
    "\n",
    "- `tickers`: Use the tickers for the member’s stock and bond holdings.\n",
    "\n",
    "- `timeframe`: Use a time frame of one day.\n",
    "\n",
    "- `start_date` and `end_date`: Use the same date for these parameters, and format them with the date of the previous weekday (or `2020-08-07`). This isto get the one closing price for the most-recent trading day.\n"
   ]
  },
  {
   "cell_type": "code",
   "execution_count": 19,
   "metadata": {},
   "outputs": [],
   "source": [
    "# Set the tickers for both the bond and stock portion of the portfolio\n",
    "tickers= [\"SPY\",\"AGG\"]\n",
    "\n",
    "# Set timeframe to 1D \n",
    "timeframe=\"1D\"\n",
    "\n",
    "# Format current date as ISO format\n",
    "# Set both the start and end date at the date of your prior weekday to provide the closing price of the previous trading day\n",
    "start_date=pd.Timestamp(\"2021-11-12\",tz=\"America/New_York\").isoformat()\n",
    "end_date=pd.Timestamp(\"2021-11-12\",tz=\"America/New_York\").isoformat()"
   ]
  },
  {
   "cell_type": "markdown",
   "metadata": {},
   "source": [
    "#### Get the current closing prices for `SPY` and `AGG` by using the Alpaca `get_barset` function. Format the response as a Pandas DataFrame by including the `df` property at the end of the `get_barset` function."
   ]
  },
  {
   "cell_type": "code",
   "execution_count": 22,
   "metadata": {},
   "outputs": [
    {
     "data": {
      "text/html": [
       "<div>\n",
       "<style scoped>\n",
       "    .dataframe tbody tr th:only-of-type {\n",
       "        vertical-align: middle;\n",
       "    }\n",
       "\n",
       "    .dataframe tbody tr th {\n",
       "        vertical-align: top;\n",
       "    }\n",
       "\n",
       "    .dataframe thead tr th {\n",
       "        text-align: left;\n",
       "    }\n",
       "\n",
       "    .dataframe thead tr:last-of-type th {\n",
       "        text-align: right;\n",
       "    }\n",
       "</style>\n",
       "<table border=\"1\" class=\"dataframe\">\n",
       "  <thead>\n",
       "    <tr>\n",
       "      <th></th>\n",
       "      <th colspan=\"5\" halign=\"left\">AGG</th>\n",
       "      <th colspan=\"5\" halign=\"left\">SPY</th>\n",
       "    </tr>\n",
       "    <tr>\n",
       "      <th></th>\n",
       "      <th>open</th>\n",
       "      <th>high</th>\n",
       "      <th>low</th>\n",
       "      <th>close</th>\n",
       "      <th>volume</th>\n",
       "      <th>open</th>\n",
       "      <th>high</th>\n",
       "      <th>low</th>\n",
       "      <th>close</th>\n",
       "      <th>volume</th>\n",
       "    </tr>\n",
       "    <tr>\n",
       "      <th>time</th>\n",
       "      <th></th>\n",
       "      <th></th>\n",
       "      <th></th>\n",
       "      <th></th>\n",
       "      <th></th>\n",
       "      <th></th>\n",
       "      <th></th>\n",
       "      <th></th>\n",
       "      <th></th>\n",
       "      <th></th>\n",
       "    </tr>\n",
       "  </thead>\n",
       "  <tbody>\n",
       "    <tr>\n",
       "      <th>2021-11-12 00:00:00-05:00</th>\n",
       "      <td>114.5</td>\n",
       "      <td>114.585</td>\n",
       "      <td>114.26</td>\n",
       "      <td>114.33</td>\n",
       "      <td>4398727</td>\n",
       "      <td>465.12</td>\n",
       "      <td>467.86</td>\n",
       "      <td>464.11</td>\n",
       "      <td>467.26</td>\n",
       "      <td>44677612</td>\n",
       "    </tr>\n",
       "  </tbody>\n",
       "</table>\n",
       "</div>"
      ],
      "text/plain": [
       "                             AGG                                       SPY  \\\n",
       "                            open     high     low   close   volume    open   \n",
       "time                                                                         \n",
       "2021-11-12 00:00:00-05:00  114.5  114.585  114.26  114.33  4398727  465.12   \n",
       "\n",
       "                                                             \n",
       "                             high     low   close    volume  \n",
       "time                                                         \n",
       "2021-11-12 00:00:00-05:00  467.86  464.11  467.26  44677612  "
      ]
     },
     "execution_count": 22,
     "metadata": {},
     "output_type": "execute_result"
    }
   ],
   "source": [
    "# Use the Alpaca get_barset function to get closing prices the portfolio. don't forget to add '.df' at the end.\n",
    "df_portfolio=alpaca.get_barset(\n",
    "tickers,\n",
    "timeframe,\n",
    "start=start_date,\n",
    "end=end_date,\n",
    ").df\n",
    "\n",
    "# Review the Alpaca DataFrame\n",
    "df_portfolio.head()"
   ]
  },
  {
   "cell_type": "markdown",
   "metadata": {},
   "source": [
    "#### Navigating the Alpaca response DataFrame and select the `SPY` and `AGG` closing prices."
   ]
  },
  {
   "cell_type": "code",
   "execution_count": 23,
   "metadata": {},
   "outputs": [
    {
     "data": {
      "text/html": [
       "<div>\n",
       "<style scoped>\n",
       "    .dataframe tbody tr th:only-of-type {\n",
       "        vertical-align: middle;\n",
       "    }\n",
       "\n",
       "    .dataframe tbody tr th {\n",
       "        vertical-align: top;\n",
       "    }\n",
       "\n",
       "    .dataframe thead th {\n",
       "        text-align: right;\n",
       "    }\n",
       "</style>\n",
       "<table border=\"1\" class=\"dataframe\">\n",
       "  <thead>\n",
       "    <tr style=\"text-align: right;\">\n",
       "      <th></th>\n",
       "      <th>AGG</th>\n",
       "      <th>SPY</th>\n",
       "    </tr>\n",
       "  </thead>\n",
       "  <tbody>\n",
       "    <tr>\n",
       "      <th>2021-11-12</th>\n",
       "      <td>114.33</td>\n",
       "      <td>467.26</td>\n",
       "    </tr>\n",
       "  </tbody>\n",
       "</table>\n",
       "</div>"
      ],
      "text/plain": [
       "               AGG     SPY\n",
       "2021-11-12  114.33  467.26"
      ]
     },
     "execution_count": 23,
     "metadata": {},
     "output_type": "execute_result"
    }
   ],
   "source": [
    "#Create an empty DataFrame for closing prices\n",
    "closing_prices_df = pd.DataFrame()\n",
    "\n",
    "# Get the closing prices of AGG and SPY\n",
    "closing_prices_df['AGG'] = df_portfolio[\"AGG\"]['close']\n",
    "closing_prices_df['SPY'] = df_portfolio[\"SPY\"]['close']\n",
    "\n",
    "# Drop the time component of the date\n",
    "closing_prices_df.index = closing_prices_df.index.date\n",
    "\n",
    "# Check your work\n",
    "closing_prices_df.head()"
   ]
  },
  {
   "cell_type": "markdown",
   "metadata": {},
   "source": [
    "#### Calculate the value, in US dollars, of the current amount of shares in each of the stock and bond portions of the portfolio, and print the results."
   ]
  },
  {
   "cell_type": "code",
   "execution_count": 80,
   "metadata": {},
   "outputs": [
    {
     "data": {
      "text/html": [
       "<div>\n",
       "<style scoped>\n",
       "    .dataframe tbody tr th:only-of-type {\n",
       "        vertical-align: middle;\n",
       "    }\n",
       "\n",
       "    .dataframe tbody tr th {\n",
       "        vertical-align: top;\n",
       "    }\n",
       "\n",
       "    .dataframe thead th {\n",
       "        text-align: right;\n",
       "    }\n",
       "</style>\n",
       "<table border=\"1\" class=\"dataframe\">\n",
       "  <thead>\n",
       "    <tr style=\"text-align: right;\">\n",
       "      <th></th>\n",
       "      <th>mkt price</th>\n",
       "      <th>shares</th>\n",
       "    </tr>\n",
       "  </thead>\n",
       "  <tbody>\n",
       "    <tr>\n",
       "      <th>AGG</th>\n",
       "      <td>114.33</td>\n",
       "      <td>200</td>\n",
       "    </tr>\n",
       "    <tr>\n",
       "      <th>SPY</th>\n",
       "      <td>467.26</td>\n",
       "      <td>110</td>\n",
       "    </tr>\n",
       "  </tbody>\n",
       "</table>\n",
       "</div>"
      ],
      "text/plain": [
       "     mkt price  shares\n",
       "AGG     114.33     200\n",
       "SPY     467.26     110"
      ]
     },
     "execution_count": 80,
     "metadata": {},
     "output_type": "execute_result"
    }
   ],
   "source": [
    "### Add the number of shares variable to the data frame\n",
    "### Calculate the total value of each position in the DataFrame\n",
    "new_sb_closing_prices_df=closing_prices_df.transpose()\n",
    "new_sb_closing_prices_df['shares']=[agg_shares,spy_shares]\n",
    "new_sb_closing_prices_df.columns=['mkt price', 'shares']\n",
    "new_sb_closing_prices_df.head()"
   ]
  },
  {
   "cell_type": "code",
   "execution_count": 82,
   "metadata": {},
   "outputs": [
    {
     "data": {
      "text/html": [
       "<div>\n",
       "<style scoped>\n",
       "    .dataframe tbody tr th:only-of-type {\n",
       "        vertical-align: middle;\n",
       "    }\n",
       "\n",
       "    .dataframe tbody tr th {\n",
       "        vertical-align: top;\n",
       "    }\n",
       "\n",
       "    .dataframe thead th {\n",
       "        text-align: right;\n",
       "    }\n",
       "</style>\n",
       "<table border=\"1\" class=\"dataframe\">\n",
       "  <thead>\n",
       "    <tr style=\"text-align: right;\">\n",
       "      <th></th>\n",
       "      <th>mkt price</th>\n",
       "      <th>shares</th>\n",
       "      <th>total value</th>\n",
       "    </tr>\n",
       "  </thead>\n",
       "  <tbody>\n",
       "    <tr>\n",
       "      <th>AGG</th>\n",
       "      <td>114.33</td>\n",
       "      <td>200</td>\n",
       "      <td>22866.0</td>\n",
       "    </tr>\n",
       "    <tr>\n",
       "      <th>SPY</th>\n",
       "      <td>467.26</td>\n",
       "      <td>110</td>\n",
       "      <td>51398.6</td>\n",
       "    </tr>\n",
       "  </tbody>\n",
       "</table>\n",
       "</div>"
      ],
      "text/plain": [
       "     mkt price  shares  total value\n",
       "AGG     114.33     200      22866.0\n",
       "SPY     467.26     110      51398.6"
      ]
     },
     "execution_count": 82,
     "metadata": {},
     "output_type": "execute_result"
    }
   ],
   "source": [
    "# Calculate the current value of the stock portion of the portfolio\n",
    "new_sb_closing_prices_df['total value']=new_sb_closing_prices_df['mkt price']*new_sb_closing_prices_df['shares']\n",
    "new_sb_closing_prices_df"
   ]
  },
  {
   "cell_type": "code",
   "execution_count": 26,
   "metadata": {},
   "outputs": [
    {
     "data": {
      "text/plain": [
       "74264.6"
      ]
     },
     "execution_count": 26,
     "metadata": {},
     "output_type": "execute_result"
    }
   ],
   "source": [
    "# Calculate the total value of the stock and bond portion of the portfolio\n",
    "stocks_bonds_value= new_closing_prices_df['total value'].sum()\n",
    "\n",
    "# Print the current balance of the stock and bond portion of the portfolio\n",
    "stocks_bonds_value"
   ]
  },
  {
   "cell_type": "code",
   "execution_count": 27,
   "metadata": {},
   "outputs": [
    {
     "data": {
      "text/plain": [
       "101752.52399999999"
      ]
     },
     "execution_count": 27,
     "metadata": {},
     "output_type": "execute_result"
    }
   ],
   "source": [
    "# Remember the crypto_value\n",
    "total_crypto_wallet"
   ]
  },
  {
   "cell_type": "code",
   "execution_count": 28,
   "metadata": {},
   "outputs": [
    {
     "data": {
      "text/plain": [
       "176017.124"
      ]
     },
     "execution_count": 28,
     "metadata": {},
     "output_type": "execute_result"
    }
   ],
   "source": [
    "# Calculate the total value of the member's entire portfolio\n",
    "portfolio=stocks_bonds_value+total_crypto_wallet\n",
    "portfolio"
   ]
  },
  {
   "cell_type": "markdown",
   "metadata": {},
   "source": [
    "### Part 3: Evaluate the Emergency Fund"
   ]
  },
  {
   "cell_type": "markdown",
   "metadata": {},
   "source": [
    "#### Step 1: Create a Python list named `savings_data` that has two elements. The first element contains the total value of the cryptocurrency wallet. The second element contains the total value of the stock and bond portions of the portfolio."
   ]
  },
  {
   "cell_type": "code",
   "execution_count": 83,
   "metadata": {},
   "outputs": [
    {
     "data": {
      "text/html": [
       "<div>\n",
       "<style scoped>\n",
       "    .dataframe tbody tr th:only-of-type {\n",
       "        vertical-align: middle;\n",
       "    }\n",
       "\n",
       "    .dataframe tbody tr th {\n",
       "        vertical-align: top;\n",
       "    }\n",
       "\n",
       "    .dataframe thead th {\n",
       "        text-align: right;\n",
       "    }\n",
       "</style>\n",
       "<table border=\"1\" class=\"dataframe\">\n",
       "  <thead>\n",
       "    <tr style=\"text-align: right;\">\n",
       "      <th></th>\n",
       "      <th>units</th>\n",
       "      <th>mkt price</th>\n",
       "      <th>total value</th>\n",
       "    </tr>\n",
       "  </thead>\n",
       "  <tbody>\n",
       "    <tr>\n",
       "      <th>AGG</th>\n",
       "      <td>200</td>\n",
       "      <td>114.33</td>\n",
       "      <td>22866.0</td>\n",
       "    </tr>\n",
       "    <tr>\n",
       "      <th>SPY</th>\n",
       "      <td>110</td>\n",
       "      <td>467.26</td>\n",
       "      <td>51398.6</td>\n",
       "    </tr>\n",
       "  </tbody>\n",
       "</table>\n",
       "</div>"
      ],
      "text/plain": [
       "     units  mkt price  total value\n",
       "AGG    200     114.33      22866.0\n",
       "SPY    110     467.26      51398.6"
      ]
     },
     "execution_count": 83,
     "metadata": {},
     "output_type": "execute_result"
    }
   ],
   "source": [
    "# Consolidate financial assets data \n",
    "new_sb_closing_prices_df=new_sb_closing_prices_df.rename(columns={'shares':'units'})\n",
    "new_sb_closing_prices_df=new_sb_closing_prices_df[['units','mkt price', 'total value']]\n",
    "new_sb_closing_prices_df\n"
   ]
  },
  {
   "cell_type": "code",
   "execution_count": 30,
   "metadata": {},
   "outputs": [
    {
     "data": {
      "text/html": [
       "<div>\n",
       "<style scoped>\n",
       "    .dataframe tbody tr th:only-of-type {\n",
       "        vertical-align: middle;\n",
       "    }\n",
       "\n",
       "    .dataframe tbody tr th {\n",
       "        vertical-align: top;\n",
       "    }\n",
       "\n",
       "    .dataframe thead th {\n",
       "        text-align: right;\n",
       "    }\n",
       "</style>\n",
       "<table border=\"1\" class=\"dataframe\">\n",
       "  <thead>\n",
       "    <tr style=\"text-align: right;\">\n",
       "      <th></th>\n",
       "      <th>units</th>\n",
       "      <th>mkt price</th>\n",
       "      <th>total value</th>\n",
       "    </tr>\n",
       "  </thead>\n",
       "  <tbody>\n",
       "    <tr>\n",
       "      <th>btc</th>\n",
       "      <td>1.2</td>\n",
       "      <td>64543.00</td>\n",
       "      <td>77451.600</td>\n",
       "    </tr>\n",
       "    <tr>\n",
       "      <th>eth</th>\n",
       "      <td>5.3</td>\n",
       "      <td>4585.08</td>\n",
       "      <td>24300.924</td>\n",
       "    </tr>\n",
       "  </tbody>\n",
       "</table>\n",
       "</div>"
      ],
      "text/plain": [
       "     units  mkt price  total value\n",
       "btc    1.2   64543.00    77451.600\n",
       "eth    5.3    4585.08    24300.924"
      ]
     },
     "execution_count": 30,
     "metadata": {},
     "output_type": "execute_result"
    }
   ],
   "source": [
    "# Review the Python list savings_data\n",
    "crypto_value=crypto_value.rename(columns={'coins':'units', 'curr_mkt_price':'mkt price'})\n",
    "crypto_value"
   ]
  },
  {
   "cell_type": "code",
   "execution_count": 31,
   "metadata": {},
   "outputs": [
    {
     "data": {
      "text/html": [
       "<div>\n",
       "<style scoped>\n",
       "    .dataframe tbody tr th:only-of-type {\n",
       "        vertical-align: middle;\n",
       "    }\n",
       "\n",
       "    .dataframe tbody tr th {\n",
       "        vertical-align: top;\n",
       "    }\n",
       "\n",
       "    .dataframe thead th {\n",
       "        text-align: right;\n",
       "    }\n",
       "</style>\n",
       "<table border=\"1\" class=\"dataframe\">\n",
       "  <thead>\n",
       "    <tr style=\"text-align: right;\">\n",
       "      <th></th>\n",
       "      <th>units</th>\n",
       "      <th>mkt price</th>\n",
       "      <th>total value</th>\n",
       "    </tr>\n",
       "  </thead>\n",
       "  <tbody>\n",
       "    <tr>\n",
       "      <th>AGG</th>\n",
       "      <td>200.0</td>\n",
       "      <td>114.33</td>\n",
       "      <td>22866.000</td>\n",
       "    </tr>\n",
       "    <tr>\n",
       "      <th>SPY</th>\n",
       "      <td>110.0</td>\n",
       "      <td>467.26</td>\n",
       "      <td>51398.600</td>\n",
       "    </tr>\n",
       "    <tr>\n",
       "      <th>btc</th>\n",
       "      <td>1.2</td>\n",
       "      <td>64543.00</td>\n",
       "      <td>77451.600</td>\n",
       "    </tr>\n",
       "    <tr>\n",
       "      <th>eth</th>\n",
       "      <td>5.3</td>\n",
       "      <td>4585.08</td>\n",
       "      <td>24300.924</td>\n",
       "    </tr>\n",
       "  </tbody>\n",
       "</table>\n",
       "</div>"
      ],
      "text/plain": [
       "     units  mkt price  total value\n",
       "AGG  200.0     114.33    22866.000\n",
       "SPY  110.0     467.26    51398.600\n",
       "btc    1.2   64543.00    77451.600\n",
       "eth    5.3    4585.08    24300.924"
      ]
     },
     "execution_count": 31,
     "metadata": {},
     "output_type": "execute_result"
    }
   ],
   "source": [
    "# Take a look at your complete portfolio\n",
    "total_portfolio=pd.concat([new_closing_prices_df, crypto_value])\n",
    "total_portfolio"
   ]
  },
  {
   "cell_type": "markdown",
   "metadata": {},
   "source": [
    "#### Step 3: Use the `savings_df` DataFrame to plot a pie chart that visualizes the composition of the member’s portfolio. The y-axis of the pie chart uses `amount`. Be sure to add a title."
   ]
  },
  {
   "cell_type": "code",
   "execution_count": 32,
   "metadata": {},
   "outputs": [
    {
     "data": {
      "text/plain": [
       "<AxesSubplot:title={'center':'Members Total Portfolio'}, ylabel='total value'>"
      ]
     },
     "execution_count": 32,
     "metadata": {},
     "output_type": "execute_result"
    },
    {
     "data": {
      "image/png": "[encoded data removed]",
      "text/plain": [
       "<Figure size 432x288 with 1 Axes>"
      ]
     },
     "metadata": {},
     "output_type": "display_data"
    }
   ],
   "source": [
    "# Plot the total value of the member's portfolio (crypto and stock/bond) in a pie chart\n",
    "total_portfolio.plot(kind=\"pie\", y='total value', title=\"Members Total Portfolio\")"
   ]
  },
  {
   "cell_type": "markdown",
   "metadata": {},
   "source": [
    "#### Using Python, determine if the current portfolio has enough to create an emergency fund as part of the member’s financial plan. Ideally, an emergency fund should equal to three times the member’s monthly income. To do this, implement the following steps:\n",
    "\n",
    "Step 1. Create a variable named `emergency_fund_value`, and set it equal to three times the value of the member’s `monthly_income` of 12000. (You set this earlier in Part 1).\n",
    "\n",
    "Step 2. Create a series of three if statements to determine if the member’s total portfolio is large enough to fund the emergency portfolio:\n",
    "\n",
    "* If the total portfolio value is greater than the emergency fund value, display a message congratulating the member for having enough money in this fund.\n",
    "\n",
    "* Else if the total portfolio value is equal to the emergency fund value, display a message congratulating the member on reaching this important financial goal.\n",
    "\n",
    "* Else the total portfolio is less than the emergency fund value, so display a message showing how many dollars away the member is from reaching the goal. (Subtract the total portfolio value from the emergency fund value.)\n"
   ]
  },
  {
   "cell_type": "markdown",
   "metadata": {},
   "source": [
    "##### Create a variable named `emergency_fund_value`, and set it equal to three times the value of the member’s `monthly_income` of 12000. (You set this earlier in Part 1)."
   ]
  },
  {
   "cell_type": "code",
   "execution_count": 33,
   "metadata": {},
   "outputs": [
    {
     "data": {
      "text/plain": [
       "36000"
      ]
     },
     "execution_count": 33,
     "metadata": {},
     "output_type": "execute_result"
    }
   ],
   "source": [
    "# Create a variable named emergency_fund_value\n",
    "emergency_fund_value = monthly_income * 3\n",
    "emergency_fund_value"
   ]
  },
  {
   "cell_type": "code",
   "execution_count": 34,
   "metadata": {},
   "outputs": [
    {
     "data": {
      "text/plain": [
       "176017.124"
      ]
     },
     "execution_count": 34,
     "metadata": {},
     "output_type": "execute_result"
    }
   ],
   "source": [
    "total_portfolio_value = total_portfolio['total value'].sum()\n",
    "total_portfolio_value"
   ]
  },
  {
   "cell_type": "markdown",
   "metadata": {},
   "source": [
    "##### Create a series of three if statements to determine if the member’s total portfolio is large enough to fund the emergency portfolio:\n",
    "\n",
    "* If the total portfolio value is greater than the emergency fund value, display a message congratulating the member for having enough money in this fund.\n",
    "\n",
    "* Else if the total portfolio value is equal to the emergency fund value, display a message congratulating the member on reaching this important financial goal.\n",
    "\n",
    "* Else the total portfolio is less than the emergency fund value, so display a message showing how many dollars away the member is from reaching the goal. (Subtract the total portfolio value from the emergency fund value.)"
   ]
  },
  {
   "cell_type": "code",
   "execution_count": 44,
   "metadata": {},
   "outputs": [
    {
     "name": "stdout",
     "output_type": "stream",
     "text": [
      "Congratulations!\n"
     ]
    }
   ],
   "source": [
    "# Evaluate the possibility of creating an emergency fund with 3 conditions:\n",
    "if total_portfolio_value > emergency_fund_value:\n",
    "    print('Congratulations!')\n",
    "elif total_portfolio_value==emergency_fund_value:  \n",
    "    print('Great, you made it!')\n",
    "else:\n",
    "    print(f\"you're this {emergency_fund_value-total_portfolio_value} far away\")"
   ]
  },
  {
   "cell_type": "markdown",
   "metadata": {},
   "source": [
    "## Part 2: Create a Financial Planner for Retirement"
   ]
  },
  {
   "cell_type": "markdown",
   "metadata": {},
   "source": [
    "### Create the Monte Carlo Simulation\n"
   ]
  },
  {
   "cell_type": "markdown",
   "metadata": {},
   "source": [
    "#### Step 1: Make an API call via the Alpaca SDK to get 3 years of historical closing prices for a traditional 60/40 portfolio split: 60% stocks (SPY) and 40% bonds (AGG)."
   ]
  },
  {
   "cell_type": "code",
   "execution_count": 46,
   "metadata": {},
   "outputs": [],
   "source": [
    "# Set start and end dates of 3 years back from your current date\n",
    "end_date\n",
    "new_start_date=pd.Timestamp(\"2018-11-12\",tz=\"America/New_York\").isoformat()\n",
    "\n",
    "\n",
    "# Set number of rows to 1000 to retrieve the maximum amount of rows\n",
    "limit_rows=1000"
   ]
  },
  {
   "cell_type": "code",
   "execution_count": 49,
   "metadata": {},
   "outputs": [
    {
     "data": {
      "text/html": [
       "<div>\n",
       "<style scoped>\n",
       "    .dataframe tbody tr th:only-of-type {\n",
       "        vertical-align: middle;\n",
       "    }\n",
       "\n",
       "    .dataframe tbody tr th {\n",
       "        vertical-align: top;\n",
       "    }\n",
       "\n",
       "    .dataframe thead tr th {\n",
       "        text-align: left;\n",
       "    }\n",
       "\n",
       "    .dataframe thead tr:last-of-type th {\n",
       "        text-align: right;\n",
       "    }\n",
       "</style>\n",
       "<table border=\"1\" class=\"dataframe\">\n",
       "  <thead>\n",
       "    <tr>\n",
       "      <th></th>\n",
       "      <th colspan=\"5\" halign=\"left\">AGG</th>\n",
       "      <th colspan=\"5\" halign=\"left\">SPY</th>\n",
       "    </tr>\n",
       "    <tr>\n",
       "      <th></th>\n",
       "      <th>open</th>\n",
       "      <th>high</th>\n",
       "      <th>low</th>\n",
       "      <th>close</th>\n",
       "      <th>volume</th>\n",
       "      <th>open</th>\n",
       "      <th>high</th>\n",
       "      <th>low</th>\n",
       "      <th>close</th>\n",
       "      <th>volume</th>\n",
       "    </tr>\n",
       "    <tr>\n",
       "      <th>time</th>\n",
       "      <th></th>\n",
       "      <th></th>\n",
       "      <th></th>\n",
       "      <th></th>\n",
       "      <th></th>\n",
       "      <th></th>\n",
       "      <th></th>\n",
       "      <th></th>\n",
       "      <th></th>\n",
       "      <th></th>\n",
       "    </tr>\n",
       "  </thead>\n",
       "  <tbody>\n",
       "    <tr>\n",
       "      <th>2018-11-12 00:00:00-05:00</th>\n",
       "      <td>104.31</td>\n",
       "      <td>104.350</td>\n",
       "      <td>104.2500</td>\n",
       "      <td>104.310</td>\n",
       "      <td>2142786.0</td>\n",
       "      <td>277.15</td>\n",
       "      <td>277.460</td>\n",
       "      <td>271.9900</td>\n",
       "      <td>272.49</td>\n",
       "      <td>78678065</td>\n",
       "    </tr>\n",
       "    <tr>\n",
       "      <th>2018-11-13 00:00:00-05:00</th>\n",
       "      <td>104.30</td>\n",
       "      <td>104.370</td>\n",
       "      <td>104.2131</td>\n",
       "      <td>104.350</td>\n",
       "      <td>2772430.0</td>\n",
       "      <td>273.09</td>\n",
       "      <td>275.325</td>\n",
       "      <td>271.2500</td>\n",
       "      <td>272.06</td>\n",
       "      <td>78846402</td>\n",
       "    </tr>\n",
       "    <tr>\n",
       "      <th>2018-11-14 00:00:00-05:00</th>\n",
       "      <td>104.22</td>\n",
       "      <td>104.500</td>\n",
       "      <td>104.2000</td>\n",
       "      <td>104.360</td>\n",
       "      <td>3170153.0</td>\n",
       "      <td>274.16</td>\n",
       "      <td>274.610</td>\n",
       "      <td>268.4499</td>\n",
       "      <td>270.13</td>\n",
       "      <td>113944238</td>\n",
       "    </tr>\n",
       "    <tr>\n",
       "      <th>2018-11-15 00:00:00-05:00</th>\n",
       "      <td>104.48</td>\n",
       "      <td>104.510</td>\n",
       "      <td>104.3101</td>\n",
       "      <td>104.480</td>\n",
       "      <td>3694888.0</td>\n",
       "      <td>268.78</td>\n",
       "      <td>273.540</td>\n",
       "      <td>267.0102</td>\n",
       "      <td>273.07</td>\n",
       "      <td>118131123</td>\n",
       "    </tr>\n",
       "    <tr>\n",
       "      <th>2018-11-16 00:00:00-05:00</th>\n",
       "      <td>104.55</td>\n",
       "      <td>104.710</td>\n",
       "      <td>104.5100</td>\n",
       "      <td>104.655</td>\n",
       "      <td>3277200.0</td>\n",
       "      <td>271.79</td>\n",
       "      <td>276.000</td>\n",
       "      <td>271.2100</td>\n",
       "      <td>273.68</td>\n",
       "      <td>107341090</td>\n",
       "    </tr>\n",
       "    <tr>\n",
       "      <th>...</th>\n",
       "      <td>...</td>\n",
       "      <td>...</td>\n",
       "      <td>...</td>\n",
       "      <td>...</td>\n",
       "      <td>...</td>\n",
       "      <td>...</td>\n",
       "      <td>...</td>\n",
       "      <td>...</td>\n",
       "      <td>...</td>\n",
       "      <td>...</td>\n",
       "    </tr>\n",
       "    <tr>\n",
       "      <th>2021-11-08 00:00:00-05:00</th>\n",
       "      <td>115.14</td>\n",
       "      <td>115.150</td>\n",
       "      <td>114.9500</td>\n",
       "      <td>115.010</td>\n",
       "      <td>4696293.0</td>\n",
       "      <td>469.70</td>\n",
       "      <td>470.230</td>\n",
       "      <td>468.2031</td>\n",
       "      <td>468.97</td>\n",
       "      <td>38945705</td>\n",
       "    </tr>\n",
       "    <tr>\n",
       "      <th>2021-11-09 00:00:00-05:00</th>\n",
       "      <td>115.38</td>\n",
       "      <td>115.500</td>\n",
       "      <td>115.2900</td>\n",
       "      <td>115.330</td>\n",
       "      <td>6955738.0</td>\n",
       "      <td>469.32</td>\n",
       "      <td>469.570</td>\n",
       "      <td>465.8800</td>\n",
       "      <td>467.38</td>\n",
       "      <td>47198095</td>\n",
       "    </tr>\n",
       "    <tr>\n",
       "      <th>2021-11-10 00:00:00-05:00</th>\n",
       "      <td>115.11</td>\n",
       "      <td>115.140</td>\n",
       "      <td>114.3950</td>\n",
       "      <td>114.510</td>\n",
       "      <td>8821475.0</td>\n",
       "      <td>465.58</td>\n",
       "      <td>467.380</td>\n",
       "      <td>462.0400</td>\n",
       "      <td>463.63</td>\n",
       "      <td>63500032</td>\n",
       "    </tr>\n",
       "    <tr>\n",
       "      <th>2021-11-11 00:00:00-05:00</th>\n",
       "      <td>114.51</td>\n",
       "      <td>114.570</td>\n",
       "      <td>114.3000</td>\n",
       "      <td>114.340</td>\n",
       "      <td>3105027.0</td>\n",
       "      <td>465.21</td>\n",
       "      <td>465.290</td>\n",
       "      <td>463.7500</td>\n",
       "      <td>463.81</td>\n",
       "      <td>31757893</td>\n",
       "    </tr>\n",
       "    <tr>\n",
       "      <th>2021-11-12 00:00:00-05:00</th>\n",
       "      <td>114.50</td>\n",
       "      <td>114.585</td>\n",
       "      <td>114.2600</td>\n",
       "      <td>114.330</td>\n",
       "      <td>4398727.0</td>\n",
       "      <td>465.12</td>\n",
       "      <td>467.860</td>\n",
       "      <td>464.1100</td>\n",
       "      <td>467.26</td>\n",
       "      <td>44677612</td>\n",
       "    </tr>\n",
       "  </tbody>\n",
       "</table>\n",
       "<p>757 rows × 10 columns</p>\n",
       "</div>"
      ],
      "text/plain": [
       "                              AGG                                         \\\n",
       "                             open     high       low    close     volume   \n",
       "time                                                                       \n",
       "2018-11-12 00:00:00-05:00  104.31  104.350  104.2500  104.310  2142786.0   \n",
       "2018-11-13 00:00:00-05:00  104.30  104.370  104.2131  104.350  2772430.0   \n",
       "2018-11-14 00:00:00-05:00  104.22  104.500  104.2000  104.360  3170153.0   \n",
       "2018-11-15 00:00:00-05:00  104.48  104.510  104.3101  104.480  3694888.0   \n",
       "2018-11-16 00:00:00-05:00  104.55  104.710  104.5100  104.655  3277200.0   \n",
       "...                           ...      ...       ...      ...        ...   \n",
       "2021-11-08 00:00:00-05:00  115.14  115.150  114.9500  115.010  4696293.0   \n",
       "2021-11-09 00:00:00-05:00  115.38  115.500  115.2900  115.330  6955738.0   \n",
       "2021-11-10 00:00:00-05:00  115.11  115.140  114.3950  114.510  8821475.0   \n",
       "2021-11-11 00:00:00-05:00  114.51  114.570  114.3000  114.340  3105027.0   \n",
       "2021-11-12 00:00:00-05:00  114.50  114.585  114.2600  114.330  4398727.0   \n",
       "\n",
       "                              SPY                                        \n",
       "                             open     high       low   close     volume  \n",
       "time                                                                     \n",
       "2018-11-12 00:00:00-05:00  277.15  277.460  271.9900  272.49   78678065  \n",
       "2018-11-13 00:00:00-05:00  273.09  275.325  271.2500  272.06   78846402  \n",
       "2018-11-14 00:00:00-05:00  274.16  274.610  268.4499  270.13  113944238  \n",
       "2018-11-15 00:00:00-05:00  268.78  273.540  267.0102  273.07  118131123  \n",
       "2018-11-16 00:00:00-05:00  271.79  276.000  271.2100  273.68  107341090  \n",
       "...                           ...      ...       ...     ...        ...  \n",
       "2021-11-08 00:00:00-05:00  469.70  470.230  468.2031  468.97   38945705  \n",
       "2021-11-09 00:00:00-05:00  469.32  469.570  465.8800  467.38   47198095  \n",
       "2021-11-10 00:00:00-05:00  465.58  467.380  462.0400  463.63   63500032  \n",
       "2021-11-11 00:00:00-05:00  465.21  465.290  463.7500  463.81   31757893  \n",
       "2021-11-12 00:00:00-05:00  465.12  467.860  464.1100  467.26   44677612  \n",
       "\n",
       "[757 rows x 10 columns]"
      ]
     },
     "execution_count": 49,
     "metadata": {},
     "output_type": "execute_result"
    }
   ],
   "source": [
    "# Use the Alpaca get_barset function to make the API call to get the 3 years worth of pricing data\n",
    "# The tickers and timeframe parameters should have been set in Part 1 of this activity \n",
    "# The start and end dates should be updated with the information set above\n",
    "# Remember to add the df property to the end of the call so the response is returned as a DataFrame\n",
    "new_prices_df = alpaca.get_barset(\n",
    "  tickers,\n",
    "  timeframe,\n",
    "  start=new_start_date,\n",
    "  end=end_date,\n",
    "  limit=limit_rows\n",
    ").df\n",
    "\n",
    "\n",
    "# Display both the first and last five rows of the DataFrame\n",
    "new_prices_df"
   ]
  },
  {
   "cell_type": "markdown",
   "metadata": {},
   "source": [
    "#### Step 2: Run a Monte Carlo simulation of 500 samples and 30 years for the 60/40 portfolio, and then plot the results."
   ]
  },
  {
   "cell_type": "code",
   "execution_count": 52,
   "metadata": {},
   "outputs": [
    {
     "data": {
      "text/html": [
       "<div>\n",
       "<style scoped>\n",
       "    .dataframe tbody tr th:only-of-type {\n",
       "        vertical-align: middle;\n",
       "    }\n",
       "\n",
       "    .dataframe tbody tr th {\n",
       "        vertical-align: top;\n",
       "    }\n",
       "\n",
       "    .dataframe thead th {\n",
       "        text-align: right;\n",
       "    }\n",
       "</style>\n",
       "<table border=\"1\" class=\"dataframe\">\n",
       "  <thead>\n",
       "    <tr style=\"text-align: right;\">\n",
       "      <th></th>\n",
       "      <th>AGG</th>\n",
       "      <th>SPY</th>\n",
       "    </tr>\n",
       "  </thead>\n",
       "  <tbody>\n",
       "    <tr>\n",
       "      <th>2018-11-13</th>\n",
       "      <td>0.000383</td>\n",
       "      <td>-0.001578</td>\n",
       "    </tr>\n",
       "    <tr>\n",
       "      <th>2018-11-14</th>\n",
       "      <td>0.000096</td>\n",
       "      <td>-0.007094</td>\n",
       "    </tr>\n",
       "    <tr>\n",
       "      <th>2018-11-15</th>\n",
       "      <td>0.001150</td>\n",
       "      <td>0.010884</td>\n",
       "    </tr>\n",
       "    <tr>\n",
       "      <th>2018-11-16</th>\n",
       "      <td>0.001675</td>\n",
       "      <td>0.002234</td>\n",
       "    </tr>\n",
       "    <tr>\n",
       "      <th>2018-11-19</th>\n",
       "      <td>0.000048</td>\n",
       "      <td>-0.016808</td>\n",
       "    </tr>\n",
       "  </tbody>\n",
       "</table>\n",
       "</div>"
      ],
      "text/plain": [
       "                 AGG       SPY\n",
       "2018-11-13  0.000383 -0.001578\n",
       "2018-11-14  0.000096 -0.007094\n",
       "2018-11-15  0.001150  0.010884\n",
       "2018-11-16  0.001675  0.002234\n",
       "2018-11-19  0.000048 -0.016808"
      ]
     },
     "metadata": {},
     "output_type": "display_data"
    },
    {
     "data": {
      "text/html": [
       "<div>\n",
       "<style scoped>\n",
       "    .dataframe tbody tr th:only-of-type {\n",
       "        vertical-align: middle;\n",
       "    }\n",
       "\n",
       "    .dataframe tbody tr th {\n",
       "        vertical-align: top;\n",
       "    }\n",
       "\n",
       "    .dataframe thead th {\n",
       "        text-align: right;\n",
       "    }\n",
       "</style>\n",
       "<table border=\"1\" class=\"dataframe\">\n",
       "  <thead>\n",
       "    <tr style=\"text-align: right;\">\n",
       "      <th></th>\n",
       "      <th>AGG</th>\n",
       "      <th>SPY</th>\n",
       "    </tr>\n",
       "  </thead>\n",
       "  <tbody>\n",
       "    <tr>\n",
       "      <th>2021-11-08</th>\n",
       "      <td>-0.001996</td>\n",
       "      <td>0.001025</td>\n",
       "    </tr>\n",
       "    <tr>\n",
       "      <th>2021-11-09</th>\n",
       "      <td>0.002782</td>\n",
       "      <td>-0.003390</td>\n",
       "    </tr>\n",
       "    <tr>\n",
       "      <th>2021-11-10</th>\n",
       "      <td>-0.007110</td>\n",
       "      <td>-0.008023</td>\n",
       "    </tr>\n",
       "    <tr>\n",
       "      <th>2021-11-11</th>\n",
       "      <td>-0.001485</td>\n",
       "      <td>0.000388</td>\n",
       "    </tr>\n",
       "    <tr>\n",
       "      <th>2021-11-12</th>\n",
       "      <td>-0.000087</td>\n",
       "      <td>0.007438</td>\n",
       "    </tr>\n",
       "  </tbody>\n",
       "</table>\n",
       "</div>"
      ],
      "text/plain": [
       "                 AGG       SPY\n",
       "2021-11-08 -0.001996  0.001025\n",
       "2021-11-09  0.002782 -0.003390\n",
       "2021-11-10 -0.007110 -0.008023\n",
       "2021-11-11 -0.001485  0.000388\n",
       "2021-11-12 -0.000087  0.007438"
      ]
     },
     "metadata": {},
     "output_type": "display_data"
    }
   ],
   "source": [
    "# Create an empty `closing_prices_df` DataFrame using Pandas\n",
    "new_closing_prices_df = pd.DataFrame()\n",
    "\n",
    "# Populate the `closing_prices_df` DataFrame by accessing the `close` column\n",
    "# from the `prices_df` DataFrame for both KO and TSLA .\n",
    "new_closing_prices_df[\"AGG\"] = new_prices_df[\"AGG\"][\"close\"]\n",
    "new_closing_prices_df[\"SPY\"] = new_prices_df[\"SPY\"][\"close\"]\n",
    "\n",
    "# Update the index for the `closing_prices_df` DataFrame\n",
    "# to retain only the `date` component.\n",
    "new_closing_prices_df.index = new_closing_prices_df.index.date\n",
    "\n",
    "# Compute the `daily_returns_df` DataFrame by chaining\n",
    "# the pct_change function with the dropna function.\n",
    "new_daily_returns_df = new_closing_prices_df.pct_change().dropna()\n",
    "\n",
    "# Display both the head and tail of the `daily_returns_df` DataFrame\n",
    "display(new_daily_returns_df.head())\n",
    "display(new_daily_returns_df.tail())"
   ]
  },
  {
   "cell_type": "code",
   "execution_count": 62,
   "metadata": {},
   "outputs": [
    {
     "data": {
      "text/plain": [
       "<MCForecastTools.MCSimulation at 0x183d18aa0c8>"
      ]
     },
     "execution_count": 62,
     "metadata": {},
     "output_type": "execute_result"
    }
   ],
   "source": [
    "# Configure the Monte Carlo simulation to forecast 30 years cumulative returns\n",
    "# The weights should be split 40% to AGG and 60% to SPY.\n",
    "# Run 500 samples.\n",
    "MC_thirty_year = MCSimulation(\n",
    "  portfolio_data = new_prices_df,\n",
    "  weights = [.40,.60],\n",
    "  num_simulation = 500,\n",
    "  num_trading_days = 252*30\n",
    ")\n",
    "\n",
    "# Review the simulation input data\n",
    "MC_thirty_year\n"
   ]
  },
  {
   "cell_type": "code",
   "execution_count": 63,
   "metadata": {},
   "outputs": [
    {
     "name": "stdout",
     "output_type": "stream",
     "text": [
      "Running Monte Carlo simulation number 0.\n",
      "Running Monte Carlo simulation number 10.\n",
      "Running Monte Carlo simulation number 20.\n",
      "Running Monte Carlo simulation number 30.\n",
      "Running Monte Carlo simulation number 40.\n",
      "Running Monte Carlo simulation number 50.\n",
      "Running Monte Carlo simulation number 60.\n",
      "Running Monte Carlo simulation number 70.\n",
      "Running Monte Carlo simulation number 80.\n",
      "Running Monte Carlo simulation number 90.\n",
      "Running Monte Carlo simulation number 100.\n",
      "Running Monte Carlo simulation number 110.\n",
      "Running Monte Carlo simulation number 120.\n",
      "Running Monte Carlo simulation number 130.\n",
      "Running Monte Carlo simulation number 140.\n",
      "Running Monte Carlo simulation number 150.\n",
      "Running Monte Carlo simulation number 160.\n",
      "Running Monte Carlo simulation number 170.\n",
      "Running Monte Carlo simulation number 180.\n",
      "Running Monte Carlo simulation number 190.\n",
      "Running Monte Carlo simulation number 200.\n",
      "Running Monte Carlo simulation number 210.\n",
      "Running Monte Carlo simulation number 220.\n",
      "Running Monte Carlo simulation number 230.\n",
      "Running Monte Carlo simulation number 240.\n",
      "Running Monte Carlo simulation number 250.\n",
      "Running Monte Carlo simulation number 260.\n",
      "Running Monte Carlo simulation number 270.\n",
      "Running Monte Carlo simulation number 280.\n",
      "Running Monte Carlo simulation number 290.\n",
      "Running Monte Carlo simulation number 300.\n",
      "Running Monte Carlo simulation number 310.\n",
      "Running Monte Carlo simulation number 320.\n",
      "Running Monte Carlo simulation number 330.\n",
      "Running Monte Carlo simulation number 340.\n",
      "Running Monte Carlo simulation number 350.\n",
      "Running Monte Carlo simulation number 360.\n",
      "Running Monte Carlo simulation number 370.\n",
      "Running Monte Carlo simulation number 380.\n",
      "Running Monte Carlo simulation number 390.\n",
      "Running Monte Carlo simulation number 400.\n",
      "Running Monte Carlo simulation number 410.\n",
      "Running Monte Carlo simulation number 420.\n",
      "Running Monte Carlo simulation number 430.\n",
      "Running Monte Carlo simulation number 440.\n",
      "Running Monte Carlo simulation number 450.\n",
      "Running Monte Carlo simulation number 460.\n",
      "Running Monte Carlo simulation number 470.\n",
      "Running Monte Carlo simulation number 480.\n",
      "Running Monte Carlo simulation number 490.\n"
     ]
    },
    {
     "data": {
      "text/html": [
       "<div>\n",
       "<style scoped>\n",
       "    .dataframe tbody tr th:only-of-type {\n",
       "        vertical-align: middle;\n",
       "    }\n",
       "\n",
       "    .dataframe tbody tr th {\n",
       "        vertical-align: top;\n",
       "    }\n",
       "\n",
       "    .dataframe thead th {\n",
       "        text-align: right;\n",
       "    }\n",
       "</style>\n",
       "<table border=\"1\" class=\"dataframe\">\n",
       "  <thead>\n",
       "    <tr style=\"text-align: right;\">\n",
       "      <th></th>\n",
       "      <th>0</th>\n",
       "      <th>1</th>\n",
       "      <th>2</th>\n",
       "      <th>3</th>\n",
       "      <th>4</th>\n",
       "      <th>5</th>\n",
       "      <th>6</th>\n",
       "      <th>7</th>\n",
       "      <th>8</th>\n",
       "      <th>9</th>\n",
       "      <th>...</th>\n",
       "      <th>490</th>\n",
       "      <th>491</th>\n",
       "      <th>492</th>\n",
       "      <th>493</th>\n",
       "      <th>494</th>\n",
       "      <th>495</th>\n",
       "      <th>496</th>\n",
       "      <th>497</th>\n",
       "      <th>498</th>\n",
       "      <th>499</th>\n",
       "    </tr>\n",
       "  </thead>\n",
       "  <tbody>\n",
       "    <tr>\n",
       "      <th>0</th>\n",
       "      <td>1.000000</td>\n",
       "      <td>1.000000</td>\n",
       "      <td>1.000000</td>\n",
       "      <td>1.000000</td>\n",
       "      <td>1.000000</td>\n",
       "      <td>1.000000</td>\n",
       "      <td>1.000000</td>\n",
       "      <td>1.000000</td>\n",
       "      <td>1.000000</td>\n",
       "      <td>1.000000</td>\n",
       "      <td>...</td>\n",
       "      <td>1.000000</td>\n",
       "      <td>1.000000</td>\n",
       "      <td>1.000000</td>\n",
       "      <td>1.000000</td>\n",
       "      <td>1.000000</td>\n",
       "      <td>1.000000</td>\n",
       "      <td>1.000000</td>\n",
       "      <td>1.000000</td>\n",
       "      <td>1.000000</td>\n",
       "      <td>1.000000</td>\n",
       "    </tr>\n",
       "    <tr>\n",
       "      <th>1</th>\n",
       "      <td>0.998170</td>\n",
       "      <td>1.009927</td>\n",
       "      <td>1.000578</td>\n",
       "      <td>0.986987</td>\n",
       "      <td>1.006733</td>\n",
       "      <td>1.000904</td>\n",
       "      <td>1.009546</td>\n",
       "      <td>0.996758</td>\n",
       "      <td>1.005298</td>\n",
       "      <td>1.012766</td>\n",
       "      <td>...</td>\n",
       "      <td>1.003089</td>\n",
       "      <td>0.992370</td>\n",
       "      <td>0.987429</td>\n",
       "      <td>1.003617</td>\n",
       "      <td>0.990638</td>\n",
       "      <td>1.000927</td>\n",
       "      <td>1.022047</td>\n",
       "      <td>1.004064</td>\n",
       "      <td>0.985753</td>\n",
       "      <td>1.005743</td>\n",
       "    </tr>\n",
       "    <tr>\n",
       "      <th>2</th>\n",
       "      <td>0.994073</td>\n",
       "      <td>1.005369</td>\n",
       "      <td>1.016528</td>\n",
       "      <td>0.978898</td>\n",
       "      <td>1.004332</td>\n",
       "      <td>0.993475</td>\n",
       "      <td>0.988736</td>\n",
       "      <td>1.009074</td>\n",
       "      <td>1.008062</td>\n",
       "      <td>1.022053</td>\n",
       "      <td>...</td>\n",
       "      <td>1.008818</td>\n",
       "      <td>1.004138</td>\n",
       "      <td>0.977309</td>\n",
       "      <td>0.986975</td>\n",
       "      <td>0.987746</td>\n",
       "      <td>0.998478</td>\n",
       "      <td>1.025661</td>\n",
       "      <td>1.009407</td>\n",
       "      <td>0.978701</td>\n",
       "      <td>1.014175</td>\n",
       "    </tr>\n",
       "    <tr>\n",
       "      <th>3</th>\n",
       "      <td>0.974691</td>\n",
       "      <td>1.003996</td>\n",
       "      <td>1.012680</td>\n",
       "      <td>0.988380</td>\n",
       "      <td>0.999066</td>\n",
       "      <td>0.975093</td>\n",
       "      <td>0.994660</td>\n",
       "      <td>1.004921</td>\n",
       "      <td>1.021438</td>\n",
       "      <td>1.033682</td>\n",
       "      <td>...</td>\n",
       "      <td>1.015131</td>\n",
       "      <td>1.015831</td>\n",
       "      <td>0.976998</td>\n",
       "      <td>0.988261</td>\n",
       "      <td>0.993540</td>\n",
       "      <td>1.004829</td>\n",
       "      <td>1.023345</td>\n",
       "      <td>1.021684</td>\n",
       "      <td>0.990644</td>\n",
       "      <td>1.020968</td>\n",
       "    </tr>\n",
       "    <tr>\n",
       "      <th>4</th>\n",
       "      <td>0.977136</td>\n",
       "      <td>1.003057</td>\n",
       "      <td>1.020311</td>\n",
       "      <td>0.975925</td>\n",
       "      <td>0.995295</td>\n",
       "      <td>0.997720</td>\n",
       "      <td>1.010164</td>\n",
       "      <td>0.993412</td>\n",
       "      <td>1.020752</td>\n",
       "      <td>1.056343</td>\n",
       "      <td>...</td>\n",
       "      <td>1.017544</td>\n",
       "      <td>1.008784</td>\n",
       "      <td>0.982402</td>\n",
       "      <td>0.993793</td>\n",
       "      <td>0.997055</td>\n",
       "      <td>1.003748</td>\n",
       "      <td>1.021075</td>\n",
       "      <td>1.006795</td>\n",
       "      <td>1.000460</td>\n",
       "      <td>1.020175</td>\n",
       "    </tr>\n",
       "    <tr>\n",
       "      <th>...</th>\n",
       "      <td>...</td>\n",
       "      <td>...</td>\n",
       "      <td>...</td>\n",
       "      <td>...</td>\n",
       "      <td>...</td>\n",
       "      <td>...</td>\n",
       "      <td>...</td>\n",
       "      <td>...</td>\n",
       "      <td>...</td>\n",
       "      <td>...</td>\n",
       "      <td>...</td>\n",
       "      <td>...</td>\n",
       "      <td>...</td>\n",
       "      <td>...</td>\n",
       "      <td>...</td>\n",
       "      <td>...</td>\n",
       "      <td>...</td>\n",
       "      <td>...</td>\n",
       "      <td>...</td>\n",
       "      <td>...</td>\n",
       "      <td>...</td>\n",
       "    </tr>\n",
       "    <tr>\n",
       "      <th>7556</th>\n",
       "      <td>40.753010</td>\n",
       "      <td>50.295963</td>\n",
       "      <td>12.531531</td>\n",
       "      <td>28.273106</td>\n",
       "      <td>19.334523</td>\n",
       "      <td>55.622018</td>\n",
       "      <td>4.159880</td>\n",
       "      <td>14.309895</td>\n",
       "      <td>13.698161</td>\n",
       "      <td>15.443933</td>\n",
       "      <td>...</td>\n",
       "      <td>63.072639</td>\n",
       "      <td>71.786742</td>\n",
       "      <td>62.319341</td>\n",
       "      <td>21.656688</td>\n",
       "      <td>50.485515</td>\n",
       "      <td>22.245663</td>\n",
       "      <td>166.963384</td>\n",
       "      <td>192.133018</td>\n",
       "      <td>33.424702</td>\n",
       "      <td>74.755542</td>\n",
       "    </tr>\n",
       "    <tr>\n",
       "      <th>7557</th>\n",
       "      <td>40.689208</td>\n",
       "      <td>50.309480</td>\n",
       "      <td>12.255475</td>\n",
       "      <td>28.166914</td>\n",
       "      <td>19.610268</td>\n",
       "      <td>56.009376</td>\n",
       "      <td>4.165484</td>\n",
       "      <td>14.699836</td>\n",
       "      <td>13.712215</td>\n",
       "      <td>15.517106</td>\n",
       "      <td>...</td>\n",
       "      <td>63.172247</td>\n",
       "      <td>72.777324</td>\n",
       "      <td>62.281012</td>\n",
       "      <td>21.753515</td>\n",
       "      <td>50.216740</td>\n",
       "      <td>22.192724</td>\n",
       "      <td>167.189427</td>\n",
       "      <td>193.483882</td>\n",
       "      <td>33.444255</td>\n",
       "      <td>74.515055</td>\n",
       "    </tr>\n",
       "    <tr>\n",
       "      <th>7558</th>\n",
       "      <td>40.588556</td>\n",
       "      <td>50.369105</td>\n",
       "      <td>12.220033</td>\n",
       "      <td>28.325125</td>\n",
       "      <td>19.530396</td>\n",
       "      <td>56.553295</td>\n",
       "      <td>4.151875</td>\n",
       "      <td>14.480776</td>\n",
       "      <td>13.760290</td>\n",
       "      <td>15.495345</td>\n",
       "      <td>...</td>\n",
       "      <td>63.117292</td>\n",
       "      <td>72.982485</td>\n",
       "      <td>62.157742</td>\n",
       "      <td>21.730677</td>\n",
       "      <td>50.388175</td>\n",
       "      <td>21.964441</td>\n",
       "      <td>166.861483</td>\n",
       "      <td>195.070094</td>\n",
       "      <td>33.398089</td>\n",
       "      <td>75.133095</td>\n",
       "    </tr>\n",
       "    <tr>\n",
       "      <th>7559</th>\n",
       "      <td>40.572959</td>\n",
       "      <td>49.734317</td>\n",
       "      <td>12.215366</td>\n",
       "      <td>28.109024</td>\n",
       "      <td>19.425967</td>\n",
       "      <td>56.580157</td>\n",
       "      <td>4.116821</td>\n",
       "      <td>14.482528</td>\n",
       "      <td>13.686025</td>\n",
       "      <td>15.441576</td>\n",
       "      <td>...</td>\n",
       "      <td>63.258334</td>\n",
       "      <td>72.584135</td>\n",
       "      <td>61.940617</td>\n",
       "      <td>21.803066</td>\n",
       "      <td>50.595708</td>\n",
       "      <td>22.067775</td>\n",
       "      <td>168.126960</td>\n",
       "      <td>195.184235</td>\n",
       "      <td>32.926871</td>\n",
       "      <td>75.068002</td>\n",
       "    </tr>\n",
       "    <tr>\n",
       "      <th>7560</th>\n",
       "      <td>40.803501</td>\n",
       "      <td>49.601107</td>\n",
       "      <td>12.209781</td>\n",
       "      <td>28.516000</td>\n",
       "      <td>19.533363</td>\n",
       "      <td>56.821798</td>\n",
       "      <td>4.169487</td>\n",
       "      <td>14.704990</td>\n",
       "      <td>13.794772</td>\n",
       "      <td>15.342054</td>\n",
       "      <td>...</td>\n",
       "      <td>62.990961</td>\n",
       "      <td>72.359537</td>\n",
       "      <td>61.127692</td>\n",
       "      <td>21.782966</td>\n",
       "      <td>50.702427</td>\n",
       "      <td>22.285051</td>\n",
       "      <td>167.051553</td>\n",
       "      <td>195.051416</td>\n",
       "      <td>32.788499</td>\n",
       "      <td>75.610473</td>\n",
       "    </tr>\n",
       "  </tbody>\n",
       "</table>\n",
       "<p>7561 rows × 500 columns</p>\n",
       "</div>"
      ],
      "text/plain": [
       "            0          1          2          3          4          5    \\\n",
       "0      1.000000   1.000000   1.000000   1.000000   1.000000   1.000000   \n",
       "1      0.998170   1.009927   1.000578   0.986987   1.006733   1.000904   \n",
       "2      0.994073   1.005369   1.016528   0.978898   1.004332   0.993475   \n",
       "3      0.974691   1.003996   1.012680   0.988380   0.999066   0.975093   \n",
       "4      0.977136   1.003057   1.020311   0.975925   0.995295   0.997720   \n",
       "...         ...        ...        ...        ...        ...        ...   \n",
       "7556  40.753010  50.295963  12.531531  28.273106  19.334523  55.622018   \n",
       "7557  40.689208  50.309480  12.255475  28.166914  19.610268  56.009376   \n",
       "7558  40.588556  50.369105  12.220033  28.325125  19.530396  56.553295   \n",
       "7559  40.572959  49.734317  12.215366  28.109024  19.425967  56.580157   \n",
       "7560  40.803501  49.601107  12.209781  28.516000  19.533363  56.821798   \n",
       "\n",
       "           6          7          8          9    ...        490        491  \\\n",
       "0     1.000000   1.000000   1.000000   1.000000  ...   1.000000   1.000000   \n",
       "1     1.009546   0.996758   1.005298   1.012766  ...   1.003089   0.992370   \n",
       "2     0.988736   1.009074   1.008062   1.022053  ...   1.008818   1.004138   \n",
       "3     0.994660   1.004921   1.021438   1.033682  ...   1.015131   1.015831   \n",
       "4     1.010164   0.993412   1.020752   1.056343  ...   1.017544   1.008784   \n",
       "...        ...        ...        ...        ...  ...        ...        ...   \n",
       "7556  4.159880  14.309895  13.698161  15.443933  ...  63.072639  71.786742   \n",
       "7557  4.165484  14.699836  13.712215  15.517106  ...  63.172247  72.777324   \n",
       "7558  4.151875  14.480776  13.760290  15.495345  ...  63.117292  72.982485   \n",
       "7559  4.116821  14.482528  13.686025  15.441576  ...  63.258334  72.584135   \n",
       "7560  4.169487  14.704990  13.794772  15.342054  ...  62.990961  72.359537   \n",
       "\n",
       "            492        493        494        495         496         497  \\\n",
       "0      1.000000   1.000000   1.000000   1.000000    1.000000    1.000000   \n",
       "1      0.987429   1.003617   0.990638   1.000927    1.022047    1.004064   \n",
       "2      0.977309   0.986975   0.987746   0.998478    1.025661    1.009407   \n",
       "3      0.976998   0.988261   0.993540   1.004829    1.023345    1.021684   \n",
       "4      0.982402   0.993793   0.997055   1.003748    1.021075    1.006795   \n",
       "...         ...        ...        ...        ...         ...         ...   \n",
       "7556  62.319341  21.656688  50.485515  22.245663  166.963384  192.133018   \n",
       "7557  62.281012  21.753515  50.216740  22.192724  167.189427  193.483882   \n",
       "7558  62.157742  21.730677  50.388175  21.964441  166.861483  195.070094   \n",
       "7559  61.940617  21.803066  50.595708  22.067775  168.126960  195.184235   \n",
       "7560  61.127692  21.782966  50.702427  22.285051  167.051553  195.051416   \n",
       "\n",
       "            498        499  \n",
       "0      1.000000   1.000000  \n",
       "1      0.985753   1.005743  \n",
       "2      0.978701   1.014175  \n",
       "3      0.990644   1.020968  \n",
       "4      1.000460   1.020175  \n",
       "...         ...        ...  \n",
       "7556  33.424702  74.755542  \n",
       "7557  33.444255  74.515055  \n",
       "7558  33.398089  75.133095  \n",
       "7559  32.926871  75.068002  \n",
       "7560  32.788499  75.610473  \n",
       "\n",
       "[7561 rows x 500 columns]"
      ]
     },
     "execution_count": 63,
     "metadata": {},
     "output_type": "execute_result"
    }
   ],
   "source": [
    "# Run the Monte Carlo simulation to forecast 30 years cumulative returns\n",
    "MC_thirty_year.calc_cumulative_return()"
   ]
  },
  {
   "cell_type": "code",
   "execution_count": 90,
   "metadata": {},
   "outputs": [
    {
     "data": {
      "image/png": "[encoded data removed]",
      "text/plain": [
       "<Figure size 432x288 with 1 Axes>"
      ]
     },
     "metadata": {
      "needs_background": "light"
     },
     "output_type": "display_data"
    }
   ],
   "source": [
    "# Visualize the 30-year Monte Carlo simulation by creating an overlay line plot\n",
    "MC_sim_line_plot = MC_thirty_year.plot_simulation()\n"
   ]
  },
  {
   "cell_type": "markdown",
   "metadata": {},
   "source": [
    "#### Step 3: Plot the probability distribution of the Monte Carlo simulation."
   ]
  },
  {
   "cell_type": "code",
   "execution_count": 66,
   "metadata": {},
   "outputs": [
    {
     "data": {
      "image/png": "[encoded data removed]",
      "text/plain": [
       "<Figure size 432x288 with 1 Axes>"
      ]
     },
     "metadata": {
      "needs_background": "light"
     },
     "output_type": "display_data"
    }
   ],
   "source": [
    "# Visualize the probability distribution of the 30-year Monte Carlo simulation by plotting a histogram\n",
    "MC_sim_dist_plot = MC_thirty_year.plot_distribution()\n"
   ]
  },
  {
   "cell_type": "markdown",
   "metadata": {},
   "source": [
    "#### Step 4: Generate the summary statistics for the Monte Carlo simulation."
   ]
  },
  {
   "cell_type": "code",
   "execution_count": 67,
   "metadata": {},
   "outputs": [
    {
     "data": {
      "text/plain": [
       "count           500.000000\n",
       "mean             60.685475\n",
       "std              51.272110\n",
       "min               4.042725\n",
       "25%              27.246458\n",
       "50%              44.063373\n",
       "75%              75.311898\n",
       "max             350.784289\n",
       "95% CI Lower      9.056942\n",
       "95% CI Upper    194.922540\n",
       "Name: 7560, dtype: float64"
      ]
     },
     "execution_count": 67,
     "metadata": {},
     "output_type": "execute_result"
    }
   ],
   "source": [
    "# Generate summary statistics from the 30-year Monte Carlo simulation results\n",
    "# Save the results as a variable\n",
    "MC_summary_statistics = MC_thirty_year.summarize_cumulative_return()\n",
    "\n",
    "# Review the 30-year Monte Carlo summary statistics\n",
    "MC_summary_statistics"
   ]
  },
  {
   "cell_type": "markdown",
   "metadata": {},
   "source": [
    "### Analyze the Retirement Portfolio Forecasts\n",
    "\n",
    "Using the current value of only the stock and bond portion of the member's portfolio and the summary statistics that you generated from the Monte Carlo simulation, answer the following question in your Jupyter notebook:\n",
    "\n",
    "-  What are the lower and upper bounds for the expected value of the portfolio with a 95% confidence interval?\n"
   ]
  },
  {
   "cell_type": "code",
   "execution_count": 86,
   "metadata": {},
   "outputs": [
    {
     "name": "stdout",
     "output_type": "stream",
     "text": [
      "     units  mkt price  total value\n",
      "AGG    200     114.33      22866.0\n",
      "SPY    110     467.26      51398.6\n"
     ]
    },
    {
     "data": {
      "text/plain": [
       "74264.6"
      ]
     },
     "execution_count": 86,
     "metadata": {},
     "output_type": "execute_result"
    }
   ],
   "source": [
    "# Print the current balance of the stock and bond portion of the members portfolio\n",
    "print(new_sb_closing_prices_df)\n",
    "stocks_bonds_value"
   ]
  },
  {
   "cell_type": "code",
   "execution_count": 87,
   "metadata": {},
   "outputs": [
    {
     "name": "stdout",
     "output_type": "stream",
     "text": [
      "672610.18269396\n",
      "14475844.500306921\n"
     ]
    }
   ],
   "source": [
    "# Use the lower and upper `95%` confidence intervals to calculate the range of the possible outcomes for the current stock/bond portfolio\n",
    "ci_lower_thirty_cumulative_return = MC_summary_statistics[8] * stocks_bonds_value\n",
    "ci_upper_thirty_cumulative_return = MC_summary_statistics[9] * stocks_bonds_value\n",
    "\n",
    "# Print the result of your calculations\n",
    "print(ci_lower_thirty_cumulative_return)\n",
    "print(ci_upper_thirty_cumulative_return)"
   ]
  },
  {
   "cell_type": "markdown",
   "metadata": {},
   "source": [
    "### Forecast Cumulative Returns in 10 Years\n",
    "\n",
    "- Forecast the cumulative returns for 10 years from now. Because of the shortened investment horizon (30 years to 10 years), the portfolio needs to invest more heavily in the riskier asset&mdash;that is, stock&mdash;to help accumulate wealth for retirement. \n",
    "\n",
    "- Adjust the weights of the retirement portfolio so that the composition for the Monte Carlo simulation consists of 20% bonds and 80% stocks. \n",
    "\n",
    "- Run the simulation over 500 samples, and use the same data that the API call to Alpaca generated.\n",
    "\n",
    "- Based on the new Monte Carlo simulation, answer the following questions in your Jupyter notebook:\n"
   ]
  },
  {
   "cell_type": "code",
   "execution_count": 70,
   "metadata": {},
   "outputs": [
    {
     "data": {
      "text/plain": [
       "<MCForecastTools.MCSimulation at 0x183d3546d88>"
      ]
     },
     "execution_count": 70,
     "metadata": {},
     "output_type": "execute_result"
    }
   ],
   "source": [
    "# Configure a Monte Carlo simulation to forecast 10 years cumulative returns\n",
    "# The weights should be split 20% to AGG and 80% to SPY.\n",
    "# Run 500 samples.\n",
    "MC_ten_year = MCSimulation(\n",
    "  portfolio_data = new_prices_df,\n",
    "  weights = [.20,.80],\n",
    "  num_simulation = 500,\n",
    "  num_trading_days = 252*10\n",
    ")\n",
    "\n",
    "# Review the simulation input data\n",
    "MC_ten_year"
   ]
  },
  {
   "cell_type": "code",
   "execution_count": 71,
   "metadata": {},
   "outputs": [
    {
     "name": "stdout",
     "output_type": "stream",
     "text": [
      "Running Monte Carlo simulation number 0.\n",
      "Running Monte Carlo simulation number 10.\n",
      "Running Monte Carlo simulation number 20.\n",
      "Running Monte Carlo simulation number 30.\n",
      "Running Monte Carlo simulation number 40.\n",
      "Running Monte Carlo simulation number 50.\n",
      "Running Monte Carlo simulation number 60.\n",
      "Running Monte Carlo simulation number 70.\n",
      "Running Monte Carlo simulation number 80.\n",
      "Running Monte Carlo simulation number 90.\n",
      "Running Monte Carlo simulation number 100.\n",
      "Running Monte Carlo simulation number 110.\n",
      "Running Monte Carlo simulation number 120.\n",
      "Running Monte Carlo simulation number 130.\n",
      "Running Monte Carlo simulation number 140.\n",
      "Running Monte Carlo simulation number 150.\n",
      "Running Monte Carlo simulation number 160.\n",
      "Running Monte Carlo simulation number 170.\n",
      "Running Monte Carlo simulation number 180.\n",
      "Running Monte Carlo simulation number 190.\n",
      "Running Monte Carlo simulation number 200.\n",
      "Running Monte Carlo simulation number 210.\n",
      "Running Monte Carlo simulation number 220.\n",
      "Running Monte Carlo simulation number 230.\n",
      "Running Monte Carlo simulation number 240.\n",
      "Running Monte Carlo simulation number 250.\n",
      "Running Monte Carlo simulation number 260.\n",
      "Running Monte Carlo simulation number 270.\n",
      "Running Monte Carlo simulation number 280.\n",
      "Running Monte Carlo simulation number 290.\n",
      "Running Monte Carlo simulation number 300.\n",
      "Running Monte Carlo simulation number 310.\n",
      "Running Monte Carlo simulation number 320.\n",
      "Running Monte Carlo simulation number 330.\n",
      "Running Monte Carlo simulation number 340.\n",
      "Running Monte Carlo simulation number 350.\n",
      "Running Monte Carlo simulation number 360.\n",
      "Running Monte Carlo simulation number 370.\n",
      "Running Monte Carlo simulation number 380.\n",
      "Running Monte Carlo simulation number 390.\n",
      "Running Monte Carlo simulation number 400.\n",
      "Running Monte Carlo simulation number 410.\n",
      "Running Monte Carlo simulation number 420.\n",
      "Running Monte Carlo simulation number 430.\n",
      "Running Monte Carlo simulation number 440.\n",
      "Running Monte Carlo simulation number 450.\n",
      "Running Monte Carlo simulation number 460.\n",
      "Running Monte Carlo simulation number 470.\n",
      "Running Monte Carlo simulation number 480.\n",
      "Running Monte Carlo simulation number 490.\n"
     ]
    },
    {
     "data": {
      "text/html": [
       "<div>\n",
       "<style scoped>\n",
       "    .dataframe tbody tr th:only-of-type {\n",
       "        vertical-align: middle;\n",
       "    }\n",
       "\n",
       "    .dataframe tbody tr th {\n",
       "        vertical-align: top;\n",
       "    }\n",
       "\n",
       "    .dataframe thead th {\n",
       "        text-align: right;\n",
       "    }\n",
       "</style>\n",
       "<table border=\"1\" class=\"dataframe\">\n",
       "  <thead>\n",
       "    <tr style=\"text-align: right;\">\n",
       "      <th></th>\n",
       "      <th>0</th>\n",
       "      <th>1</th>\n",
       "      <th>2</th>\n",
       "      <th>3</th>\n",
       "      <th>4</th>\n",
       "      <th>5</th>\n",
       "      <th>6</th>\n",
       "      <th>7</th>\n",
       "      <th>8</th>\n",
       "      <th>9</th>\n",
       "      <th>...</th>\n",
       "      <th>490</th>\n",
       "      <th>491</th>\n",
       "      <th>492</th>\n",
       "      <th>493</th>\n",
       "      <th>494</th>\n",
       "      <th>495</th>\n",
       "      <th>496</th>\n",
       "      <th>497</th>\n",
       "      <th>498</th>\n",
       "      <th>499</th>\n",
       "    </tr>\n",
       "  </thead>\n",
       "  <tbody>\n",
       "    <tr>\n",
       "      <th>0</th>\n",
       "      <td>1.000000</td>\n",
       "      <td>1.000000</td>\n",
       "      <td>1.000000</td>\n",
       "      <td>1.000000</td>\n",
       "      <td>1.000000</td>\n",
       "      <td>1.000000</td>\n",
       "      <td>1.000000</td>\n",
       "      <td>1.000000</td>\n",
       "      <td>1.000000</td>\n",
       "      <td>1.000000</td>\n",
       "      <td>...</td>\n",
       "      <td>1.000000</td>\n",
       "      <td>1.000000</td>\n",
       "      <td>1.000000</td>\n",
       "      <td>1.000000</td>\n",
       "      <td>1.000000</td>\n",
       "      <td>1.000000</td>\n",
       "      <td>1.000000</td>\n",
       "      <td>1.000000</td>\n",
       "      <td>1.000000</td>\n",
       "      <td>1.000000</td>\n",
       "    </tr>\n",
       "    <tr>\n",
       "      <th>1</th>\n",
       "      <td>1.026271</td>\n",
       "      <td>1.007917</td>\n",
       "      <td>0.984413</td>\n",
       "      <td>1.012866</td>\n",
       "      <td>0.993605</td>\n",
       "      <td>1.017407</td>\n",
       "      <td>1.020298</td>\n",
       "      <td>0.998478</td>\n",
       "      <td>1.006521</td>\n",
       "      <td>1.006064</td>\n",
       "      <td>...</td>\n",
       "      <td>0.995015</td>\n",
       "      <td>0.981577</td>\n",
       "      <td>0.997070</td>\n",
       "      <td>1.006966</td>\n",
       "      <td>0.999311</td>\n",
       "      <td>0.986656</td>\n",
       "      <td>0.998703</td>\n",
       "      <td>0.998065</td>\n",
       "      <td>0.980838</td>\n",
       "      <td>1.018925</td>\n",
       "    </tr>\n",
       "    <tr>\n",
       "      <th>2</th>\n",
       "      <td>1.015577</td>\n",
       "      <td>1.015657</td>\n",
       "      <td>1.002266</td>\n",
       "      <td>1.002741</td>\n",
       "      <td>0.993498</td>\n",
       "      <td>1.006122</td>\n",
       "      <td>1.023580</td>\n",
       "      <td>1.002842</td>\n",
       "      <td>1.032460</td>\n",
       "      <td>1.005158</td>\n",
       "      <td>...</td>\n",
       "      <td>0.995970</td>\n",
       "      <td>0.980035</td>\n",
       "      <td>0.989786</td>\n",
       "      <td>1.014316</td>\n",
       "      <td>1.008152</td>\n",
       "      <td>0.993293</td>\n",
       "      <td>1.001129</td>\n",
       "      <td>0.994338</td>\n",
       "      <td>0.992590</td>\n",
       "      <td>1.032853</td>\n",
       "    </tr>\n",
       "    <tr>\n",
       "      <th>3</th>\n",
       "      <td>1.006783</td>\n",
       "      <td>1.007088</td>\n",
       "      <td>0.997332</td>\n",
       "      <td>1.014660</td>\n",
       "      <td>0.994972</td>\n",
       "      <td>1.013873</td>\n",
       "      <td>1.009821</td>\n",
       "      <td>1.011312</td>\n",
       "      <td>1.038924</td>\n",
       "      <td>1.002707</td>\n",
       "      <td>...</td>\n",
       "      <td>0.998551</td>\n",
       "      <td>0.992556</td>\n",
       "      <td>0.977752</td>\n",
       "      <td>1.017772</td>\n",
       "      <td>1.009153</td>\n",
       "      <td>0.996521</td>\n",
       "      <td>1.006577</td>\n",
       "      <td>1.008264</td>\n",
       "      <td>0.993189</td>\n",
       "      <td>1.026165</td>\n",
       "    </tr>\n",
       "    <tr>\n",
       "      <th>4</th>\n",
       "      <td>1.002129</td>\n",
       "      <td>1.011020</td>\n",
       "      <td>0.995333</td>\n",
       "      <td>1.003179</td>\n",
       "      <td>0.980729</td>\n",
       "      <td>1.009446</td>\n",
       "      <td>1.034815</td>\n",
       "      <td>1.021793</td>\n",
       "      <td>1.052855</td>\n",
       "      <td>0.994269</td>\n",
       "      <td>...</td>\n",
       "      <td>1.004217</td>\n",
       "      <td>0.984459</td>\n",
       "      <td>0.991447</td>\n",
       "      <td>1.019824</td>\n",
       "      <td>1.009562</td>\n",
       "      <td>1.020382</td>\n",
       "      <td>1.013497</td>\n",
       "      <td>1.002380</td>\n",
       "      <td>0.989884</td>\n",
       "      <td>1.033653</td>\n",
       "    </tr>\n",
       "    <tr>\n",
       "      <th>...</th>\n",
       "      <td>...</td>\n",
       "      <td>...</td>\n",
       "      <td>...</td>\n",
       "      <td>...</td>\n",
       "      <td>...</td>\n",
       "      <td>...</td>\n",
       "      <td>...</td>\n",
       "      <td>...</td>\n",
       "      <td>...</td>\n",
       "      <td>...</td>\n",
       "      <td>...</td>\n",
       "      <td>...</td>\n",
       "      <td>...</td>\n",
       "      <td>...</td>\n",
       "      <td>...</td>\n",
       "      <td>...</td>\n",
       "      <td>...</td>\n",
       "      <td>...</td>\n",
       "      <td>...</td>\n",
       "      <td>...</td>\n",
       "      <td>...</td>\n",
       "    </tr>\n",
       "    <tr>\n",
       "      <th>2516</th>\n",
       "      <td>2.905287</td>\n",
       "      <td>14.724894</td>\n",
       "      <td>4.505797</td>\n",
       "      <td>5.860111</td>\n",
       "      <td>4.429927</td>\n",
       "      <td>3.805722</td>\n",
       "      <td>7.416657</td>\n",
       "      <td>14.689226</td>\n",
       "      <td>1.680413</td>\n",
       "      <td>4.168395</td>\n",
       "      <td>...</td>\n",
       "      <td>4.231371</td>\n",
       "      <td>12.133210</td>\n",
       "      <td>6.496799</td>\n",
       "      <td>3.711221</td>\n",
       "      <td>5.955130</td>\n",
       "      <td>10.137356</td>\n",
       "      <td>3.133633</td>\n",
       "      <td>3.882465</td>\n",
       "      <td>4.929103</td>\n",
       "      <td>7.462386</td>\n",
       "    </tr>\n",
       "    <tr>\n",
       "      <th>2517</th>\n",
       "      <td>2.952085</td>\n",
       "      <td>14.820027</td>\n",
       "      <td>4.632483</td>\n",
       "      <td>5.803941</td>\n",
       "      <td>4.444271</td>\n",
       "      <td>3.815811</td>\n",
       "      <td>7.500961</td>\n",
       "      <td>14.852592</td>\n",
       "      <td>1.672965</td>\n",
       "      <td>4.113835</td>\n",
       "      <td>...</td>\n",
       "      <td>4.271918</td>\n",
       "      <td>12.156362</td>\n",
       "      <td>6.608323</td>\n",
       "      <td>3.718470</td>\n",
       "      <td>5.942510</td>\n",
       "      <td>10.131932</td>\n",
       "      <td>3.218860</td>\n",
       "      <td>3.918614</td>\n",
       "      <td>4.936226</td>\n",
       "      <td>7.635451</td>\n",
       "    </tr>\n",
       "    <tr>\n",
       "      <th>2518</th>\n",
       "      <td>2.937983</td>\n",
       "      <td>14.884926</td>\n",
       "      <td>4.595223</td>\n",
       "      <td>5.825661</td>\n",
       "      <td>4.448264</td>\n",
       "      <td>3.801032</td>\n",
       "      <td>7.555484</td>\n",
       "      <td>14.959489</td>\n",
       "      <td>1.666833</td>\n",
       "      <td>4.144938</td>\n",
       "      <td>...</td>\n",
       "      <td>4.330656</td>\n",
       "      <td>12.231682</td>\n",
       "      <td>6.564395</td>\n",
       "      <td>3.636620</td>\n",
       "      <td>6.001486</td>\n",
       "      <td>9.974486</td>\n",
       "      <td>3.313571</td>\n",
       "      <td>3.881414</td>\n",
       "      <td>4.915983</td>\n",
       "      <td>7.645893</td>\n",
       "    </tr>\n",
       "    <tr>\n",
       "      <th>2519</th>\n",
       "      <td>2.901818</td>\n",
       "      <td>14.895629</td>\n",
       "      <td>4.544274</td>\n",
       "      <td>5.822999</td>\n",
       "      <td>4.516201</td>\n",
       "      <td>3.777810</td>\n",
       "      <td>7.431100</td>\n",
       "      <td>15.054876</td>\n",
       "      <td>1.669402</td>\n",
       "      <td>4.202182</td>\n",
       "      <td>...</td>\n",
       "      <td>4.341111</td>\n",
       "      <td>12.240058</td>\n",
       "      <td>6.618394</td>\n",
       "      <td>3.645107</td>\n",
       "      <td>5.920658</td>\n",
       "      <td>10.082955</td>\n",
       "      <td>3.303734</td>\n",
       "      <td>3.897958</td>\n",
       "      <td>4.994941</td>\n",
       "      <td>7.641153</td>\n",
       "    </tr>\n",
       "    <tr>\n",
       "      <th>2520</th>\n",
       "      <td>2.946560</td>\n",
       "      <td>14.927966</td>\n",
       "      <td>4.608644</td>\n",
       "      <td>5.851228</td>\n",
       "      <td>4.537247</td>\n",
       "      <td>3.739884</td>\n",
       "      <td>7.423491</td>\n",
       "      <td>15.205911</td>\n",
       "      <td>1.664353</td>\n",
       "      <td>4.185778</td>\n",
       "      <td>...</td>\n",
       "      <td>4.294622</td>\n",
       "      <td>12.244719</td>\n",
       "      <td>6.655385</td>\n",
       "      <td>3.686713</td>\n",
       "      <td>6.035428</td>\n",
       "      <td>10.185857</td>\n",
       "      <td>3.328339</td>\n",
       "      <td>3.913181</td>\n",
       "      <td>4.971054</td>\n",
       "      <td>7.721254</td>\n",
       "    </tr>\n",
       "  </tbody>\n",
       "</table>\n",
       "<p>2521 rows × 500 columns</p>\n",
       "</div>"
      ],
      "text/plain": [
       "           0          1         2         3         4         5         6    \\\n",
       "0     1.000000   1.000000  1.000000  1.000000  1.000000  1.000000  1.000000   \n",
       "1     1.026271   1.007917  0.984413  1.012866  0.993605  1.017407  1.020298   \n",
       "2     1.015577   1.015657  1.002266  1.002741  0.993498  1.006122  1.023580   \n",
       "3     1.006783   1.007088  0.997332  1.014660  0.994972  1.013873  1.009821   \n",
       "4     1.002129   1.011020  0.995333  1.003179  0.980729  1.009446  1.034815   \n",
       "...        ...        ...       ...       ...       ...       ...       ...   \n",
       "2516  2.905287  14.724894  4.505797  5.860111  4.429927  3.805722  7.416657   \n",
       "2517  2.952085  14.820027  4.632483  5.803941  4.444271  3.815811  7.500961   \n",
       "2518  2.937983  14.884926  4.595223  5.825661  4.448264  3.801032  7.555484   \n",
       "2519  2.901818  14.895629  4.544274  5.822999  4.516201  3.777810  7.431100   \n",
       "2520  2.946560  14.927966  4.608644  5.851228  4.537247  3.739884  7.423491   \n",
       "\n",
       "            7         8         9    ...       490        491       492  \\\n",
       "0      1.000000  1.000000  1.000000  ...  1.000000   1.000000  1.000000   \n",
       "1      0.998478  1.006521  1.006064  ...  0.995015   0.981577  0.997070   \n",
       "2      1.002842  1.032460  1.005158  ...  0.995970   0.980035  0.989786   \n",
       "3      1.011312  1.038924  1.002707  ...  0.998551   0.992556  0.977752   \n",
       "4      1.021793  1.052855  0.994269  ...  1.004217   0.984459  0.991447   \n",
       "...         ...       ...       ...  ...       ...        ...       ...   \n",
       "2516  14.689226  1.680413  4.168395  ...  4.231371  12.133210  6.496799   \n",
       "2517  14.852592  1.672965  4.113835  ...  4.271918  12.156362  6.608323   \n",
       "2518  14.959489  1.666833  4.144938  ...  4.330656  12.231682  6.564395   \n",
       "2519  15.054876  1.669402  4.202182  ...  4.341111  12.240058  6.618394   \n",
       "2520  15.205911  1.664353  4.185778  ...  4.294622  12.244719  6.655385   \n",
       "\n",
       "           493       494        495       496       497       498       499  \n",
       "0     1.000000  1.000000   1.000000  1.000000  1.000000  1.000000  1.000000  \n",
       "1     1.006966  0.999311   0.986656  0.998703  0.998065  0.980838  1.018925  \n",
       "2     1.014316  1.008152   0.993293  1.001129  0.994338  0.992590  1.032853  \n",
       "3     1.017772  1.009153   0.996521  1.006577  1.008264  0.993189  1.026165  \n",
       "4     1.019824  1.009562   1.020382  1.013497  1.002380  0.989884  1.033653  \n",
       "...        ...       ...        ...       ...       ...       ...       ...  \n",
       "2516  3.711221  5.955130  10.137356  3.133633  3.882465  4.929103  7.462386  \n",
       "2517  3.718470  5.942510  10.131932  3.218860  3.918614  4.936226  7.635451  \n",
       "2518  3.636620  6.001486   9.974486  3.313571  3.881414  4.915983  7.645893  \n",
       "2519  3.645107  5.920658  10.082955  3.303734  3.897958  4.994941  7.641153  \n",
       "2520  3.686713  6.035428  10.185857  3.328339  3.913181  4.971054  7.721254  \n",
       "\n",
       "[2521 rows x 500 columns]"
      ]
     },
     "execution_count": 71,
     "metadata": {},
     "output_type": "execute_result"
    }
   ],
   "source": [
    "# Run the Monte Carlo simulation to forecast 10 years cumulative returns\n",
    "MC_ten_year.calc_cumulative_return()"
   ]
  },
  {
   "cell_type": "code",
   "execution_count": 77,
   "metadata": {},
   "outputs": [
    {
     "data": {
      "image/png": "[encoded data removed]",
      "text/plain": [
       "<Figure size 432x288 with 1 Axes>"
      ]
     },
     "metadata": {
      "needs_background": "light"
     },
     "output_type": "display_data"
    }
   ],
   "source": [
    "# Visualize the 10-year Monte Carlo simulation by creating an overlay line plot\n",
    "MC_sim_line_plot = MC_ten_year.plot_simulation()"
   ]
  },
  {
   "cell_type": "code",
   "execution_count": 78,
   "metadata": {},
   "outputs": [
    {
     "data": {
      "image/png": "[encoded data removed]",
      "text/plain": [
       "<Figure size 432x288 with 1 Axes>"
      ]
     },
     "metadata": {
      "needs_background": "light"
     },
     "output_type": "display_data"
    }
   ],
   "source": [
    "# Visualize the probability distribution of the 10-year Monte Carlo simulation by plotting a histogram\n",
    "MC_sim_dist_plot = MC_thirty_year.plot_distribution()"
   ]
  },
  {
   "cell_type": "code",
   "execution_count": 79,
   "metadata": {},
   "outputs": [
    {
     "data": {
      "text/plain": [
       "count           500.000000\n",
       "mean              5.542654\n",
       "std               3.153983\n",
       "min               0.651153\n",
       "25%               3.328730\n",
       "50%               4.880963\n",
       "75%               6.988380\n",
       "max              24.589170\n",
       "95% CI Lower      1.575819\n",
       "95% CI Upper     13.926720\n",
       "Name: 2520, dtype: float64"
      ]
     },
     "execution_count": 79,
     "metadata": {},
     "output_type": "execute_result"
    }
   ],
   "source": [
    "# Generate summary statistics from the 10-year Monte Carlo simulation results\n",
    "# Save the results as a variable\n",
    "MC_ten_summary_statistics = MC_ten_year.summarize_cumulative_return()\n",
    "\n",
    "# Review the 10-year Monte Carlo summary statistics\n",
    "MC_ten_summary_statistics"
   ]
  },
  {
   "cell_type": "code",
   "execution_count": 75,
   "metadata": {},
   "outputs": [],
   "source": [
    "# Print the current balance of the stock and bond portion of the members portfolio\n",
    "print(new_sb_closing_prices_df)\n",
    "stocks_bonds_value"
   ]
  },
  {
   "cell_type": "code",
   "execution_count": 88,
   "metadata": {},
   "outputs": [
    {
     "name": "stdout",
     "output_type": "stream",
     "text": [
      "117027.60362176524\n",
      "1034262.2868910528\n"
     ]
    }
   ],
   "source": [
    "# Use the lower and upper `95%` confidence intervals to calculate the range of the possible outcomes for the current stock/bond portfolio\n",
    "ci_lower_ten_cumulative_return = MC_ten_summary_statistics[8] * stocks_bonds_value\n",
    "ci_upper_ten_cumulative_return = MC_ten_summary_statistics[9] * stocks_bonds_value\n",
    "\n",
    "# Print the result of your calculations\n",
    "print(ci_lower_ten_cumulative_return)\n",
    "print(ci_upper_ten_cumulative_return)\n"
   ]
  },
  {
   "cell_type": "code",
   "execution_count": null,
   "metadata": {},
   "outputs": [],
   "source": []
  }
 ],
 "metadata": {
  "kernelspec": {
   "display_name": "dev",
   "language": "python",
   "name": "dev"
  },
  "language_info": {
   "codemirror_mode": {
    "name": "ipython",
    "version": 3
   },
   "file_extension": ".py",
   "mimetype": "text/x-python",
   "name": "python",
   "nbconvert_exporter": "python",
   "pygments_lexer": "ipython3",
   "version": "3.7.10"
  }
 },
 "nbformat": 4,
 "nbformat_minor": 4
}
