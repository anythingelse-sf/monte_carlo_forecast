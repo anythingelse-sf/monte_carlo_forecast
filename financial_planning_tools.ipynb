{
 "cells": [
  {
   "cell_type": "code",
   "execution_count": 1,
   "metadata": {},
   "outputs": [],
   "source": [
    "# Import the required libraries and dependencies\n",
    "import os\n",
    "import requests\n",
    "import json\n",
    "import numpy as ny\n",
    "import pandas as pd\n",
    "from dotenv import load_dotenv\n",
    "import alpaca_trade_api as tradeapi\n",
    "from MCForecastTools import MCSimulation\n",
    "import matplotlib.pyplot as plt"
   ]
  },
  {
   "cell_type": "code",
   "execution_count": 2,
   "metadata": {},
   "outputs": [
    {
     "name": "stderr",
     "output_type": "stream",
     "text": [
      "Python-dotenv could not parse statement starting at line 1\n"
     ]
    },
    {
     "data": {
      "text/plain": [
       "True"
      ]
     },
     "execution_count": 2,
     "metadata": {},
     "output_type": "execute_result"
    }
   ],
   "source": [
    "#Pull the .env file into the current directory\n",
    "load_dotenv()"
   ]
  },
  {
   "cell_type": "markdown",
   "metadata": {},
   "source": [
    "## Establish base amounts for this example"
   ]
  },
  {
   "cell_type": "code",
   "execution_count": 38,
   "metadata": {},
   "outputs": [],
   "source": [
    "# The monthly amount for the member's household income\n",
    "monthly_income = 12000"
   ]
  },
  {
   "cell_type": "code",
   "execution_count": 39,
   "metadata": {},
   "outputs": [],
   "source": [
    "# Set the current number of coins for each cryptocurrency asset held in the portfolio.\n",
    "btc_coins = 1.2\n",
    "eth_coins = 5.3"
   ]
  },
  {
   "cell_type": "markdown",
   "metadata": {},
   "source": [
    "## Part 1: Evaluate the Cryptocurrency Wallet by Using the Requests Library"
   ]
  },
  {
   "cell_type": "markdown",
   "metadata": {},
   "source": [
    "#### Review the endpoint URLs for the API calls to Free Crypto API in order to get the current pricing information for both BTC and ETH."
   ]
  },
  {
   "cell_type": "code",
   "execution_count": 5,
   "metadata": {},
   "outputs": [],
   "source": [
    "# The Free Crypto API Call endpoint URLs for the held cryptocurrency assets\n",
    "btc_url = \"https://api.alternative.me/v2/ticker/Bitcoin/?convert=USD\"\n",
    "eth_url = \"https://api.alternative.me/v2/ticker/Ethereum/?convert=USD\""
   ]
  },
  {
   "cell_type": "markdown",
   "metadata": {},
   "source": [
    "#### Use the Requests library to get the current price (in US dollars) of Bitcoin (BTC)by using the API endpoints that the starter code supplied."
   ]
  },
  {
   "cell_type": "code",
   "execution_count": 6,
   "metadata": {},
   "outputs": [
    {
     "name": "stdout",
     "output_type": "stream",
     "text": [
      "{\n",
      "   \"data\": {\n",
      "      \"1\": {\n",
      "         \"circulating_supply\": 18879056,\n",
      "         \"id\": 1,\n",
      "         \"last_updated\": 1637469268,\n",
      "         \"max_supply\": 21000000,\n",
      "         \"name\": \"Bitcoin\",\n",
      "         \"quotes\": {\n",
      "            \"USD\": {\n",
      "               \"market_cap\": 1117528489074,\n",
      "               \"percent_change_1h\": -0.0633476343301099,\n",
      "               \"percent_change_24h\": 0.796350966116545,\n",
      "               \"percent_change_7d\": -8.48566245185324,\n",
      "               \"percentage_change_1h\": -0.0633476343301099,\n",
      "               \"percentage_change_24h\": 0.796350966116545,\n",
      "               \"percentage_change_7d\": -8.48566245185324,\n",
      "               \"price\": 59173.0,\n",
      "               \"volume_24h\": 27340501439\n",
      "            }\n",
      "         },\n",
      "         \"rank\": 1,\n",
      "         \"symbol\": \"BTC\",\n",
      "         \"total_supply\": 18879056,\n",
      "         \"website_slug\": \"bitcoin\"\n",
      "      }\n",
      "   },\n",
      "   \"metadata\": {\n",
      "      \"error\": null,\n",
      "      \"num_cryptocurrencies\": 3105,\n",
      "      \"timestamp\": 1637469268\n",
      "   }\n",
      "}\n"
     ]
    }
   ],
   "source": [
    "# Using the Python requests library, make an API call to access the current price of BTC\n",
    "btc_response = requests.get(btc_url).json()\n",
    "\n",
    "# Use the json.dumps function to review response data \n",
    "# Set the indent and sort_keys parameters to make the response object readable\n",
    "print(json.dumps(btc_response, indent=3, sort_keys=True))"
   ]
  },
  {
   "cell_type": "markdown",
   "metadata": {},
   "source": [
    "#### Navigate the JSON response object to access the current price of each coin, and store each in a variable."
   ]
  },
  {
   "cell_type": "code",
   "execution_count": 7,
   "metadata": {},
   "outputs": [
    {
     "data": {
      "text/plain": [
       "59173.0"
      ]
     },
     "execution_count": 7,
     "metadata": {},
     "output_type": "execute_result"
    }
   ],
   "source": [
    "# Navigate the BTC response object to access the current price of BTC\n",
    "btc_price = btc_response[\"data\"]['1']['quotes']['USD'][\"price\"]\n",
    "\n",
    "# Print the current price of BTC\n",
    "btc_price"
   ]
  },
  {
   "cell_type": "markdown",
   "metadata": {},
   "source": [
    "#### Repeat for ETH"
   ]
  },
  {
   "cell_type": "code",
   "execution_count": 8,
   "metadata": {},
   "outputs": [
    {
     "name": "stdout",
     "output_type": "stream",
     "text": [
      "{\n",
      "   \"data\": {\n",
      "      \"1027\": {\n",
      "         \"circulating_supply\": 118426210,\n",
      "         \"id\": 1027,\n",
      "         \"last_updated\": 1637469160,\n",
      "         \"max_supply\": 0,\n",
      "         \"name\": \"Ethereum\",\n",
      "         \"quotes\": {\n",
      "            \"USD\": {\n",
      "               \"market_cap\": 517009236301,\n",
      "               \"percent_change_1h\": -0.497992368366455,\n",
      "               \"percent_change_24h\": 1.73969152710999,\n",
      "               \"percent_change_7d\": -6.4466507718475,\n",
      "               \"percentage_change_1h\": -0.497992368366455,\n",
      "               \"percentage_change_24h\": 1.73969152710999,\n",
      "               \"percentage_change_7d\": -6.4466507718475,\n",
      "               \"price\": 4365.67,\n",
      "               \"volume_24h\": 15257765898\n",
      "            }\n",
      "         },\n",
      "         \"rank\": 2,\n",
      "         \"symbol\": \"ETH\",\n",
      "         \"total_supply\": 118426210,\n",
      "         \"website_slug\": \"ethereum\"\n",
      "      }\n",
      "   },\n",
      "   \"metadata\": {\n",
      "      \"error\": null,\n",
      "      \"num_cryptocurrencies\": 3105,\n",
      "      \"timestamp\": 1637469160\n",
      "   }\n",
      "}\n"
     ]
    }
   ],
   "source": [
    "# Using the Python requests library, make an API call to access the current price ETH\n",
    "eth_response = requests.get(eth_url).json()\n",
    "\n",
    "# Use the json.dumps function to review the response data from the API call\n",
    "# Use the indent and sort_keys parameters to make the response object readable\n",
    "print(json.dumps(eth_response, indent=3, sort_keys=True))"
   ]
  },
  {
   "cell_type": "code",
   "execution_count": 9,
   "metadata": {},
   "outputs": [
    {
     "data": {
      "text/plain": [
       "4365.67"
      ]
     },
     "execution_count": 9,
     "metadata": {},
     "output_type": "execute_result"
    }
   ],
   "source": [
    "# Navigate the ETH response object to access the current price of ETH\n",
    "eth_price = eth_response['data']['1027']['quotes']['USD']['price']\n",
    "\n",
    "# Print the current price of ETH\n",
    "eth_price"
   ]
  },
  {
   "cell_type": "markdown",
   "metadata": {},
   "source": [
    "### Calculate the value, in US dollars, of the current amount of each cryptocurrency and of the entire cryptocurrency wallet."
   ]
  },
  {
   "cell_type": "code",
   "execution_count": 10,
   "metadata": {},
   "outputs": [
    {
     "data": {
      "text/plain": [
       "pandas.core.series.Series"
      ]
     },
     "execution_count": 10,
     "metadata": {},
     "output_type": "execute_result"
    }
   ],
   "source": [
    "# Build a Series to hold our BTC and ETH values\n",
    "btc_value=pd.Series(data=[btc_coins, btc_price, (btc_coins*btc_price)], index= ['coins', 'curr_mkt_price', 'total value'])\n",
    "type(btc_value)"
   ]
  },
  {
   "cell_type": "code",
   "execution_count": 11,
   "metadata": {},
   "outputs": [
    {
     "data": {
      "text/plain": [
       "coins                 5.300\n",
       "curr_mkt_price     4365.670\n",
       "total value       23138.051\n",
       "dtype: float64"
      ]
     },
     "execution_count": 11,
     "metadata": {},
     "output_type": "execute_result"
    }
   ],
   "source": [
    "# Compute the current value of the BTC holding \n",
    "eth_value=pd.Series(data=[eth_coins, eth_price, (eth_coins*eth_price)], index= ['coins', 'curr_mkt_price', 'total value'])\n",
    "eth_value"
   ]
  },
  {
   "cell_type": "code",
   "execution_count": 12,
   "metadata": {},
   "outputs": [
    {
     "data": {
      "text/html": [
       "<div>\n",
       "<style scoped>\n",
       "    .dataframe tbody tr th:only-of-type {\n",
       "        vertical-align: middle;\n",
       "    }\n",
       "\n",
       "    .dataframe tbody tr th {\n",
       "        vertical-align: top;\n",
       "    }\n",
       "\n",
       "    .dataframe thead th {\n",
       "        text-align: right;\n",
       "    }\n",
       "</style>\n",
       "<table border=\"1\" class=\"dataframe\">\n",
       "  <thead>\n",
       "    <tr style=\"text-align: right;\">\n",
       "      <th></th>\n",
       "      <th>coins</th>\n",
       "      <th>curr_mkt_price</th>\n",
       "      <th>total value</th>\n",
       "    </tr>\n",
       "  </thead>\n",
       "  <tbody>\n",
       "    <tr>\n",
       "      <th>btc</th>\n",
       "      <td>1.2</td>\n",
       "      <td>59173.00</td>\n",
       "      <td>71007.600</td>\n",
       "    </tr>\n",
       "    <tr>\n",
       "      <th>eth</th>\n",
       "      <td>5.3</td>\n",
       "      <td>4365.67</td>\n",
       "      <td>23138.051</td>\n",
       "    </tr>\n",
       "  </tbody>\n",
       "</table>\n",
       "</div>"
      ],
      "text/plain": [
       "     coins  curr_mkt_price  total value\n",
       "btc    1.2        59173.00    71007.600\n",
       "eth    5.3         4365.67    23138.051"
      ]
     },
     "execution_count": 12,
     "metadata": {},
     "output_type": "execute_result"
    }
   ],
   "source": [
    "# Compute the total value of the cryptocurrency wallet\n",
    "# Add the value of the BTC holding to the value of the ETH holding\n",
    "crypto_value= pd.concat([btc_value , eth_value],axis=1)\n",
    "\n",
    "# Print current cryptocurrency wallet balance\n",
    "crypto_value= crypto_value.rename(columns={0:'btc',1:'eth'})\n",
    "crypto_value=crypto_value.transpose()\n",
    "crypto_value"
   ]
  },
  {
   "cell_type": "code",
   "execution_count": 13,
   "metadata": {},
   "outputs": [
    {
     "data": {
      "text/plain": [
       "94145.65099999998"
      ]
     },
     "execution_count": 13,
     "metadata": {},
     "output_type": "execute_result"
    }
   ],
   "source": [
    "total_crypto_wallet=crypto_value['total value'].sum()\n",
    "total_crypto_wallet"
   ]
  },
  {
   "cell_type": "markdown",
   "metadata": {},
   "source": [
    "### Evaluate the Stock and Bond Holdings by Using the Alpaca SDK\n"
   ]
  },
  {
   "cell_type": "markdown",
   "metadata": {},
   "source": [
    "#### Review the total number of shares held in both (SPY) and (AGG)."
   ]
  },
  {
   "cell_type": "code",
   "execution_count": 14,
   "metadata": {},
   "outputs": [],
   "source": [
    "# Current amount of shares held in both the stock (SPY) and bond (AGG) portion of the portfolio.\n",
    "spy_shares = 110\n",
    "agg_shares = 200"
   ]
  },
  {
   "cell_type": "markdown",
   "metadata": {},
   "source": [
    "#### Set the variables for the Alpaca API and secret keys. Using the Alpaca SDK, create the Alpaca `tradeapi.REST` object. In this object, include the parameters for the Alpaca API key, the secret key, and the version number."
   ]
  },
  {
   "cell_type": "code",
   "execution_count": 15,
   "metadata": {},
   "outputs": [],
   "source": [
    "# Set the variables for the Alpaca API and secret keys\n",
    "alpaca_key=os.getenv('alpaca_key')\n",
    "alpaca_secret_key=os.getenv('alpaca_secret_key')\n",
    "\n",
    "# Create the Alpaca tradeapi.REST object. Pass in as parameters the API key, secret key, and version number.\n",
    "alpaca = tradeapi.REST(\n",
    "alpaca_key,\n",
    "alpaca_secret_key,\n",
    "api_version='v2')"
   ]
  },
  {
   "cell_type": "code",
   "execution_count": 17,
   "metadata": {},
   "outputs": [],
   "source": [
    "# Set the tickers for both the bond and stock portion of the portfolio\n",
    "tickers= [\"SPY\",\"AGG\"]\n",
    "\n",
    "# Set timeframe to 1D \n",
    "timeframe=\"1D\"\n",
    "\n",
    "# Format current date as ISO format\n",
    "# Set both the start and end date at the date of your prior weekday to provide the closing price of the previous trading day\n",
    "start_date=pd.Timestamp(\"2021-11-12\",tz=\"America/New_York\").isoformat()\n",
    "end_date=pd.Timestamp(\"2021-11-12\",tz=\"America/New_York\").isoformat()"
   ]
  },
  {
   "cell_type": "code",
   "execution_count": 18,
   "metadata": {},
   "outputs": [
    {
     "data": {
      "text/html": [
       "<div>\n",
       "<style scoped>\n",
       "    .dataframe tbody tr th:only-of-type {\n",
       "        vertical-align: middle;\n",
       "    }\n",
       "\n",
       "    .dataframe tbody tr th {\n",
       "        vertical-align: top;\n",
       "    }\n",
       "\n",
       "    .dataframe thead tr th {\n",
       "        text-align: left;\n",
       "    }\n",
       "\n",
       "    .dataframe thead tr:last-of-type th {\n",
       "        text-align: right;\n",
       "    }\n",
       "</style>\n",
       "<table border=\"1\" class=\"dataframe\">\n",
       "  <thead>\n",
       "    <tr>\n",
       "      <th></th>\n",
       "      <th colspan=\"5\" halign=\"left\">AGG</th>\n",
       "      <th colspan=\"5\" halign=\"left\">SPY</th>\n",
       "    </tr>\n",
       "    <tr>\n",
       "      <th></th>\n",
       "      <th>open</th>\n",
       "      <th>high</th>\n",
       "      <th>low</th>\n",
       "      <th>close</th>\n",
       "      <th>volume</th>\n",
       "      <th>open</th>\n",
       "      <th>high</th>\n",
       "      <th>low</th>\n",
       "      <th>close</th>\n",
       "      <th>volume</th>\n",
       "    </tr>\n",
       "    <tr>\n",
       "      <th>time</th>\n",
       "      <th></th>\n",
       "      <th></th>\n",
       "      <th></th>\n",
       "      <th></th>\n",
       "      <th></th>\n",
       "      <th></th>\n",
       "      <th></th>\n",
       "      <th></th>\n",
       "      <th></th>\n",
       "      <th></th>\n",
       "    </tr>\n",
       "  </thead>\n",
       "  <tbody>\n",
       "    <tr>\n",
       "      <th>2021-11-12 00:00:00-05:00</th>\n",
       "      <td>114.5</td>\n",
       "      <td>114.585</td>\n",
       "      <td>114.26</td>\n",
       "      <td>114.33</td>\n",
       "      <td>4398727</td>\n",
       "      <td>465.12</td>\n",
       "      <td>467.86</td>\n",
       "      <td>464.11</td>\n",
       "      <td>467.26</td>\n",
       "      <td>44677612</td>\n",
       "    </tr>\n",
       "  </tbody>\n",
       "</table>\n",
       "</div>"
      ],
      "text/plain": [
       "                             AGG                                       SPY  \\\n",
       "                            open     high     low   close   volume    open   \n",
       "time                                                                         \n",
       "2021-11-12 00:00:00-05:00  114.5  114.585  114.26  114.33  4398727  465.12   \n",
       "\n",
       "                                                             \n",
       "                             high     low   close    volume  \n",
       "time                                                         \n",
       "2021-11-12 00:00:00-05:00  467.86  464.11  467.26  44677612  "
      ]
     },
     "execution_count": 18,
     "metadata": {},
     "output_type": "execute_result"
    }
   ],
   "source": [
    "# Use the Alpaca get_barset function to get closing prices the portfolio. don't forget to add '.df' at the end.\n",
    "df_portfolio=alpaca.get_barset(\n",
    "tickers,\n",
    "timeframe,\n",
    "start=start_date,\n",
    "end=end_date,\n",
    ").df\n",
    "\n",
    "# Review the Alpaca DataFrame\n",
    "df_portfolio.head()"
   ]
  },
  {
   "cell_type": "code",
   "execution_count": 19,
   "metadata": {},
   "outputs": [
    {
     "data": {
      "text/html": [
       "<div>\n",
       "<style scoped>\n",
       "    .dataframe tbody tr th:only-of-type {\n",
       "        vertical-align: middle;\n",
       "    }\n",
       "\n",
       "    .dataframe tbody tr th {\n",
       "        vertical-align: top;\n",
       "    }\n",
       "\n",
       "    .dataframe thead th {\n",
       "        text-align: right;\n",
       "    }\n",
       "</style>\n",
       "<table border=\"1\" class=\"dataframe\">\n",
       "  <thead>\n",
       "    <tr style=\"text-align: right;\">\n",
       "      <th></th>\n",
       "      <th>AGG</th>\n",
       "      <th>SPY</th>\n",
       "    </tr>\n",
       "  </thead>\n",
       "  <tbody>\n",
       "    <tr>\n",
       "      <th>2021-11-12</th>\n",
       "      <td>114.33</td>\n",
       "      <td>467.26</td>\n",
       "    </tr>\n",
       "  </tbody>\n",
       "</table>\n",
       "</div>"
      ],
      "text/plain": [
       "               AGG     SPY\n",
       "2021-11-12  114.33  467.26"
      ]
     },
     "execution_count": 19,
     "metadata": {},
     "output_type": "execute_result"
    }
   ],
   "source": [
    "#Create an empty DataFrame for closing prices\n",
    "closing_prices_df = pd.DataFrame()\n",
    "\n",
    "# Get the closing prices of AGG and SPY\n",
    "closing_prices_df['AGG'] = df_portfolio[\"AGG\"]['close']\n",
    "closing_prices_df['SPY'] = df_portfolio[\"SPY\"]['close']\n",
    "\n",
    "# Drop the time component of the date\n",
    "closing_prices_df.index = closing_prices_df.index.date\n",
    "\n",
    "# Check your work\n",
    "closing_prices_df.head()"
   ]
  },
  {
   "cell_type": "code",
   "execution_count": 21,
   "metadata": {},
   "outputs": [
    {
     "data": {
      "text/html": [
       "<div>\n",
       "<style scoped>\n",
       "    .dataframe tbody tr th:only-of-type {\n",
       "        vertical-align: middle;\n",
       "    }\n",
       "\n",
       "    .dataframe tbody tr th {\n",
       "        vertical-align: top;\n",
       "    }\n",
       "\n",
       "    .dataframe thead th {\n",
       "        text-align: right;\n",
       "    }\n",
       "</style>\n",
       "<table border=\"1\" class=\"dataframe\">\n",
       "  <thead>\n",
       "    <tr style=\"text-align: right;\">\n",
       "      <th></th>\n",
       "      <th>mkt price</th>\n",
       "      <th>shares</th>\n",
       "    </tr>\n",
       "  </thead>\n",
       "  <tbody>\n",
       "    <tr>\n",
       "      <th>AGG</th>\n",
       "      <td>114.33</td>\n",
       "      <td>200</td>\n",
       "    </tr>\n",
       "    <tr>\n",
       "      <th>SPY</th>\n",
       "      <td>467.26</td>\n",
       "      <td>110</td>\n",
       "    </tr>\n",
       "  </tbody>\n",
       "</table>\n",
       "</div>"
      ],
      "text/plain": [
       "     mkt price  shares\n",
       "AGG     114.33     200\n",
       "SPY     467.26     110"
      ]
     },
     "execution_count": 21,
     "metadata": {},
     "output_type": "execute_result"
    }
   ],
   "source": [
    "### Add the number of shares variable to the data frame\n",
    "### Calculate the total value of each position in the DataFrame\n",
    "new_sb_closing_prices_df=closing_prices_df.transpose()\n",
    "new_sb_closing_prices_df['shares']=[agg_shares,spy_shares]\n",
    "new_sb_closing_prices_df.columns=['mkt price', 'shares']\n",
    "new_sb_closing_prices_df.head()"
   ]
  },
  {
   "cell_type": "code",
   "execution_count": 22,
   "metadata": {},
   "outputs": [
    {
     "data": {
      "text/html": [
       "<div>\n",
       "<style scoped>\n",
       "    .dataframe tbody tr th:only-of-type {\n",
       "        vertical-align: middle;\n",
       "    }\n",
       "\n",
       "    .dataframe tbody tr th {\n",
       "        vertical-align: top;\n",
       "    }\n",
       "\n",
       "    .dataframe thead th {\n",
       "        text-align: right;\n",
       "    }\n",
       "</style>\n",
       "<table border=\"1\" class=\"dataframe\">\n",
       "  <thead>\n",
       "    <tr style=\"text-align: right;\">\n",
       "      <th></th>\n",
       "      <th>mkt price</th>\n",
       "      <th>shares</th>\n",
       "      <th>total value</th>\n",
       "    </tr>\n",
       "  </thead>\n",
       "  <tbody>\n",
       "    <tr>\n",
       "      <th>AGG</th>\n",
       "      <td>114.33</td>\n",
       "      <td>200</td>\n",
       "      <td>22866.0</td>\n",
       "    </tr>\n",
       "    <tr>\n",
       "      <th>SPY</th>\n",
       "      <td>467.26</td>\n",
       "      <td>110</td>\n",
       "      <td>51398.6</td>\n",
       "    </tr>\n",
       "  </tbody>\n",
       "</table>\n",
       "</div>"
      ],
      "text/plain": [
       "     mkt price  shares  total value\n",
       "AGG     114.33     200      22866.0\n",
       "SPY     467.26     110      51398.6"
      ]
     },
     "execution_count": 22,
     "metadata": {},
     "output_type": "execute_result"
    }
   ],
   "source": [
    "# Calculate the current value of the stock portion of the portfolio\n",
    "new_sb_closing_prices_df['total value']=new_sb_closing_prices_df['mkt price']*new_sb_closing_prices_df['shares']\n",
    "new_sb_closing_prices_df"
   ]
  },
  {
   "cell_type": "code",
   "execution_count": 24,
   "metadata": {},
   "outputs": [
    {
     "data": {
      "text/plain": [
       "74264.6"
      ]
     },
     "execution_count": 24,
     "metadata": {},
     "output_type": "execute_result"
    }
   ],
   "source": [
    "# Calculate the total value of the stock and bond portion of the portfolio\n",
    "stocks_bonds_value= new_sb_closing_prices_df['total value'].sum()\n",
    "\n",
    "# Print the current balance of the stock and bond portion of the portfolio\n",
    "stocks_bonds_value"
   ]
  },
  {
   "cell_type": "code",
   "execution_count": 25,
   "metadata": {},
   "outputs": [
    {
     "data": {
      "text/plain": [
       "94145.65099999998"
      ]
     },
     "execution_count": 25,
     "metadata": {},
     "output_type": "execute_result"
    }
   ],
   "source": [
    "# Remember the crypto_value\n",
    "total_crypto_wallet"
   ]
  },
  {
   "cell_type": "code",
   "execution_count": 26,
   "metadata": {},
   "outputs": [
    {
     "data": {
      "text/plain": [
       "168410.251"
      ]
     },
     "execution_count": 26,
     "metadata": {},
     "output_type": "execute_result"
    }
   ],
   "source": [
    "# Calculate the total value of the member's entire portfolio\n",
    "portfolio=stocks_bonds_value+total_crypto_wallet\n",
    "portfolio"
   ]
  },
  {
   "cell_type": "markdown",
   "metadata": {},
   "source": [
    "### Evaluate the Emergency Fund"
   ]
  },
  {
   "cell_type": "code",
   "execution_count": 27,
   "metadata": {},
   "outputs": [
    {
     "data": {
      "text/html": [
       "<div>\n",
       "<style scoped>\n",
       "    .dataframe tbody tr th:only-of-type {\n",
       "        vertical-align: middle;\n",
       "    }\n",
       "\n",
       "    .dataframe tbody tr th {\n",
       "        vertical-align: top;\n",
       "    }\n",
       "\n",
       "    .dataframe thead th {\n",
       "        text-align: right;\n",
       "    }\n",
       "</style>\n",
       "<table border=\"1\" class=\"dataframe\">\n",
       "  <thead>\n",
       "    <tr style=\"text-align: right;\">\n",
       "      <th></th>\n",
       "      <th>units</th>\n",
       "      <th>mkt price</th>\n",
       "      <th>total value</th>\n",
       "    </tr>\n",
       "  </thead>\n",
       "  <tbody>\n",
       "    <tr>\n",
       "      <th>AGG</th>\n",
       "      <td>200</td>\n",
       "      <td>114.33</td>\n",
       "      <td>22866.0</td>\n",
       "    </tr>\n",
       "    <tr>\n",
       "      <th>SPY</th>\n",
       "      <td>110</td>\n",
       "      <td>467.26</td>\n",
       "      <td>51398.6</td>\n",
       "    </tr>\n",
       "  </tbody>\n",
       "</table>\n",
       "</div>"
      ],
      "text/plain": [
       "     units  mkt price  total value\n",
       "AGG    200     114.33      22866.0\n",
       "SPY    110     467.26      51398.6"
      ]
     },
     "execution_count": 27,
     "metadata": {},
     "output_type": "execute_result"
    }
   ],
   "source": [
    "# Consolidate financial assets data \n",
    "new_sb_closing_prices_df=new_sb_closing_prices_df.rename(columns={'shares':'units'})\n",
    "new_sb_closing_prices_df=new_sb_closing_prices_df[['units','mkt price', 'total value']]\n",
    "new_sb_closing_prices_df\n"
   ]
  },
  {
   "cell_type": "code",
   "execution_count": 28,
   "metadata": {},
   "outputs": [
    {
     "data": {
      "text/html": [
       "<div>\n",
       "<style scoped>\n",
       "    .dataframe tbody tr th:only-of-type {\n",
       "        vertical-align: middle;\n",
       "    }\n",
       "\n",
       "    .dataframe tbody tr th {\n",
       "        vertical-align: top;\n",
       "    }\n",
       "\n",
       "    .dataframe thead th {\n",
       "        text-align: right;\n",
       "    }\n",
       "</style>\n",
       "<table border=\"1\" class=\"dataframe\">\n",
       "  <thead>\n",
       "    <tr style=\"text-align: right;\">\n",
       "      <th></th>\n",
       "      <th>units</th>\n",
       "      <th>mkt price</th>\n",
       "      <th>total value</th>\n",
       "    </tr>\n",
       "  </thead>\n",
       "  <tbody>\n",
       "    <tr>\n",
       "      <th>btc</th>\n",
       "      <td>1.2</td>\n",
       "      <td>59173.00</td>\n",
       "      <td>71007.600</td>\n",
       "    </tr>\n",
       "    <tr>\n",
       "      <th>eth</th>\n",
       "      <td>5.3</td>\n",
       "      <td>4365.67</td>\n",
       "      <td>23138.051</td>\n",
       "    </tr>\n",
       "  </tbody>\n",
       "</table>\n",
       "</div>"
      ],
      "text/plain": [
       "     units  mkt price  total value\n",
       "btc    1.2   59173.00    71007.600\n",
       "eth    5.3    4365.67    23138.051"
      ]
     },
     "execution_count": 28,
     "metadata": {},
     "output_type": "execute_result"
    }
   ],
   "source": [
    "# Review the Python list savings_data\n",
    "crypto_value=crypto_value.rename(columns={'coins':'units', 'curr_mkt_price':'mkt price'})\n",
    "crypto_value"
   ]
  },
  {
   "cell_type": "code",
   "execution_count": 30,
   "metadata": {},
   "outputs": [
    {
     "data": {
      "text/html": [
       "<div>\n",
       "<style scoped>\n",
       "    .dataframe tbody tr th:only-of-type {\n",
       "        vertical-align: middle;\n",
       "    }\n",
       "\n",
       "    .dataframe tbody tr th {\n",
       "        vertical-align: top;\n",
       "    }\n",
       "\n",
       "    .dataframe thead th {\n",
       "        text-align: right;\n",
       "    }\n",
       "</style>\n",
       "<table border=\"1\" class=\"dataframe\">\n",
       "  <thead>\n",
       "    <tr style=\"text-align: right;\">\n",
       "      <th></th>\n",
       "      <th>units</th>\n",
       "      <th>mkt price</th>\n",
       "      <th>total value</th>\n",
       "    </tr>\n",
       "  </thead>\n",
       "  <tbody>\n",
       "    <tr>\n",
       "      <th>AGG</th>\n",
       "      <td>200.0</td>\n",
       "      <td>114.33</td>\n",
       "      <td>22866.000</td>\n",
       "    </tr>\n",
       "    <tr>\n",
       "      <th>SPY</th>\n",
       "      <td>110.0</td>\n",
       "      <td>467.26</td>\n",
       "      <td>51398.600</td>\n",
       "    </tr>\n",
       "    <tr>\n",
       "      <th>btc</th>\n",
       "      <td>1.2</td>\n",
       "      <td>59173.00</td>\n",
       "      <td>71007.600</td>\n",
       "    </tr>\n",
       "    <tr>\n",
       "      <th>eth</th>\n",
       "      <td>5.3</td>\n",
       "      <td>4365.67</td>\n",
       "      <td>23138.051</td>\n",
       "    </tr>\n",
       "  </tbody>\n",
       "</table>\n",
       "</div>"
      ],
      "text/plain": [
       "     units  mkt price  total value\n",
       "AGG  200.0     114.33    22866.000\n",
       "SPY  110.0     467.26    51398.600\n",
       "btc    1.2   59173.00    71007.600\n",
       "eth    5.3    4365.67    23138.051"
      ]
     },
     "execution_count": 30,
     "metadata": {},
     "output_type": "execute_result"
    }
   ],
   "source": [
    "# Take a look at your complete portfolio\n",
    "total_portfolio=pd.concat([new_sb_closing_prices_df, crypto_value])\n",
    "total_portfolio"
   ]
  },
  {
   "cell_type": "markdown",
   "metadata": {},
   "source": [
    "#### Step 3: Use the `savings_df` DataFrame to plot a pie chart that visualizes the composition of the member’s portfolio. The y-axis of the pie chart uses `amount`. Be sure to add a title."
   ]
  },
  {
   "cell_type": "code",
   "execution_count": 31,
   "metadata": {},
   "outputs": [
    {
     "data": {
      "text/plain": [
       "<AxesSubplot:title={'center':'Members Total Portfolio'}, ylabel='total value'>"
      ]
     },
     "execution_count": 31,
     "metadata": {},
     "output_type": "execute_result"
    },
    {
     "data": {
      "image/png": "[encoded data removed]",
      "text/plain": [
       "<Figure size 432x288 with 1 Axes>"
      ]
     },
     "metadata": {},
     "output_type": "display_data"
    }
   ],
   "source": [
    "# Plot the total value of the member's portfolio (crypto and stock/bond) in a pie chart\n",
    "total_portfolio.plot(kind=\"pie\", y='total value', title=\"Members Total Portfolio\")"
   ]
  },
  {
   "cell_type": "markdown",
   "metadata": {},
   "source": [
    "#### Using Python, determine if the current portfolio has enough to create an emergency fund as part of the member’s financial plan. Ideally, an emergency fund should equal to three times the member’s monthly income. To do this, implement the following steps:"
   ]
  },
  {
   "cell_type": "markdown",
   "metadata": {},
   "source": [
    "##### Create a variable named `emergency_fund_value`, and set it equal to three times the value of the member’s `monthly_income` of 12000."
   ]
  },
  {
   "cell_type": "code",
   "execution_count": 34,
   "metadata": {},
   "outputs": [
    {
     "data": {
      "text/plain": [
       "36000"
      ]
     },
     "execution_count": 34,
     "metadata": {},
     "output_type": "execute_result"
    }
   ],
   "source": [
    "# Create a variable named emergency_fund_value\n",
    "emergency_fund_value = monthly_income * 3\n",
    "emergency_fund_value"
   ]
  },
  {
   "cell_type": "code",
   "execution_count": 35,
   "metadata": {},
   "outputs": [
    {
     "data": {
      "text/plain": [
       "168410.25100000002"
      ]
     },
     "execution_count": 35,
     "metadata": {},
     "output_type": "execute_result"
    }
   ],
   "source": [
    "total_portfolio_value = total_portfolio['total value'].sum()\n",
    "total_portfolio_value"
   ]
  },
  {
   "cell_type": "markdown",
   "metadata": {},
   "source": [
    "##### Create a series of three if statements to determine if the member’s total portfolio is large enough to fund the emergency portfolio:\n",
    "\n",
    "* If the total portfolio value is greater than the emergency fund value, display a message congratulating the member for having enough money in this fund.\n",
    "\n",
    "* Else if the total portfolio value is equal to the emergency fund value, display a message congratulating the member on reaching this important financial goal.\n",
    "\n",
    "* Else the total portfolio is less than the emergency fund value, so display a message showing how many dollars away the member is from reaching the goal. (Subtract the total portfolio value from the emergency fund value.)"
   ]
  },
  {
   "cell_type": "code",
   "execution_count": 37,
   "metadata": {},
   "outputs": [
    {
     "name": "stdout",
     "output_type": "stream",
     "text": [
      "Congratulations, you are on the right track!\n"
     ]
    }
   ],
   "source": [
    "# Evaluate the possibility of creating an emergency fund with 3 conditions:\n",
    "if total_portfolio_value > emergency_fund_value:\n",
    "    print('Congratulations, you are on the right track!')\n",
    "elif total_portfolio_value==emergency_fund_value:  \n",
    "    print('Great, you made it!')\n",
    "else:\n",
    "    print(f\"you're this {emergency_fund_value-total_portfolio_value} far away\")"
   ]
  },
  {
   "cell_type": "markdown",
   "metadata": {},
   "source": [
    "### Part 2: Create a Financial Planner for Retirement and Monte Carlo Simulation"
   ]
  },
  {
   "cell_type": "markdown",
   "metadata": {},
   "source": [
    "#### Step 1: Make an API call via the Alpaca SDK to get 3 years of historical closing prices for a traditional 60/40 portfolio split: 60% stocks (SPY) and 40% bonds (AGG)."
   ]
  },
  {
   "cell_type": "code",
   "execution_count": 40,
   "metadata": {},
   "outputs": [],
   "source": [
    "# Set start and end dates of 3 years back from your current date\n",
    "end_date\n",
    "new_start_date=pd.Timestamp(\"2018-11-12\",tz=\"America/New_York\").isoformat()\n",
    "\n",
    "\n",
    "# Set number of rows to 1000 to retrieve the maximum amount of rows\n",
    "limit_rows=1000"
   ]
  },
  {
   "cell_type": "code",
   "execution_count": 41,
   "metadata": {},
   "outputs": [
    {
     "data": {
      "text/html": [
       "<div>\n",
       "<style scoped>\n",
       "    .dataframe tbody tr th:only-of-type {\n",
       "        vertical-align: middle;\n",
       "    }\n",
       "\n",
       "    .dataframe tbody tr th {\n",
       "        vertical-align: top;\n",
       "    }\n",
       "\n",
       "    .dataframe thead tr th {\n",
       "        text-align: left;\n",
       "    }\n",
       "\n",
       "    .dataframe thead tr:last-of-type th {\n",
       "        text-align: right;\n",
       "    }\n",
       "</style>\n",
       "<table border=\"1\" class=\"dataframe\">\n",
       "  <thead>\n",
       "    <tr>\n",
       "      <th></th>\n",
       "      <th colspan=\"5\" halign=\"left\">AGG</th>\n",
       "      <th colspan=\"5\" halign=\"left\">SPY</th>\n",
       "    </tr>\n",
       "    <tr>\n",
       "      <th></th>\n",
       "      <th>open</th>\n",
       "      <th>high</th>\n",
       "      <th>low</th>\n",
       "      <th>close</th>\n",
       "      <th>volume</th>\n",
       "      <th>open</th>\n",
       "      <th>high</th>\n",
       "      <th>low</th>\n",
       "      <th>close</th>\n",
       "      <th>volume</th>\n",
       "    </tr>\n",
       "    <tr>\n",
       "      <th>time</th>\n",
       "      <th></th>\n",
       "      <th></th>\n",
       "      <th></th>\n",
       "      <th></th>\n",
       "      <th></th>\n",
       "      <th></th>\n",
       "      <th></th>\n",
       "      <th></th>\n",
       "      <th></th>\n",
       "      <th></th>\n",
       "    </tr>\n",
       "  </thead>\n",
       "  <tbody>\n",
       "    <tr>\n",
       "      <th>2018-11-12 00:00:00-05:00</th>\n",
       "      <td>104.31</td>\n",
       "      <td>104.350</td>\n",
       "      <td>104.2500</td>\n",
       "      <td>104.310</td>\n",
       "      <td>2142786</td>\n",
       "      <td>277.15</td>\n",
       "      <td>277.460</td>\n",
       "      <td>271.9900</td>\n",
       "      <td>272.49</td>\n",
       "      <td>78678065</td>\n",
       "    </tr>\n",
       "    <tr>\n",
       "      <th>2018-11-13 00:00:00-05:00</th>\n",
       "      <td>104.30</td>\n",
       "      <td>104.370</td>\n",
       "      <td>104.2131</td>\n",
       "      <td>104.350</td>\n",
       "      <td>2772430</td>\n",
       "      <td>273.09</td>\n",
       "      <td>275.325</td>\n",
       "      <td>271.2500</td>\n",
       "      <td>272.06</td>\n",
       "      <td>78846402</td>\n",
       "    </tr>\n",
       "    <tr>\n",
       "      <th>2018-11-14 00:00:00-05:00</th>\n",
       "      <td>104.22</td>\n",
       "      <td>104.500</td>\n",
       "      <td>104.2000</td>\n",
       "      <td>104.360</td>\n",
       "      <td>3170153</td>\n",
       "      <td>274.16</td>\n",
       "      <td>274.610</td>\n",
       "      <td>268.4499</td>\n",
       "      <td>270.13</td>\n",
       "      <td>113944238</td>\n",
       "    </tr>\n",
       "    <tr>\n",
       "      <th>2018-11-15 00:00:00-05:00</th>\n",
       "      <td>104.48</td>\n",
       "      <td>104.510</td>\n",
       "      <td>104.3101</td>\n",
       "      <td>104.480</td>\n",
       "      <td>3694888</td>\n",
       "      <td>268.78</td>\n",
       "      <td>273.540</td>\n",
       "      <td>267.0102</td>\n",
       "      <td>273.07</td>\n",
       "      <td>118131123</td>\n",
       "    </tr>\n",
       "    <tr>\n",
       "      <th>2018-11-16 00:00:00-05:00</th>\n",
       "      <td>104.55</td>\n",
       "      <td>104.710</td>\n",
       "      <td>104.5100</td>\n",
       "      <td>104.655</td>\n",
       "      <td>3277200</td>\n",
       "      <td>271.79</td>\n",
       "      <td>276.000</td>\n",
       "      <td>271.2100</td>\n",
       "      <td>273.68</td>\n",
       "      <td>107341090</td>\n",
       "    </tr>\n",
       "    <tr>\n",
       "      <th>...</th>\n",
       "      <td>...</td>\n",
       "      <td>...</td>\n",
       "      <td>...</td>\n",
       "      <td>...</td>\n",
       "      <td>...</td>\n",
       "      <td>...</td>\n",
       "      <td>...</td>\n",
       "      <td>...</td>\n",
       "      <td>...</td>\n",
       "      <td>...</td>\n",
       "    </tr>\n",
       "    <tr>\n",
       "      <th>2021-11-08 00:00:00-05:00</th>\n",
       "      <td>115.14</td>\n",
       "      <td>115.150</td>\n",
       "      <td>114.9500</td>\n",
       "      <td>115.010</td>\n",
       "      <td>4696293</td>\n",
       "      <td>469.70</td>\n",
       "      <td>470.230</td>\n",
       "      <td>468.2031</td>\n",
       "      <td>468.97</td>\n",
       "      <td>38945705</td>\n",
       "    </tr>\n",
       "    <tr>\n",
       "      <th>2021-11-09 00:00:00-05:00</th>\n",
       "      <td>115.38</td>\n",
       "      <td>115.500</td>\n",
       "      <td>115.2900</td>\n",
       "      <td>115.330</td>\n",
       "      <td>6955738</td>\n",
       "      <td>469.32</td>\n",
       "      <td>469.570</td>\n",
       "      <td>465.8800</td>\n",
       "      <td>467.38</td>\n",
       "      <td>47198095</td>\n",
       "    </tr>\n",
       "    <tr>\n",
       "      <th>2021-11-10 00:00:00-05:00</th>\n",
       "      <td>115.11</td>\n",
       "      <td>115.140</td>\n",
       "      <td>114.3950</td>\n",
       "      <td>114.510</td>\n",
       "      <td>8821475</td>\n",
       "      <td>465.58</td>\n",
       "      <td>467.380</td>\n",
       "      <td>462.0400</td>\n",
       "      <td>463.63</td>\n",
       "      <td>63500032</td>\n",
       "    </tr>\n",
       "    <tr>\n",
       "      <th>2021-11-11 00:00:00-05:00</th>\n",
       "      <td>114.51</td>\n",
       "      <td>114.570</td>\n",
       "      <td>114.3000</td>\n",
       "      <td>114.340</td>\n",
       "      <td>3105027</td>\n",
       "      <td>465.21</td>\n",
       "      <td>465.290</td>\n",
       "      <td>463.7500</td>\n",
       "      <td>463.81</td>\n",
       "      <td>31757893</td>\n",
       "    </tr>\n",
       "    <tr>\n",
       "      <th>2021-11-12 00:00:00-05:00</th>\n",
       "      <td>114.50</td>\n",
       "      <td>114.585</td>\n",
       "      <td>114.2600</td>\n",
       "      <td>114.330</td>\n",
       "      <td>4398727</td>\n",
       "      <td>465.12</td>\n",
       "      <td>467.860</td>\n",
       "      <td>464.1100</td>\n",
       "      <td>467.26</td>\n",
       "      <td>44677612</td>\n",
       "    </tr>\n",
       "  </tbody>\n",
       "</table>\n",
       "<p>757 rows × 10 columns</p>\n",
       "</div>"
      ],
      "text/plain": [
       "                              AGG                                       \\\n",
       "                             open     high       low    close   volume   \n",
       "time                                                                     \n",
       "2018-11-12 00:00:00-05:00  104.31  104.350  104.2500  104.310  2142786   \n",
       "2018-11-13 00:00:00-05:00  104.30  104.370  104.2131  104.350  2772430   \n",
       "2018-11-14 00:00:00-05:00  104.22  104.500  104.2000  104.360  3170153   \n",
       "2018-11-15 00:00:00-05:00  104.48  104.510  104.3101  104.480  3694888   \n",
       "2018-11-16 00:00:00-05:00  104.55  104.710  104.5100  104.655  3277200   \n",
       "...                           ...      ...       ...      ...      ...   \n",
       "2021-11-08 00:00:00-05:00  115.14  115.150  114.9500  115.010  4696293   \n",
       "2021-11-09 00:00:00-05:00  115.38  115.500  115.2900  115.330  6955738   \n",
       "2021-11-10 00:00:00-05:00  115.11  115.140  114.3950  114.510  8821475   \n",
       "2021-11-11 00:00:00-05:00  114.51  114.570  114.3000  114.340  3105027   \n",
       "2021-11-12 00:00:00-05:00  114.50  114.585  114.2600  114.330  4398727   \n",
       "\n",
       "                              SPY                                        \n",
       "                             open     high       low   close     volume  \n",
       "time                                                                     \n",
       "2018-11-12 00:00:00-05:00  277.15  277.460  271.9900  272.49   78678065  \n",
       "2018-11-13 00:00:00-05:00  273.09  275.325  271.2500  272.06   78846402  \n",
       "2018-11-14 00:00:00-05:00  274.16  274.610  268.4499  270.13  113944238  \n",
       "2018-11-15 00:00:00-05:00  268.78  273.540  267.0102  273.07  118131123  \n",
       "2018-11-16 00:00:00-05:00  271.79  276.000  271.2100  273.68  107341090  \n",
       "...                           ...      ...       ...     ...        ...  \n",
       "2021-11-08 00:00:00-05:00  469.70  470.230  468.2031  468.97   38945705  \n",
       "2021-11-09 00:00:00-05:00  469.32  469.570  465.8800  467.38   47198095  \n",
       "2021-11-10 00:00:00-05:00  465.58  467.380  462.0400  463.63   63500032  \n",
       "2021-11-11 00:00:00-05:00  465.21  465.290  463.7500  463.81   31757893  \n",
       "2021-11-12 00:00:00-05:00  465.12  467.860  464.1100  467.26   44677612  \n",
       "\n",
       "[757 rows x 10 columns]"
      ]
     },
     "execution_count": 41,
     "metadata": {},
     "output_type": "execute_result"
    }
   ],
   "source": [
    "# Use the Alpaca get_barset function to make the API call to get the 3 years worth of pricing data\n",
    "# The tickers and timeframe parameters should have been set in Part 1 of this activity \n",
    "# The start and end dates should be updated with the information set above\n",
    "# Remember to add the df property to the end of the call so the response is returned as a DataFrame\n",
    "new_prices_df = alpaca.get_barset(\n",
    "  tickers,\n",
    "  timeframe,\n",
    "  start=new_start_date,\n",
    "  end=end_date,\n",
    "  limit=limit_rows\n",
    ").df\n",
    "\n",
    "\n",
    "# Display both the first and last five rows of the DataFrame\n",
    "new_prices_df"
   ]
  },
  {
   "cell_type": "markdown",
   "metadata": {},
   "source": [
    "#### Step 2: Run a Monte Carlo simulation of 500 samples and 30 years for the 60/40 portfolio, and then plot the results."
   ]
  },
  {
   "cell_type": "code",
   "execution_count": 42,
   "metadata": {},
   "outputs": [
    {
     "data": {
      "text/html": [
       "<div>\n",
       "<style scoped>\n",
       "    .dataframe tbody tr th:only-of-type {\n",
       "        vertical-align: middle;\n",
       "    }\n",
       "\n",
       "    .dataframe tbody tr th {\n",
       "        vertical-align: top;\n",
       "    }\n",
       "\n",
       "    .dataframe thead th {\n",
       "        text-align: right;\n",
       "    }\n",
       "</style>\n",
       "<table border=\"1\" class=\"dataframe\">\n",
       "  <thead>\n",
       "    <tr style=\"text-align: right;\">\n",
       "      <th></th>\n",
       "      <th>AGG</th>\n",
       "      <th>SPY</th>\n",
       "    </tr>\n",
       "  </thead>\n",
       "  <tbody>\n",
       "    <tr>\n",
       "      <th>2018-11-13</th>\n",
       "      <td>0.000383</td>\n",
       "      <td>-0.001578</td>\n",
       "    </tr>\n",
       "    <tr>\n",
       "      <th>2018-11-14</th>\n",
       "      <td>0.000096</td>\n",
       "      <td>-0.007094</td>\n",
       "    </tr>\n",
       "    <tr>\n",
       "      <th>2018-11-15</th>\n",
       "      <td>0.001150</td>\n",
       "      <td>0.010884</td>\n",
       "    </tr>\n",
       "    <tr>\n",
       "      <th>2018-11-16</th>\n",
       "      <td>0.001675</td>\n",
       "      <td>0.002234</td>\n",
       "    </tr>\n",
       "    <tr>\n",
       "      <th>2018-11-19</th>\n",
       "      <td>0.000048</td>\n",
       "      <td>-0.016808</td>\n",
       "    </tr>\n",
       "  </tbody>\n",
       "</table>\n",
       "</div>"
      ],
      "text/plain": [
       "                 AGG       SPY\n",
       "2018-11-13  0.000383 -0.001578\n",
       "2018-11-14  0.000096 -0.007094\n",
       "2018-11-15  0.001150  0.010884\n",
       "2018-11-16  0.001675  0.002234\n",
       "2018-11-19  0.000048 -0.016808"
      ]
     },
     "metadata": {},
     "output_type": "display_data"
    },
    {
     "data": {
      "text/html": [
       "<div>\n",
       "<style scoped>\n",
       "    .dataframe tbody tr th:only-of-type {\n",
       "        vertical-align: middle;\n",
       "    }\n",
       "\n",
       "    .dataframe tbody tr th {\n",
       "        vertical-align: top;\n",
       "    }\n",
       "\n",
       "    .dataframe thead th {\n",
       "        text-align: right;\n",
       "    }\n",
       "</style>\n",
       "<table border=\"1\" class=\"dataframe\">\n",
       "  <thead>\n",
       "    <tr style=\"text-align: right;\">\n",
       "      <th></th>\n",
       "      <th>AGG</th>\n",
       "      <th>SPY</th>\n",
       "    </tr>\n",
       "  </thead>\n",
       "  <tbody>\n",
       "    <tr>\n",
       "      <th>2021-11-08</th>\n",
       "      <td>-0.001996</td>\n",
       "      <td>0.001025</td>\n",
       "    </tr>\n",
       "    <tr>\n",
       "      <th>2021-11-09</th>\n",
       "      <td>0.002782</td>\n",
       "      <td>-0.003390</td>\n",
       "    </tr>\n",
       "    <tr>\n",
       "      <th>2021-11-10</th>\n",
       "      <td>-0.007110</td>\n",
       "      <td>-0.008023</td>\n",
       "    </tr>\n",
       "    <tr>\n",
       "      <th>2021-11-11</th>\n",
       "      <td>-0.001485</td>\n",
       "      <td>0.000388</td>\n",
       "    </tr>\n",
       "    <tr>\n",
       "      <th>2021-11-12</th>\n",
       "      <td>-0.000087</td>\n",
       "      <td>0.007438</td>\n",
       "    </tr>\n",
       "  </tbody>\n",
       "</table>\n",
       "</div>"
      ],
      "text/plain": [
       "                 AGG       SPY\n",
       "2021-11-08 -0.001996  0.001025\n",
       "2021-11-09  0.002782 -0.003390\n",
       "2021-11-10 -0.007110 -0.008023\n",
       "2021-11-11 -0.001485  0.000388\n",
       "2021-11-12 -0.000087  0.007438"
      ]
     },
     "metadata": {},
     "output_type": "display_data"
    }
   ],
   "source": [
    "# Create an empty `closing_prices_df` DataFrame using Pandas\n",
    "new_closing_prices_df = pd.DataFrame()\n",
    "\n",
    "# Populate the `closing_prices_df` DataFrame by accessing the `close` column\n",
    "# from the `prices_df` DataFrame for both KO and TSLA .\n",
    "new_closing_prices_df[\"AGG\"] = new_prices_df[\"AGG\"][\"close\"]\n",
    "new_closing_prices_df[\"SPY\"] = new_prices_df[\"SPY\"][\"close\"]\n",
    "\n",
    "# Update the index for the `closing_prices_df` DataFrame\n",
    "# to retain only the `date` component.\n",
    "new_closing_prices_df.index = new_closing_prices_df.index.date\n",
    "\n",
    "# Compute the `daily_returns_df` DataFrame by chaining\n",
    "# the pct_change function with the dropna function.\n",
    "new_daily_returns_df = new_closing_prices_df.pct_change().dropna()\n",
    "\n",
    "# Display both the head and tail of the `daily_returns_df` DataFrame\n",
    "display(new_daily_returns_df.head())\n",
    "display(new_daily_returns_df.tail())"
   ]
  },
  {
   "cell_type": "code",
   "execution_count": 43,
   "metadata": {},
   "outputs": [
    {
     "data": {
      "text/plain": [
       "<MCForecastTools.MCSimulation at 0x18e64f94308>"
      ]
     },
     "execution_count": 43,
     "metadata": {},
     "output_type": "execute_result"
    }
   ],
   "source": [
    "# Configure the Monte Carlo simulation to forecast 30 years cumulative returns\n",
    "# The weights should be split 40% to AGG and 60% to SPY.\n",
    "# Run 500 samples.\n",
    "MC_thirty_year = MCSimulation(\n",
    "  portfolio_data = new_prices_df,\n",
    "  weights = [.40,.60],\n",
    "  num_simulation = 500,\n",
    "  num_trading_days = 252*30\n",
    ")\n",
    "\n",
    "# Review the simulation input data\n",
    "MC_thirty_year\n"
   ]
  },
  {
   "cell_type": "code",
   "execution_count": 44,
   "metadata": {},
   "outputs": [
    {
     "name": "stdout",
     "output_type": "stream",
     "text": [
      "Running Monte Carlo simulation number 0.\n",
      "Running Monte Carlo simulation number 10.\n",
      "Running Monte Carlo simulation number 20.\n",
      "Running Monte Carlo simulation number 30.\n",
      "Running Monte Carlo simulation number 40.\n",
      "Running Monte Carlo simulation number 50.\n",
      "Running Monte Carlo simulation number 60.\n",
      "Running Monte Carlo simulation number 70.\n",
      "Running Monte Carlo simulation number 80.\n",
      "Running Monte Carlo simulation number 90.\n",
      "Running Monte Carlo simulation number 100.\n",
      "Running Monte Carlo simulation number 110.\n",
      "Running Monte Carlo simulation number 120.\n",
      "Running Monte Carlo simulation number 130.\n",
      "Running Monte Carlo simulation number 140.\n",
      "Running Monte Carlo simulation number 150.\n",
      "Running Monte Carlo simulation number 160.\n",
      "Running Monte Carlo simulation number 170.\n",
      "Running Monte Carlo simulation number 180.\n",
      "Running Monte Carlo simulation number 190.\n",
      "Running Monte Carlo simulation number 200.\n",
      "Running Monte Carlo simulation number 210.\n",
      "Running Monte Carlo simulation number 220.\n",
      "Running Monte Carlo simulation number 230.\n",
      "Running Monte Carlo simulation number 240.\n",
      "Running Monte Carlo simulation number 250.\n",
      "Running Monte Carlo simulation number 260.\n",
      "Running Monte Carlo simulation number 270.\n",
      "Running Monte Carlo simulation number 280.\n",
      "Running Monte Carlo simulation number 290.\n",
      "Running Monte Carlo simulation number 300.\n",
      "Running Monte Carlo simulation number 310.\n",
      "Running Monte Carlo simulation number 320.\n",
      "Running Monte Carlo simulation number 330.\n",
      "Running Monte Carlo simulation number 340.\n",
      "Running Monte Carlo simulation number 350.\n",
      "Running Monte Carlo simulation number 360.\n",
      "Running Monte Carlo simulation number 370.\n",
      "Running Monte Carlo simulation number 380.\n",
      "Running Monte Carlo simulation number 390.\n",
      "Running Monte Carlo simulation number 400.\n",
      "Running Monte Carlo simulation number 410.\n",
      "Running Monte Carlo simulation number 420.\n",
      "Running Monte Carlo simulation number 430.\n",
      "Running Monte Carlo simulation number 440.\n",
      "Running Monte Carlo simulation number 450.\n",
      "Running Monte Carlo simulation number 460.\n",
      "Running Monte Carlo simulation number 470.\n",
      "Running Monte Carlo simulation number 480.\n",
      "Running Monte Carlo simulation number 490.\n"
     ]
    },
    {
     "data": {
      "text/html": [
       "<div>\n",
       "<style scoped>\n",
       "    .dataframe tbody tr th:only-of-type {\n",
       "        vertical-align: middle;\n",
       "    }\n",
       "\n",
       "    .dataframe tbody tr th {\n",
       "        vertical-align: top;\n",
       "    }\n",
       "\n",
       "    .dataframe thead th {\n",
       "        text-align: right;\n",
       "    }\n",
       "</style>\n",
       "<table border=\"1\" class=\"dataframe\">\n",
       "  <thead>\n",
       "    <tr style=\"text-align: right;\">\n",
       "      <th></th>\n",
       "      <th>0</th>\n",
       "      <th>1</th>\n",
       "      <th>2</th>\n",
       "      <th>3</th>\n",
       "      <th>4</th>\n",
       "      <th>5</th>\n",
       "      <th>6</th>\n",
       "      <th>7</th>\n",
       "      <th>8</th>\n",
       "      <th>9</th>\n",
       "      <th>...</th>\n",
       "      <th>490</th>\n",
       "      <th>491</th>\n",
       "      <th>492</th>\n",
       "      <th>493</th>\n",
       "      <th>494</th>\n",
       "      <th>495</th>\n",
       "      <th>496</th>\n",
       "      <th>497</th>\n",
       "      <th>498</th>\n",
       "      <th>499</th>\n",
       "    </tr>\n",
       "  </thead>\n",
       "  <tbody>\n",
       "    <tr>\n",
       "      <th>0</th>\n",
       "      <td>1.000000</td>\n",
       "      <td>1.000000</td>\n",
       "      <td>1.000000</td>\n",
       "      <td>1.000000</td>\n",
       "      <td>1.000000</td>\n",
       "      <td>1.000000</td>\n",
       "      <td>1.000000</td>\n",
       "      <td>1.000000</td>\n",
       "      <td>1.000000</td>\n",
       "      <td>1.000000</td>\n",
       "      <td>...</td>\n",
       "      <td>1.000000</td>\n",
       "      <td>1.000000</td>\n",
       "      <td>1.000000</td>\n",
       "      <td>1.000000</td>\n",
       "      <td>1.000000</td>\n",
       "      <td>1.000000</td>\n",
       "      <td>1.000000</td>\n",
       "      <td>1.000000</td>\n",
       "      <td>1.000000</td>\n",
       "      <td>1.000000</td>\n",
       "    </tr>\n",
       "    <tr>\n",
       "      <th>1</th>\n",
       "      <td>0.999461</td>\n",
       "      <td>1.007180</td>\n",
       "      <td>1.006174</td>\n",
       "      <td>0.999665</td>\n",
       "      <td>0.989746</td>\n",
       "      <td>0.989928</td>\n",
       "      <td>1.004550</td>\n",
       "      <td>0.999303</td>\n",
       "      <td>1.007595</td>\n",
       "      <td>1.001493</td>\n",
       "      <td>...</td>\n",
       "      <td>0.998256</td>\n",
       "      <td>0.994583</td>\n",
       "      <td>0.990898</td>\n",
       "      <td>1.000106</td>\n",
       "      <td>1.002460</td>\n",
       "      <td>0.997090</td>\n",
       "      <td>1.001610</td>\n",
       "      <td>0.997570</td>\n",
       "      <td>0.993347</td>\n",
       "      <td>1.006209</td>\n",
       "    </tr>\n",
       "    <tr>\n",
       "      <th>2</th>\n",
       "      <td>0.985741</td>\n",
       "      <td>1.022494</td>\n",
       "      <td>1.004492</td>\n",
       "      <td>1.005401</td>\n",
       "      <td>0.982288</td>\n",
       "      <td>0.981517</td>\n",
       "      <td>1.007704</td>\n",
       "      <td>1.001709</td>\n",
       "      <td>1.027839</td>\n",
       "      <td>0.996033</td>\n",
       "      <td>...</td>\n",
       "      <td>0.996243</td>\n",
       "      <td>0.984988</td>\n",
       "      <td>0.983279</td>\n",
       "      <td>0.990734</td>\n",
       "      <td>1.013670</td>\n",
       "      <td>0.989316</td>\n",
       "      <td>0.996563</td>\n",
       "      <td>0.996694</td>\n",
       "      <td>1.001949</td>\n",
       "      <td>1.003987</td>\n",
       "    </tr>\n",
       "    <tr>\n",
       "      <th>3</th>\n",
       "      <td>0.980264</td>\n",
       "      <td>1.010736</td>\n",
       "      <td>1.011377</td>\n",
       "      <td>1.015174</td>\n",
       "      <td>0.978425</td>\n",
       "      <td>0.998349</td>\n",
       "      <td>0.994136</td>\n",
       "      <td>1.001376</td>\n",
       "      <td>1.023886</td>\n",
       "      <td>0.999317</td>\n",
       "      <td>...</td>\n",
       "      <td>0.993840</td>\n",
       "      <td>0.990953</td>\n",
       "      <td>0.996370</td>\n",
       "      <td>0.979579</td>\n",
       "      <td>1.008376</td>\n",
       "      <td>0.989676</td>\n",
       "      <td>0.995795</td>\n",
       "      <td>0.998798</td>\n",
       "      <td>1.008271</td>\n",
       "      <td>1.010341</td>\n",
       "    </tr>\n",
       "    <tr>\n",
       "      <th>4</th>\n",
       "      <td>0.991141</td>\n",
       "      <td>1.042951</td>\n",
       "      <td>1.025218</td>\n",
       "      <td>1.031182</td>\n",
       "      <td>0.973208</td>\n",
       "      <td>0.986998</td>\n",
       "      <td>0.995589</td>\n",
       "      <td>0.998927</td>\n",
       "      <td>1.025372</td>\n",
       "      <td>0.994771</td>\n",
       "      <td>...</td>\n",
       "      <td>0.996058</td>\n",
       "      <td>0.991133</td>\n",
       "      <td>1.012381</td>\n",
       "      <td>0.987820</td>\n",
       "      <td>1.019132</td>\n",
       "      <td>1.005019</td>\n",
       "      <td>0.995087</td>\n",
       "      <td>0.999553</td>\n",
       "      <td>1.015201</td>\n",
       "      <td>0.999168</td>\n",
       "    </tr>\n",
       "    <tr>\n",
       "      <th>...</th>\n",
       "      <td>...</td>\n",
       "      <td>...</td>\n",
       "      <td>...</td>\n",
       "      <td>...</td>\n",
       "      <td>...</td>\n",
       "      <td>...</td>\n",
       "      <td>...</td>\n",
       "      <td>...</td>\n",
       "      <td>...</td>\n",
       "      <td>...</td>\n",
       "      <td>...</td>\n",
       "      <td>...</td>\n",
       "      <td>...</td>\n",
       "      <td>...</td>\n",
       "      <td>...</td>\n",
       "      <td>...</td>\n",
       "      <td>...</td>\n",
       "      <td>...</td>\n",
       "      <td>...</td>\n",
       "      <td>...</td>\n",
       "      <td>...</td>\n",
       "    </tr>\n",
       "    <tr>\n",
       "      <th>7556</th>\n",
       "      <td>63.136766</td>\n",
       "      <td>171.764463</td>\n",
       "      <td>19.856279</td>\n",
       "      <td>152.882315</td>\n",
       "      <td>16.363781</td>\n",
       "      <td>42.547573</td>\n",
       "      <td>182.255683</td>\n",
       "      <td>34.078302</td>\n",
       "      <td>39.352417</td>\n",
       "      <td>22.692935</td>\n",
       "      <td>...</td>\n",
       "      <td>100.769107</td>\n",
       "      <td>31.475367</td>\n",
       "      <td>64.094103</td>\n",
       "      <td>48.457703</td>\n",
       "      <td>38.836861</td>\n",
       "      <td>50.390477</td>\n",
       "      <td>59.294861</td>\n",
       "      <td>17.708245</td>\n",
       "      <td>82.155422</td>\n",
       "      <td>30.950402</td>\n",
       "    </tr>\n",
       "    <tr>\n",
       "      <th>7557</th>\n",
       "      <td>62.436175</td>\n",
       "      <td>173.055727</td>\n",
       "      <td>19.626088</td>\n",
       "      <td>155.544182</td>\n",
       "      <td>16.257595</td>\n",
       "      <td>42.635924</td>\n",
       "      <td>181.319381</td>\n",
       "      <td>34.066288</td>\n",
       "      <td>39.214047</td>\n",
       "      <td>22.608661</td>\n",
       "      <td>...</td>\n",
       "      <td>101.486418</td>\n",
       "      <td>31.736106</td>\n",
       "      <td>64.016349</td>\n",
       "      <td>48.932894</td>\n",
       "      <td>38.947223</td>\n",
       "      <td>50.714843</td>\n",
       "      <td>59.350050</td>\n",
       "      <td>17.696654</td>\n",
       "      <td>81.957887</td>\n",
       "      <td>31.782188</td>\n",
       "    </tr>\n",
       "    <tr>\n",
       "      <th>7558</th>\n",
       "      <td>62.988912</td>\n",
       "      <td>172.047372</td>\n",
       "      <td>19.442010</td>\n",
       "      <td>158.371211</td>\n",
       "      <td>16.448459</td>\n",
       "      <td>42.320779</td>\n",
       "      <td>184.096060</td>\n",
       "      <td>33.478736</td>\n",
       "      <td>38.674459</td>\n",
       "      <td>22.501909</td>\n",
       "      <td>...</td>\n",
       "      <td>101.002363</td>\n",
       "      <td>32.031040</td>\n",
       "      <td>64.229936</td>\n",
       "      <td>48.562855</td>\n",
       "      <td>38.655810</td>\n",
       "      <td>50.392955</td>\n",
       "      <td>60.234903</td>\n",
       "      <td>17.644191</td>\n",
       "      <td>81.992681</td>\n",
       "      <td>32.102720</td>\n",
       "    </tr>\n",
       "    <tr>\n",
       "      <th>7559</th>\n",
       "      <td>64.084110</td>\n",
       "      <td>171.038292</td>\n",
       "      <td>19.473866</td>\n",
       "      <td>159.263893</td>\n",
       "      <td>16.441124</td>\n",
       "      <td>42.129486</td>\n",
       "      <td>187.330502</td>\n",
       "      <td>33.358781</td>\n",
       "      <td>38.474226</td>\n",
       "      <td>22.618108</td>\n",
       "      <td>...</td>\n",
       "      <td>102.129518</td>\n",
       "      <td>32.328951</td>\n",
       "      <td>63.758357</td>\n",
       "      <td>48.456931</td>\n",
       "      <td>38.616684</td>\n",
       "      <td>50.357140</td>\n",
       "      <td>60.322048</td>\n",
       "      <td>17.425932</td>\n",
       "      <td>80.772015</td>\n",
       "      <td>32.574027</td>\n",
       "    </tr>\n",
       "    <tr>\n",
       "      <th>7560</th>\n",
       "      <td>63.220934</td>\n",
       "      <td>170.549906</td>\n",
       "      <td>19.548674</td>\n",
       "      <td>157.628497</td>\n",
       "      <td>16.294192</td>\n",
       "      <td>42.674075</td>\n",
       "      <td>190.840863</td>\n",
       "      <td>33.744250</td>\n",
       "      <td>38.599322</td>\n",
       "      <td>22.662739</td>\n",
       "      <td>...</td>\n",
       "      <td>100.305189</td>\n",
       "      <td>32.277300</td>\n",
       "      <td>63.254136</td>\n",
       "      <td>48.620525</td>\n",
       "      <td>38.764726</td>\n",
       "      <td>50.104122</td>\n",
       "      <td>60.905929</td>\n",
       "      <td>17.241182</td>\n",
       "      <td>81.715756</td>\n",
       "      <td>32.771287</td>\n",
       "    </tr>\n",
       "  </tbody>\n",
       "</table>\n",
       "<p>7561 rows × 500 columns</p>\n",
       "</div>"
      ],
      "text/plain": [
       "            0           1          2           3          4          5    \\\n",
       "0      1.000000    1.000000   1.000000    1.000000   1.000000   1.000000   \n",
       "1      0.999461    1.007180   1.006174    0.999665   0.989746   0.989928   \n",
       "2      0.985741    1.022494   1.004492    1.005401   0.982288   0.981517   \n",
       "3      0.980264    1.010736   1.011377    1.015174   0.978425   0.998349   \n",
       "4      0.991141    1.042951   1.025218    1.031182   0.973208   0.986998   \n",
       "...         ...         ...        ...         ...        ...        ...   \n",
       "7556  63.136766  171.764463  19.856279  152.882315  16.363781  42.547573   \n",
       "7557  62.436175  173.055727  19.626088  155.544182  16.257595  42.635924   \n",
       "7558  62.988912  172.047372  19.442010  158.371211  16.448459  42.320779   \n",
       "7559  64.084110  171.038292  19.473866  159.263893  16.441124  42.129486   \n",
       "7560  63.220934  170.549906  19.548674  157.628497  16.294192  42.674075   \n",
       "\n",
       "             6          7          8          9    ...         490        491  \\\n",
       "0       1.000000   1.000000   1.000000   1.000000  ...    1.000000   1.000000   \n",
       "1       1.004550   0.999303   1.007595   1.001493  ...    0.998256   0.994583   \n",
       "2       1.007704   1.001709   1.027839   0.996033  ...    0.996243   0.984988   \n",
       "3       0.994136   1.001376   1.023886   0.999317  ...    0.993840   0.990953   \n",
       "4       0.995589   0.998927   1.025372   0.994771  ...    0.996058   0.991133   \n",
       "...          ...        ...        ...        ...  ...         ...        ...   \n",
       "7556  182.255683  34.078302  39.352417  22.692935  ...  100.769107  31.475367   \n",
       "7557  181.319381  34.066288  39.214047  22.608661  ...  101.486418  31.736106   \n",
       "7558  184.096060  33.478736  38.674459  22.501909  ...  101.002363  32.031040   \n",
       "7559  187.330502  33.358781  38.474226  22.618108  ...  102.129518  32.328951   \n",
       "7560  190.840863  33.744250  38.599322  22.662739  ...  100.305189  32.277300   \n",
       "\n",
       "            492        493        494        495        496        497  \\\n",
       "0      1.000000   1.000000   1.000000   1.000000   1.000000   1.000000   \n",
       "1      0.990898   1.000106   1.002460   0.997090   1.001610   0.997570   \n",
       "2      0.983279   0.990734   1.013670   0.989316   0.996563   0.996694   \n",
       "3      0.996370   0.979579   1.008376   0.989676   0.995795   0.998798   \n",
       "4      1.012381   0.987820   1.019132   1.005019   0.995087   0.999553   \n",
       "...         ...        ...        ...        ...        ...        ...   \n",
       "7556  64.094103  48.457703  38.836861  50.390477  59.294861  17.708245   \n",
       "7557  64.016349  48.932894  38.947223  50.714843  59.350050  17.696654   \n",
       "7558  64.229936  48.562855  38.655810  50.392955  60.234903  17.644191   \n",
       "7559  63.758357  48.456931  38.616684  50.357140  60.322048  17.425932   \n",
       "7560  63.254136  48.620525  38.764726  50.104122  60.905929  17.241182   \n",
       "\n",
       "            498        499  \n",
       "0      1.000000   1.000000  \n",
       "1      0.993347   1.006209  \n",
       "2      1.001949   1.003987  \n",
       "3      1.008271   1.010341  \n",
       "4      1.015201   0.999168  \n",
       "...         ...        ...  \n",
       "7556  82.155422  30.950402  \n",
       "7557  81.957887  31.782188  \n",
       "7558  81.992681  32.102720  \n",
       "7559  80.772015  32.574027  \n",
       "7560  81.715756  32.771287  \n",
       "\n",
       "[7561 rows x 500 columns]"
      ]
     },
     "execution_count": 44,
     "metadata": {},
     "output_type": "execute_result"
    }
   ],
   "source": [
    "# Run the Monte Carlo simulation to forecast 30 years cumulative returns\n",
    "MC_thirty_year.calc_cumulative_return()"
   ]
  },
  {
   "cell_type": "code",
   "execution_count": 58,
   "metadata": {},
   "outputs": [
    {
     "data": {
      "image/png": "[encoded data removed]",
      "text/plain": [
       "<Figure size 432x288 with 1 Axes>"
      ]
     },
     "metadata": {
      "needs_background": "light"
     },
     "output_type": "display_data"
    }
   ],
   "source": [
    "# Visualize the 30-year Monte Carlo simulation by creating an overlay line plot\n",
    "MC_sim_line_plot = MC_thirty_year.plot_simulation()\n"
   ]
  },
  {
   "cell_type": "markdown",
   "metadata": {},
   "source": [
    "#### Step 3: Plot the probability distribution of the Monte Carlo simulation."
   ]
  },
  {
   "cell_type": "code",
   "execution_count": 46,
   "metadata": {},
   "outputs": [
    {
     "data": {
      "image/png": "[encoded data removed]",
      "text/plain": [
       "<Figure size 432x288 with 1 Axes>"
      ]
     },
     "metadata": {
      "needs_background": "light"
     },
     "output_type": "display_data"
    }
   ],
   "source": [
    "# Visualize the probability distribution of the 30-year Monte Carlo simulation by plotting a histogram\n",
    "MC_sim_dist_plot = MC_thirty_year.plot_distribution()\n"
   ]
  },
  {
   "cell_type": "markdown",
   "metadata": {},
   "source": [
    "#### Step 4: Generate the summary statistics for the Monte Carlo simulation."
   ]
  },
  {
   "cell_type": "code",
   "execution_count": 47,
   "metadata": {},
   "outputs": [
    {
     "data": {
      "text/plain": [
       "count           500.000000\n",
       "mean             61.766001\n",
       "std              56.541739\n",
       "min               3.473998\n",
       "25%              26.438336\n",
       "50%              45.927081\n",
       "75%              77.686226\n",
       "max             508.705542\n",
       "95% CI Lower     10.611294\n",
       "95% CI Upper    226.771827\n",
       "Name: 7560, dtype: float64"
      ]
     },
     "execution_count": 47,
     "metadata": {},
     "output_type": "execute_result"
    }
   ],
   "source": [
    "# Generate summary statistics from the 30-year Monte Carlo simulation results\n",
    "# Save the results as a variable\n",
    "MC_summary_statistics = MC_thirty_year.summarize_cumulative_return()\n",
    "\n",
    "# Review the 30-year Monte Carlo summary statistics\n",
    "MC_summary_statistics"
   ]
  },
  {
   "cell_type": "markdown",
   "metadata": {},
   "source": [
    "### Analyze the Retirement Portfolio Forecasts\n"
   ]
  },
  {
   "cell_type": "code",
   "execution_count": 59,
   "metadata": {},
   "outputs": [
    {
     "name": "stdout",
     "output_type": "stream",
     "text": [
      "     units  mkt price  total value\n",
      "AGG    200     114.33      22866.0\n",
      "SPY    110     467.26      51398.6\n"
     ]
    },
    {
     "data": {
      "text/plain": [
       "74264.6"
      ]
     },
     "execution_count": 59,
     "metadata": {},
     "output_type": "execute_result"
    }
   ],
   "source": [
    "# Print the current balance of the stock and bond portion of the members portfolio\n",
    "print(new_sb_closing_prices_df)\n",
    "stocks_bonds_value"
   ]
  },
  {
   "cell_type": "code",
   "execution_count": 60,
   "metadata": {},
   "outputs": [
    {
     "name": "stdout",
     "output_type": "stream",
     "text": [
      "788043.5150541519\n",
      "16841118.99393755\n"
     ]
    }
   ],
   "source": [
    "# Use the lower and upper `95%` confidence intervals to calculate the range of the possible outcomes for the current stock/bond portfolio\n",
    "ci_lower_thirty_cumulative_return = MC_summary_statistics[8] * stocks_bonds_value\n",
    "ci_upper_thirty_cumulative_return = MC_summary_statistics[9] * stocks_bonds_value\n",
    "\n",
    "# Print the result of your calculations\n",
    "print(ci_lower_thirty_cumulative_return)\n",
    "print(ci_upper_thirty_cumulative_return)"
   ]
  },
  {
   "cell_type": "markdown",
   "metadata": {},
   "source": [
    "## What Are the lower and upper bounds for the expected value of the portfolio with a 95% confidence interval?"
   ]
  },
  {
   "cell_type": "code",
   "execution_count": 75,
   "metadata": {},
   "outputs": [
    {
     "name": "stdout",
     "output_type": "stream",
     "text": [
      "The lower bound is $788043.52, and the upper bound is $16841118.99 with a 95% confidence\n"
     ]
    }
   ],
   "source": [
    "print(f'The lower bound is ${ci_lower_thirty_cumulative_return:.2f}, and the upper bound is ${ci_upper_thirty_cumulative_return:.2f} with a 95% confidence')"
   ]
  },
  {
   "cell_type": "markdown",
   "metadata": {},
   "source": [
    "### Forecast Cumulative Returns in 10 Years\n",
    "\n",
    "- Forecast the cumulative returns for 10 years from now. Because of the shortened investment horizon (30 years to 10 years), the portfolio needs to invest more heavily in the riskier asset&mdash;that is, stock&mdash;to help accumulate wealth for retirement. \n",
    "\n",
    "- Adjust the weights of the retirement portfolio so that the composition for the Monte Carlo simulation consists of 20% bonds and 80% stocks. \n",
    "\n",
    "- Run the simulation over 500 samples, and use the same data that the API call to Alpaca generated.\n"
   ]
  },
  {
   "cell_type": "code",
   "execution_count": 50,
   "metadata": {},
   "outputs": [
    {
     "data": {
      "text/plain": [
       "<MCForecastTools.MCSimulation at 0x18e67446cc8>"
      ]
     },
     "execution_count": 50,
     "metadata": {},
     "output_type": "execute_result"
    }
   ],
   "source": [
    "# Configure a Monte Carlo simulation to forecast 10 years cumulative returns\n",
    "# The weights should be split 20% to AGG and 80% to SPY.\n",
    "# Run 500 samples.\n",
    "MC_ten_year = MCSimulation(\n",
    "  portfolio_data = new_prices_df,\n",
    "  weights = [.20,.80],\n",
    "  num_simulation = 500,\n",
    "  num_trading_days = 252*10\n",
    ")\n",
    "\n",
    "# Review the simulation input data\n",
    "MC_ten_year"
   ]
  },
  {
   "cell_type": "code",
   "execution_count": 51,
   "metadata": {},
   "outputs": [
    {
     "name": "stdout",
     "output_type": "stream",
     "text": [
      "Running Monte Carlo simulation number 0.\n",
      "Running Monte Carlo simulation number 10.\n",
      "Running Monte Carlo simulation number 20.\n",
      "Running Monte Carlo simulation number 30.\n",
      "Running Monte Carlo simulation number 40.\n",
      "Running Monte Carlo simulation number 50.\n",
      "Running Monte Carlo simulation number 60.\n",
      "Running Monte Carlo simulation number 70.\n",
      "Running Monte Carlo simulation number 80.\n",
      "Running Monte Carlo simulation number 90.\n",
      "Running Monte Carlo simulation number 100.\n",
      "Running Monte Carlo simulation number 110.\n",
      "Running Monte Carlo simulation number 120.\n",
      "Running Monte Carlo simulation number 130.\n",
      "Running Monte Carlo simulation number 140.\n",
      "Running Monte Carlo simulation number 150.\n",
      "Running Monte Carlo simulation number 160.\n",
      "Running Monte Carlo simulation number 170.\n",
      "Running Monte Carlo simulation number 180.\n",
      "Running Monte Carlo simulation number 190.\n",
      "Running Monte Carlo simulation number 200.\n",
      "Running Monte Carlo simulation number 210.\n",
      "Running Monte Carlo simulation number 220.\n",
      "Running Monte Carlo simulation number 230.\n",
      "Running Monte Carlo simulation number 240.\n",
      "Running Monte Carlo simulation number 250.\n",
      "Running Monte Carlo simulation number 260.\n",
      "Running Monte Carlo simulation number 270.\n",
      "Running Monte Carlo simulation number 280.\n",
      "Running Monte Carlo simulation number 290.\n",
      "Running Monte Carlo simulation number 300.\n",
      "Running Monte Carlo simulation number 310.\n",
      "Running Monte Carlo simulation number 320.\n",
      "Running Monte Carlo simulation number 330.\n",
      "Running Monte Carlo simulation number 340.\n",
      "Running Monte Carlo simulation number 350.\n",
      "Running Monte Carlo simulation number 360.\n",
      "Running Monte Carlo simulation number 370.\n",
      "Running Monte Carlo simulation number 380.\n",
      "Running Monte Carlo simulation number 390.\n",
      "Running Monte Carlo simulation number 400.\n",
      "Running Monte Carlo simulation number 410.\n",
      "Running Monte Carlo simulation number 420.\n",
      "Running Monte Carlo simulation number 430.\n",
      "Running Monte Carlo simulation number 440.\n",
      "Running Monte Carlo simulation number 450.\n",
      "Running Monte Carlo simulation number 460.\n",
      "Running Monte Carlo simulation number 470.\n",
      "Running Monte Carlo simulation number 480.\n",
      "Running Monte Carlo simulation number 490.\n"
     ]
    },
    {
     "data": {
      "text/html": [
       "<div>\n",
       "<style scoped>\n",
       "    .dataframe tbody tr th:only-of-type {\n",
       "        vertical-align: middle;\n",
       "    }\n",
       "\n",
       "    .dataframe tbody tr th {\n",
       "        vertical-align: top;\n",
       "    }\n",
       "\n",
       "    .dataframe thead th {\n",
       "        text-align: right;\n",
       "    }\n",
       "</style>\n",
       "<table border=\"1\" class=\"dataframe\">\n",
       "  <thead>\n",
       "    <tr style=\"text-align: right;\">\n",
       "      <th></th>\n",
       "      <th>0</th>\n",
       "      <th>1</th>\n",
       "      <th>2</th>\n",
       "      <th>3</th>\n",
       "      <th>4</th>\n",
       "      <th>5</th>\n",
       "      <th>6</th>\n",
       "      <th>7</th>\n",
       "      <th>8</th>\n",
       "      <th>9</th>\n",
       "      <th>...</th>\n",
       "      <th>490</th>\n",
       "      <th>491</th>\n",
       "      <th>492</th>\n",
       "      <th>493</th>\n",
       "      <th>494</th>\n",
       "      <th>495</th>\n",
       "      <th>496</th>\n",
       "      <th>497</th>\n",
       "      <th>498</th>\n",
       "      <th>499</th>\n",
       "    </tr>\n",
       "  </thead>\n",
       "  <tbody>\n",
       "    <tr>\n",
       "      <th>0</th>\n",
       "      <td>1.000000</td>\n",
       "      <td>1.000000</td>\n",
       "      <td>1.000000</td>\n",
       "      <td>1.000000</td>\n",
       "      <td>1.000000</td>\n",
       "      <td>1.000000</td>\n",
       "      <td>1.000000</td>\n",
       "      <td>1.000000</td>\n",
       "      <td>1.000000</td>\n",
       "      <td>1.000000</td>\n",
       "      <td>...</td>\n",
       "      <td>1.000000</td>\n",
       "      <td>1.000000</td>\n",
       "      <td>1.000000</td>\n",
       "      <td>1.000000</td>\n",
       "      <td>1.000000</td>\n",
       "      <td>1.000000</td>\n",
       "      <td>1.000000</td>\n",
       "      <td>1.000000</td>\n",
       "      <td>1.000000</td>\n",
       "      <td>1.000000</td>\n",
       "    </tr>\n",
       "    <tr>\n",
       "      <th>1</th>\n",
       "      <td>0.993917</td>\n",
       "      <td>0.993598</td>\n",
       "      <td>1.004715</td>\n",
       "      <td>1.000362</td>\n",
       "      <td>1.007628</td>\n",
       "      <td>1.002647</td>\n",
       "      <td>0.988200</td>\n",
       "      <td>1.011414</td>\n",
       "      <td>1.000333</td>\n",
       "      <td>0.990634</td>\n",
       "      <td>...</td>\n",
       "      <td>1.002866</td>\n",
       "      <td>1.008403</td>\n",
       "      <td>0.990464</td>\n",
       "      <td>0.992055</td>\n",
       "      <td>0.992586</td>\n",
       "      <td>1.001591</td>\n",
       "      <td>0.984248</td>\n",
       "      <td>0.997624</td>\n",
       "      <td>1.006123</td>\n",
       "      <td>1.003206</td>\n",
       "    </tr>\n",
       "    <tr>\n",
       "      <th>2</th>\n",
       "      <td>0.974578</td>\n",
       "      <td>1.010165</td>\n",
       "      <td>1.011696</td>\n",
       "      <td>0.998936</td>\n",
       "      <td>0.988374</td>\n",
       "      <td>0.986922</td>\n",
       "      <td>0.985866</td>\n",
       "      <td>0.997981</td>\n",
       "      <td>1.007981</td>\n",
       "      <td>0.968743</td>\n",
       "      <td>...</td>\n",
       "      <td>0.999192</td>\n",
       "      <td>0.996486</td>\n",
       "      <td>0.982239</td>\n",
       "      <td>0.994147</td>\n",
       "      <td>1.002756</td>\n",
       "      <td>0.999333</td>\n",
       "      <td>0.997221</td>\n",
       "      <td>0.988048</td>\n",
       "      <td>0.996641</td>\n",
       "      <td>0.996964</td>\n",
       "    </tr>\n",
       "    <tr>\n",
       "      <th>3</th>\n",
       "      <td>0.958501</td>\n",
       "      <td>1.018282</td>\n",
       "      <td>0.997405</td>\n",
       "      <td>0.982808</td>\n",
       "      <td>1.014691</td>\n",
       "      <td>0.984308</td>\n",
       "      <td>0.992699</td>\n",
       "      <td>1.003735</td>\n",
       "      <td>1.011112</td>\n",
       "      <td>0.956360</td>\n",
       "      <td>...</td>\n",
       "      <td>1.011127</td>\n",
       "      <td>1.003606</td>\n",
       "      <td>0.983781</td>\n",
       "      <td>0.991422</td>\n",
       "      <td>0.987801</td>\n",
       "      <td>1.000467</td>\n",
       "      <td>0.991753</td>\n",
       "      <td>0.997517</td>\n",
       "      <td>0.982486</td>\n",
       "      <td>1.002883</td>\n",
       "    </tr>\n",
       "    <tr>\n",
       "      <th>4</th>\n",
       "      <td>0.992918</td>\n",
       "      <td>1.039058</td>\n",
       "      <td>0.994891</td>\n",
       "      <td>0.982038</td>\n",
       "      <td>1.016060</td>\n",
       "      <td>0.987661</td>\n",
       "      <td>0.994896</td>\n",
       "      <td>1.021381</td>\n",
       "      <td>0.997531</td>\n",
       "      <td>0.930906</td>\n",
       "      <td>...</td>\n",
       "      <td>1.023493</td>\n",
       "      <td>1.021372</td>\n",
       "      <td>0.995234</td>\n",
       "      <td>0.972858</td>\n",
       "      <td>0.989395</td>\n",
       "      <td>1.013983</td>\n",
       "      <td>0.993436</td>\n",
       "      <td>1.011303</td>\n",
       "      <td>0.981013</td>\n",
       "      <td>1.011334</td>\n",
       "    </tr>\n",
       "    <tr>\n",
       "      <th>...</th>\n",
       "      <td>...</td>\n",
       "      <td>...</td>\n",
       "      <td>...</td>\n",
       "      <td>...</td>\n",
       "      <td>...</td>\n",
       "      <td>...</td>\n",
       "      <td>...</td>\n",
       "      <td>...</td>\n",
       "      <td>...</td>\n",
       "      <td>...</td>\n",
       "      <td>...</td>\n",
       "      <td>...</td>\n",
       "      <td>...</td>\n",
       "      <td>...</td>\n",
       "      <td>...</td>\n",
       "      <td>...</td>\n",
       "      <td>...</td>\n",
       "      <td>...</td>\n",
       "      <td>...</td>\n",
       "      <td>...</td>\n",
       "      <td>...</td>\n",
       "    </tr>\n",
       "    <tr>\n",
       "      <th>2516</th>\n",
       "      <td>1.753573</td>\n",
       "      <td>4.962513</td>\n",
       "      <td>4.071453</td>\n",
       "      <td>3.780033</td>\n",
       "      <td>7.329248</td>\n",
       "      <td>3.001864</td>\n",
       "      <td>3.420564</td>\n",
       "      <td>11.961838</td>\n",
       "      <td>7.480283</td>\n",
       "      <td>4.169714</td>\n",
       "      <td>...</td>\n",
       "      <td>3.792387</td>\n",
       "      <td>4.250422</td>\n",
       "      <td>10.340577</td>\n",
       "      <td>4.210153</td>\n",
       "      <td>5.151230</td>\n",
       "      <td>14.908445</td>\n",
       "      <td>4.493006</td>\n",
       "      <td>11.232945</td>\n",
       "      <td>1.812335</td>\n",
       "      <td>5.412288</td>\n",
       "    </tr>\n",
       "    <tr>\n",
       "      <th>2517</th>\n",
       "      <td>1.775053</td>\n",
       "      <td>5.006306</td>\n",
       "      <td>4.104329</td>\n",
       "      <td>3.812152</td>\n",
       "      <td>7.275490</td>\n",
       "      <td>2.946768</td>\n",
       "      <td>3.439437</td>\n",
       "      <td>12.182161</td>\n",
       "      <td>7.571106</td>\n",
       "      <td>4.194894</td>\n",
       "      <td>...</td>\n",
       "      <td>3.829006</td>\n",
       "      <td>4.285407</td>\n",
       "      <td>10.328552</td>\n",
       "      <td>4.127332</td>\n",
       "      <td>4.957984</td>\n",
       "      <td>14.978157</td>\n",
       "      <td>4.534010</td>\n",
       "      <td>11.355266</td>\n",
       "      <td>1.783215</td>\n",
       "      <td>5.448173</td>\n",
       "    </tr>\n",
       "    <tr>\n",
       "      <th>2518</th>\n",
       "      <td>1.762550</td>\n",
       "      <td>5.035614</td>\n",
       "      <td>4.052157</td>\n",
       "      <td>3.806060</td>\n",
       "      <td>7.242577</td>\n",
       "      <td>2.928195</td>\n",
       "      <td>3.395408</td>\n",
       "      <td>12.270133</td>\n",
       "      <td>7.482147</td>\n",
       "      <td>4.254621</td>\n",
       "      <td>...</td>\n",
       "      <td>3.816185</td>\n",
       "      <td>4.323360</td>\n",
       "      <td>10.262437</td>\n",
       "      <td>4.093002</td>\n",
       "      <td>4.873851</td>\n",
       "      <td>14.941686</td>\n",
       "      <td>4.623289</td>\n",
       "      <td>11.611881</td>\n",
       "      <td>1.788458</td>\n",
       "      <td>5.435631</td>\n",
       "    </tr>\n",
       "    <tr>\n",
       "      <th>2519</th>\n",
       "      <td>1.771299</td>\n",
       "      <td>4.989804</td>\n",
       "      <td>4.136426</td>\n",
       "      <td>3.767453</td>\n",
       "      <td>7.232676</td>\n",
       "      <td>2.983648</td>\n",
       "      <td>3.391525</td>\n",
       "      <td>12.390160</td>\n",
       "      <td>7.478879</td>\n",
       "      <td>4.238801</td>\n",
       "      <td>...</td>\n",
       "      <td>3.800428</td>\n",
       "      <td>4.373550</td>\n",
       "      <td>10.525675</td>\n",
       "      <td>4.081814</td>\n",
       "      <td>4.839789</td>\n",
       "      <td>14.973085</td>\n",
       "      <td>4.658749</td>\n",
       "      <td>11.500089</td>\n",
       "      <td>1.833124</td>\n",
       "      <td>5.559952</td>\n",
       "    </tr>\n",
       "    <tr>\n",
       "      <th>2520</th>\n",
       "      <td>1.757720</td>\n",
       "      <td>4.895285</td>\n",
       "      <td>4.068990</td>\n",
       "      <td>3.708938</td>\n",
       "      <td>7.394257</td>\n",
       "      <td>2.940668</td>\n",
       "      <td>3.405329</td>\n",
       "      <td>12.296267</td>\n",
       "      <td>7.505378</td>\n",
       "      <td>4.260387</td>\n",
       "      <td>...</td>\n",
       "      <td>3.884813</td>\n",
       "      <td>4.333321</td>\n",
       "      <td>10.475013</td>\n",
       "      <td>4.035954</td>\n",
       "      <td>4.811388</td>\n",
       "      <td>14.719161</td>\n",
       "      <td>4.701488</td>\n",
       "      <td>11.572803</td>\n",
       "      <td>1.858202</td>\n",
       "      <td>5.444656</td>\n",
       "    </tr>\n",
       "  </tbody>\n",
       "</table>\n",
       "<p>2521 rows × 500 columns</p>\n",
       "</div>"
      ],
      "text/plain": [
       "           0         1         2         3         4         5         6    \\\n",
       "0     1.000000  1.000000  1.000000  1.000000  1.000000  1.000000  1.000000   \n",
       "1     0.993917  0.993598  1.004715  1.000362  1.007628  1.002647  0.988200   \n",
       "2     0.974578  1.010165  1.011696  0.998936  0.988374  0.986922  0.985866   \n",
       "3     0.958501  1.018282  0.997405  0.982808  1.014691  0.984308  0.992699   \n",
       "4     0.992918  1.039058  0.994891  0.982038  1.016060  0.987661  0.994896   \n",
       "...        ...       ...       ...       ...       ...       ...       ...   \n",
       "2516  1.753573  4.962513  4.071453  3.780033  7.329248  3.001864  3.420564   \n",
       "2517  1.775053  5.006306  4.104329  3.812152  7.275490  2.946768  3.439437   \n",
       "2518  1.762550  5.035614  4.052157  3.806060  7.242577  2.928195  3.395408   \n",
       "2519  1.771299  4.989804  4.136426  3.767453  7.232676  2.983648  3.391525   \n",
       "2520  1.757720  4.895285  4.068990  3.708938  7.394257  2.940668  3.405329   \n",
       "\n",
       "            7         8         9    ...       490       491        492  \\\n",
       "0      1.000000  1.000000  1.000000  ...  1.000000  1.000000   1.000000   \n",
       "1      1.011414  1.000333  0.990634  ...  1.002866  1.008403   0.990464   \n",
       "2      0.997981  1.007981  0.968743  ...  0.999192  0.996486   0.982239   \n",
       "3      1.003735  1.011112  0.956360  ...  1.011127  1.003606   0.983781   \n",
       "4      1.021381  0.997531  0.930906  ...  1.023493  1.021372   0.995234   \n",
       "...         ...       ...       ...  ...       ...       ...        ...   \n",
       "2516  11.961838  7.480283  4.169714  ...  3.792387  4.250422  10.340577   \n",
       "2517  12.182161  7.571106  4.194894  ...  3.829006  4.285407  10.328552   \n",
       "2518  12.270133  7.482147  4.254621  ...  3.816185  4.323360  10.262437   \n",
       "2519  12.390160  7.478879  4.238801  ...  3.800428  4.373550  10.525675   \n",
       "2520  12.296267  7.505378  4.260387  ...  3.884813  4.333321  10.475013   \n",
       "\n",
       "           493       494        495       496        497       498       499  \n",
       "0     1.000000  1.000000   1.000000  1.000000   1.000000  1.000000  1.000000  \n",
       "1     0.992055  0.992586   1.001591  0.984248   0.997624  1.006123  1.003206  \n",
       "2     0.994147  1.002756   0.999333  0.997221   0.988048  0.996641  0.996964  \n",
       "3     0.991422  0.987801   1.000467  0.991753   0.997517  0.982486  1.002883  \n",
       "4     0.972858  0.989395   1.013983  0.993436   1.011303  0.981013  1.011334  \n",
       "...        ...       ...        ...       ...        ...       ...       ...  \n",
       "2516  4.210153  5.151230  14.908445  4.493006  11.232945  1.812335  5.412288  \n",
       "2517  4.127332  4.957984  14.978157  4.534010  11.355266  1.783215  5.448173  \n",
       "2518  4.093002  4.873851  14.941686  4.623289  11.611881  1.788458  5.435631  \n",
       "2519  4.081814  4.839789  14.973085  4.658749  11.500089  1.833124  5.559952  \n",
       "2520  4.035954  4.811388  14.719161  4.701488  11.572803  1.858202  5.444656  \n",
       "\n",
       "[2521 rows x 500 columns]"
      ]
     },
     "execution_count": 51,
     "metadata": {},
     "output_type": "execute_result"
    }
   ],
   "source": [
    "# Run the Monte Carlo simulation to forecast 10 years cumulative returns\n",
    "MC_ten_year.calc_cumulative_return()"
   ]
  },
  {
   "cell_type": "code",
   "execution_count": 52,
   "metadata": {},
   "outputs": [
    {
     "data": {
      "image/png": "[encoded data removed]",
      "text/plain": [
       "<Figure size 432x288 with 1 Axes>"
      ]
     },
     "metadata": {
      "needs_background": "light"
     },
     "output_type": "display_data"
    }
   ],
   "source": [
    "# Visualize the 10-year Monte Carlo simulation by creating an overlay line plot\n",
    "MC_sim_line_plot = MC_ten_year.plot_simulation()"
   ]
  },
  {
   "cell_type": "code",
   "execution_count": 53,
   "metadata": {},
   "outputs": [
    {
     "data": {
      "image/png": "[encoded data removed]",
      "text/plain": [
       "<Figure size 432x288 with 1 Axes>"
      ]
     },
     "metadata": {
      "needs_background": "light"
     },
     "output_type": "display_data"
    }
   ],
   "source": [
    "# Visualize the probability distribution of the 10-year Monte Carlo simulation by plotting a histogram\n",
    "MC_sim_dist_plot = MC_thirty_year.plot_distribution()"
   ]
  },
  {
   "cell_type": "code",
   "execution_count": 54,
   "metadata": {},
   "outputs": [
    {
     "data": {
      "text/plain": [
       "count           500.000000\n",
       "mean              5.664675\n",
       "std               3.386158\n",
       "min               0.859577\n",
       "25%               3.325256\n",
       "50%               4.804462\n",
       "75%               7.090894\n",
       "max              24.910457\n",
       "95% CI Lower      1.514211\n",
       "95% CI Upper     14.307476\n",
       "Name: 2520, dtype: float64"
      ]
     },
     "execution_count": 54,
     "metadata": {},
     "output_type": "execute_result"
    }
   ],
   "source": [
    "# Generate summary statistics from the 10-year Monte Carlo simulation results\n",
    "# Save the results as a variable\n",
    "MC_ten_summary_statistics = MC_ten_year.summarize_cumulative_return()\n",
    "\n",
    "# Review the 10-year Monte Carlo summary statistics\n",
    "MC_ten_summary_statistics"
   ]
  },
  {
   "cell_type": "code",
   "execution_count": 55,
   "metadata": {},
   "outputs": [
    {
     "name": "stdout",
     "output_type": "stream",
     "text": [
      "     units  mkt price  total value\n",
      "AGG    200     114.33      22866.0\n",
      "SPY    110     467.26      51398.6\n"
     ]
    },
    {
     "data": {
      "text/plain": [
       "74264.6"
      ]
     },
     "execution_count": 55,
     "metadata": {},
     "output_type": "execute_result"
    }
   ],
   "source": [
    "# Print the current balance of the stock and bond portion of the members portfolio\n",
    "print(new_sb_closing_prices_df)\n",
    "stocks_bonds_value"
   ]
  },
  {
   "cell_type": "code",
   "execution_count": 69,
   "metadata": {},
   "outputs": [
    {
     "name": "stdout",
     "output_type": "stream",
     "text": [
      "112452.30696199457\n",
      "1062539.0053226468\n"
     ]
    }
   ],
   "source": [
    "# Use the lower and upper `95%` confidence intervals to calculate the range of the possible outcomes for the current stock/bond portfolio\n",
    "ci_lower_ten_cumulative_return = MC_ten_summary_statistics[8] * stocks_bonds_value\n",
    "ci_upper_ten_cumulative_return = MC_ten_summary_statistics[9] * stocks_bonds_value\n",
    "\n",
    "# Print the result of your calculations\n",
    "print(ci_lower_ten_cumulative_return)\n",
    "print(ci_upper_ten_cumulative_return)\n"
   ]
  },
  {
   "cell_type": "markdown",
   "metadata": {},
   "source": [
    "#### Using the current value of only the stock and bond portion of the member's portfolio and the summary statistics that you generated from the new Monte Carlo simulation, what are the lower and upper bounds for the expected value of the portfolio (with the new weights) with a 95% confidence interval?"
   ]
  },
  {
   "cell_type": "code",
   "execution_count": 72,
   "metadata": {},
   "outputs": [
    {
     "name": "stdout",
     "output_type": "stream",
     "text": [
      "Within a 95% confidence level, the lower bound of expected portfolio value is $112452.31, and the upper bound is $1062539.01.\n"
     ]
    }
   ],
   "source": [
    "print(f'Within a 95% confidence level, the lower bound of expected portfolio value is ${ci_lower_ten_cumulative_return:.2f}, and the upper bound is ${ci_upper_ten_cumulative_return:.2f}.')"
   ]
  },
  {
   "cell_type": "markdown",
   "metadata": {},
   "source": [
    "#### Will weighting the portfolio more heavily toward stocks allow the credit union members to retire after only 10 years?"
   ]
  },
  {
   "cell_type": "code",
   "execution_count": 74,
   "metadata": {},
   "outputs": [
    {
     "name": "stdout",
     "output_type": "stream",
     "text": [
      "No, there is not enough of an impact and the credit union members will still need to work. The 80% weighting of a portfolio to SPY will not impact the portfolio enough. It will be better for the investor to stay in the market longer as shown by the large gap in upper bounds between the 10-year and the 30-year\n"
     ]
    }
   ],
   "source": [
    "print(\"No, there is not enough of an impact and the credit union members will still need to work. The 80% weighting of a portfolio to SPY will not impact the portfolio enough. It will be better for the investor to stay in the market longer as shown by the large gap in upper bounds between the 10-year and the 30-year\")"
   ]
  },
  {
   "cell_type": "code",
   "execution_count": null,
   "metadata": {},
   "outputs": [],
   "source": []
  }
 ],
 "metadata": {
  "kernelspec": {
   "display_name": "dev",
   "language": "python",
   "name": "dev"
  },
  "language_info": {
   "codemirror_mode": {
    "name": "ipython",
    "version": 3
   },
   "file_extension": ".py",
   "mimetype": "text/x-python",
   "name": "python",
   "nbconvert_exporter": "python",
   "pygments_lexer": "ipython3",
   "version": "3.7.10"
  }
 },
 "nbformat": 4,
 "nbformat_minor": 4
}
